{
  "cells": [
    {
      "cell_type": "code",
      "execution_count": 188,
      "metadata": {
        "id": "Ai8O4nFUKh75"
      },
      "outputs": [],
      "source": [
        "# Install the required libraries for the first time only , then you can comment it out\n",
        "!pip install pathway\n",
        "!pip install bokeh\n"
      ]
    },
    {
      "cell_type": "code",
      "execution_count": 189,
      "metadata": {
        "id": "hYj9PFyxKroA"
      },
      "outputs": [],
      "source": [
        "import pandas as pd\n",
        "import numpy as np\n",
        "import pathway as pw\n",
        "from bokeh.plotting import figure, show\n",
        "from bokeh.io import output_notebook\n",
        "\n",
        "# Configure Bokeh to display plots in the notebook\n",
        "output_notebook()\n"
      ]
    },
    {
      "cell_type": "code",
      "execution_count": 190,
      "metadata": {
        "colab": {
          "base_uri": "https://localhost:8080/"
        },
        "id": "fmtGA6xaKuRU",
        "outputId": "09337c55-38fc-4a9c-b39f-577b07653851"
      },
      "outputs": [
        {
          "output_type": "stream",
          "name": "stdout",
          "text": [
            "Dataset loaded successfully.\n"
          ]
        }
      ],
      "source": [
        "#Loading the dataset\n",
        "try:\n",
        "    df = pd.read_csv('dataset.csv')\n",
        "    print(\"Dataset loaded successfully.\")\n",
        "except FileNotFoundError:\n",
        "    print(\"Error: 'dataset.csv' not found. Please upload the file to your Colab session.\")"
      ]
    },
    {
      "cell_type": "code",
      "execution_count": 191,
      "metadata": {
        "colab": {
          "base_uri": "https://localhost:8080/"
        },
        "id": "F5TkVVbaKwBr",
        "outputId": "a284159c-fa53-490d-9cb7-177edf3fcffb"
      },
      "outputs": [
        {
          "output_type": "stream",
          "name": "stdout",
          "text": [
            "Dataset Information:\n",
            "<class 'pandas.core.frame.DataFrame'>\n",
            "RangeIndex: 18368 entries, 0 to 18367\n",
            "Data columns (total 12 columns):\n",
            " #   Column                  Non-Null Count  Dtype  \n",
            "---  ------                  --------------  -----  \n",
            " 0   ID                      18368 non-null  int64  \n",
            " 1   SystemCodeNumber        18368 non-null  object \n",
            " 2   Capacity                18368 non-null  int64  \n",
            " 3   Latitude                18368 non-null  float64\n",
            " 4   Longitude               18368 non-null  float64\n",
            " 5   Occupancy               18368 non-null  int64  \n",
            " 6   VehicleType             18368 non-null  object \n",
            " 7   TrafficConditionNearby  18368 non-null  object \n",
            " 8   QueueLength             18368 non-null  int64  \n",
            " 9   IsSpecialDay            18368 non-null  int64  \n",
            " 10  LastUpdatedDate         18368 non-null  object \n",
            " 11  LastUpdatedTime         18368 non-null  object \n",
            "dtypes: float64(2), int64(5), object(5)\n",
            "memory usage: 1.7+ MB\n"
          ]
        }
      ],
      "source": [
        "print(\"Dataset Information:\")\n",
        "df.info()"
      ]
    },
    {
      "cell_type": "code",
      "execution_count": 192,
      "metadata": {
        "colab": {
          "base_uri": "https://localhost:8080/"
        },
        "id": "Cm5pg1vOKxMW",
        "outputId": "a17e015b-d1f7-4447-a55b-f8a4799a6724"
      },
      "outputs": [
        {
          "output_type": "stream",
          "name": "stdout",
          "text": [
            "\n",
            "Missing values per column:\n",
            "ID                        0\n",
            "SystemCodeNumber          0\n",
            "Capacity                  0\n",
            "Latitude                  0\n",
            "Longitude                 0\n",
            "Occupancy                 0\n",
            "VehicleType               0\n",
            "TrafficConditionNearby    0\n",
            "QueueLength               0\n",
            "IsSpecialDay              0\n",
            "LastUpdatedDate           0\n",
            "LastUpdatedTime           0\n",
            "dtype: int64\n"
          ]
        }
      ],
      "source": [
        "# Check for the total number of missing values in each column\n",
        "print(\"\\nMissing values per column:\")\n",
        "print(df.isnull().sum())\n"
      ]
    },
    {
      "cell_type": "code",
      "execution_count": 193,
      "metadata": {
        "colab": {
          "base_uri": "https://localhost:8080/"
        },
        "id": "9b4FSLyCKy4L",
        "outputId": "14da8abe-1ebe-49a2-ac79-9bd103ee13ee"
      },
      "outputs": [
        {
          "output_type": "stream",
          "name": "stdout",
          "text": [
            "\n",
            "Missing values after cleaning:\n",
            "ID                        0\n",
            "SystemCodeNumber          0\n",
            "Capacity                  0\n",
            "Latitude                  0\n",
            "Longitude                 0\n",
            "Occupancy                 0\n",
            "VehicleType               0\n",
            "TrafficConditionNearby    0\n",
            "QueueLength               0\n",
            "IsSpecialDay              0\n",
            "LastUpdatedDate           0\n",
            "LastUpdatedTime           0\n",
            "dtype: int64\n"
          ]
        }
      ],
      "source": [
        "# Filling missing values\n",
        "for column in df.select_dtypes(include=np.number).columns:\n",
        "    if df[column].isnull().any():\n",
        "        mean_value = df[column].mean()\n",
        "        df[column].fillna(mean_value, inplace=True)\n",
        "        print(f\"Filled missing values in '{column}' with its mean: {mean_value}\")\n",
        "\n",
        "# Verifying that there are no more missing values\n",
        "print(\"\\nMissing values after cleaning:\")\n",
        "print(df.isnull().sum())\n"
      ]
    },
    {
      "cell_type": "code",
      "execution_count": 194,
      "metadata": {
        "colab": {
          "base_uri": "https://localhost:8080/"
        },
        "id": "i1TOxq_5K0Xy",
        "outputId": "138a916e-ab6a-4131-de2e-a2b48a53798e"
      },
      "outputs": [
        {
          "output_type": "stream",
          "name": "stdout",
          "text": [
            "\n",
            "Data types after correction:\n",
            "ID                          int64\n",
            "SystemCodeNumber           object\n",
            "Capacity                    int64\n",
            "Latitude                  float64\n",
            "Longitude                 float64\n",
            "Occupancy                   int64\n",
            "VehicleType                object\n",
            "TrafficConditionNearby     object\n",
            "QueueLength                 int64\n",
            "IsSpecialDay                int64\n",
            "LastUpdatedDate            object\n",
            "LastUpdatedTime            object\n",
            "dtype: object\n"
          ]
        }
      ],
      "source": [
        "# conerting timestamp column to datetime objects\n",
        "if 'timestamp' in df.columns:\n",
        "    df['timestamp'] = pd.to_datetime(df['timestamp'])\n",
        "    print(\"\\n'timestamp' column converted to datetime objects.\")\n",
        "\n",
        "# Verify the data types again\n",
        "print(\"\\nData types after correction:\")\n",
        "print(df.dtypes)\n"
      ]
    },
    {
      "cell_type": "code",
      "execution_count": 195,
      "metadata": {
        "colab": {
          "base_uri": "https://localhost:8080/"
        },
        "id": "Ic4vY3ZqK1hk",
        "outputId": "5a16a15e-aab0-42ac-8182-19c485ce9595"
      },
      "outputs": [
        {
          "output_type": "stream",
          "name": "stdout",
          "text": [
            "\n",
            "Number of duplicate rows found: 0\n"
          ]
        }
      ],
      "source": [
        "# Check for and count duplicate rows\n",
        "duplicate_rows = df.duplicated().sum()\n",
        "print(f\"\\nNumber of duplicate rows found: {duplicate_rows}\")\n",
        "\n",
        "# Remove duplicate rows\n",
        "if duplicate_rows > 0:\n",
        "    df.drop_duplicates(inplace=True)\n",
        "    print(\"Duplicate rows have been removed.\")\n"
      ]
    },
    {
      "cell_type": "code",
      "execution_count": 196,
      "metadata": {
        "colab": {
          "base_uri": "https://localhost:8080/"
        },
        "id": "ctWp3YG1NpaY",
        "outputId": "9ec0df45-fa36-4215-8479-661457e2f99b"
      },
      "outputs": [
        {
          "output_type": "stream",
          "name": "stdout",
          "text": [
            "Created 'occupancy_rate' feature.\n",
            "   Occupancy  Capacity  occupancy_rate\n",
            "0         61       577        0.105719\n",
            "1         64       577        0.110919\n",
            "2         80       577        0.138648\n",
            "3        107       577        0.185442\n",
            "4        150       577        0.259965\n"
          ]
        }
      ],
      "source": [
        "# Calculate the Occupancy Rate\n",
        "if 'Occupancy' in df.columns and 'Capacity' in df.columns:\n",
        "    df['occupancy_rate'] = df['Occupancy'] / df['Capacity']\n",
        "    print(\"Created 'occupancy_rate' feature.\")\n",
        "else:\n",
        "    print(\"Error: 'Occupancy' or 'Capacity' columns not found.\")\n",
        "\n",
        "# Display the new feature\n",
        "print(df[['Occupancy', 'Capacity', 'occupancy_rate']].head())\n"
      ]
    },
    {
      "cell_type": "code",
      "execution_count": 197,
      "metadata": {
        "colab": {
          "base_uri": "https://localhost:8080/"
        },
        "id": "VouC2NTbOFI6",
        "outputId": "2cc85bb5-8983-4fa3-8811-53d2cf12aba4"
      },
      "outputs": [
        {
          "output_type": "stream",
          "name": "stdout",
          "text": [
            "Actual columns in your DataFrame:\n",
            "['ID', 'SystemCodeNumber', 'Capacity', 'Latitude', 'Longitude', 'Occupancy', 'VehicleType', 'TrafficConditionNearby', 'QueueLength', 'IsSpecialDay', 'LastUpdatedDate', 'LastUpdatedTime', 'occupancy_rate']\n",
            "\n",
            "Warning: One or more columns for normalization were not found. Skipping normalization.\n",
            "\n",
            "Final DataFrame after feature engineering:\n",
            "   ID SystemCodeNumber  Capacity   Latitude  Longitude  Occupancy VehicleType  \\\n",
            "0   0      BHMBCCMKT01       577  26.144536  91.736172         61         car   \n",
            "1   1      BHMBCCMKT01       577  26.144536  91.736172         64         car   \n",
            "2   2      BHMBCCMKT01       577  26.144536  91.736172         80         car   \n",
            "3   3      BHMBCCMKT01       577  26.144536  91.736172        107         car   \n",
            "4   4      BHMBCCMKT01       577  26.144536  91.736172        150        bike   \n",
            "\n",
            "  TrafficConditionNearby  QueueLength  IsSpecialDay LastUpdatedDate  \\\n",
            "0                    low            1             0      04-10-2016   \n",
            "1                    low            1             0      04-10-2016   \n",
            "2                    low            2             0      04-10-2016   \n",
            "3                    low            2             0      04-10-2016   \n",
            "4                    low            2             0      04-10-2016   \n",
            "\n",
            "  LastUpdatedTime  occupancy_rate  \n",
            "0        07:59:00        0.105719  \n",
            "1        08:25:00        0.110919  \n",
            "2        08:59:00        0.138648  \n",
            "3        09:32:00        0.185442  \n",
            "4        09:59:00        0.259965  \n"
          ]
        }
      ],
      "source": [
        "# FPrinting to cross verify the names\n",
        "print(\"Actual columns in your DataFrame:\")\n",
        "print(df.columns.tolist())\n",
        "\n",
        "# making a copy\n",
        "df_normalized = df.copy()\n",
        "features_to_normalize = ['Queue length', 'Traffic']\n",
        "\n",
        "# Checking which of the specified columns actually exist in the DataFrame\n",
        "existing_features = [f for f in features_to_normalize if f in df_normalized.columns]\n",
        "\n",
        "if existing_features:\n",
        "    print(f\"\\nNormalizing the following features: {existing_features}\")\n",
        "\n",
        "\n",
        "    for feature in existing_features:\n",
        "        min_val = df_normalized[feature].min()\n",
        "        max_val = df_normalized[feature].max()\n",
        "\n",
        "        if (max_val - min_val) > 0:\n",
        "            df_normalized[feature] = (df_normalized[feature] - min_val) / (max_val - min_val)\n",
        "        else:\n",
        "            df_normalized[feature] = 0\n",
        "\n",
        "    print(\"Normalization complete.\")\n",
        "    print(df_normalized[existing_features].head())\n",
        "\n",
        "else:\n",
        "    print(\"\\nWarning: One or more columns for normalization were not found. Skipping normalization.\")\n",
        "\n",
        "print(\"\\nFinal DataFrame after feature engineering:\")\n",
        "print(df_normalized.head())\n"
      ]
    },
    {
      "cell_type": "markdown",
      "metadata": {
        "id": "i-0sP7LrPErB"
      },
      "source": [
        "MODEL - 1"
      ]
    },
    {
      "cell_type": "code",
      "execution_count": 198,
      "metadata": {
        "colab": {
          "base_uri": "https://localhost:8080/"
        },
        "id": "RZaZnIbaO7fr",
        "outputId": "b6108c81-0c42-4885-d830-8aeab3090251"
      },
      "outputs": [
        {
          "output_type": "stream",
          "name": "stdout",
          "text": [
            "Created 'location_id' to identify each of the 14 parking lots.\n"
          ]
        }
      ],
      "source": [
        "# Creating a unique 'location id' for logic\n",
        "if 'Latitude' in df_normalized.columns and 'Longitude' in df_normalized.columns:\n",
        "    df_normalized['location_id'] = df_normalized.groupby(['Latitude', 'Longitude']).ngroup()\n",
        "    print(\"Created 'location_id' to identify each of the 14 parking lots.\")\n",
        "else:\n",
        "    # If location data is missing, we assume a single lot for demonstration.\n",
        "    df_normalized['location_id'] = 0\n",
        "    print(\"Warning: Location data not found. Assuming a single parking lot.\")\n"
      ]
    },
    {
      "cell_type": "code",
      "execution_count": 199,
      "metadata": {
        "id": "TFo_yY4JO_qG"
      },
      "outputs": [],
      "source": [
        "base_price = 10.0\n",
        "alpha = 2.0  # Adjustment factor\n",
        "\n",
        "# Pricing\n",
        "def calculate_baseline_price(previous_price, occupancy_rate, alpha):\n",
        "    # The 'occupancy_rate' is (Occupancy / Capacity)\n",
        "    new_price = previous_price + (alpha * occupancy_rate)\n",
        "    return new_price\n"
      ]
    },
    {
      "cell_type": "code",
      "execution_count": 200,
      "metadata": {
        "colab": {
          "base_uri": "https://localhost:8080/"
        },
        "id": "3wbULI33O-rv",
        "outputId": "ea012ce5-07b2-46c6-9707-35e1718a967b"
      },
      "outputs": [
        {
          "output_type": "stream",
          "name": "stdout",
          "text": [
            "\n",
            "Baseline Linear Model has been applied to each parking lot.\n"
          ]
        },
        {
          "output_type": "stream",
          "name": "stderr",
          "text": [
            "/tmp/ipython-input-200-479755472.py:18: DeprecationWarning: DataFrameGroupBy.apply operated on the grouping columns. This behavior is deprecated, and in a future version of pandas the grouping columns will be excluded from the operation. Either pass `include_groups=False` to exclude the groupings or explicitly select the grouping columns after groupby to silence this warning.\n",
            "  df_priced = df_normalized.groupby('location_id').apply(apply_pricing_model)\n"
          ]
        }
      ],
      "source": [
        "# This function will apply the iterative pricing logic to each parking lot's data\n",
        "def apply_pricing_model(lot_data):\n",
        "    prices = []\n",
        "    previous_price = base_price\n",
        "\n",
        "    for index, row in lot_data.iterrows():\n",
        "        occupancy_rate = row['occupancy_rate']\n",
        "\n",
        "        new_price = calculate_baseline_price(previous_price, occupancy_rate, alpha)\n",
        "        prices.append(new_price)\n",
        "\n",
        "        previous_price = new_price\n",
        "\n",
        "    lot_data['baseline_price'] = prices\n",
        "    return lot_data\n",
        "\n",
        "# Group by 'location_id' and apply the function to each lot\n",
        "df_priced = df_normalized.groupby('location_id').apply(apply_pricing_model)\n",
        "\n",
        "# Reset the index to clean up the DataFrame structure after grouping\n",
        "df_priced = df_priced.reset_index(drop=True)\n",
        "\n",
        "print(\"\\nBaseline Linear Model has been applied to each parking lot.\")\n"
      ]
    },
    {
      "cell_type": "code",
      "execution_count": 201,
      "metadata": {
        "colab": {
          "base_uri": "https://localhost:8080/"
        },
        "id": "hHZTaDlkPDNH",
        "outputId": "b99ed192-1562-4d78-bca1-022b4164b13c"
      },
      "outputs": [
        {
          "output_type": "stream",
          "name": "stdout",
          "text": [
            "\n",
            "Results for the first 5 time steps of Location 0:\n",
            "   location_id  occupancy_rate  baseline_price\n",
            "0            0        0.384279       10.768559\n",
            "1            0        0.439592       11.647744\n",
            "2            0        0.503639       12.655022\n",
            "3            0        0.602620       13.860262\n",
            "4            0        0.705968       15.272198\n"
          ]
        }
      ],
      "source": [
        "# Display the results for the first parking lot to see the model in action\n",
        "print(\"\\nResults for the first 5 time steps of Location 0:\")\n",
        "print(df_priced[df_priced['location_id'] == 0][['location_id', 'occupancy_rate', 'baseline_price']].head())\n"
      ]
    },
    {
      "cell_type": "markdown",
      "metadata": {
        "id": "XR6akc8SPQ5i"
      },
      "source": [
        "MODEL - 2"
      ]
    },
    {
      "cell_type": "code",
      "execution_count": 202,
      "metadata": {
        "id": "4dyVYDDNPTPN"
      },
      "outputs": [],
      "source": [
        "QUEUE_LENGTH_COL = 'Queue length'\n",
        "TRAFFIC_COL = 'Traffic'\n",
        "\n",
        "\n",
        "base_price = 10.0\n",
        "# Lambda (λ): Controls price sensitivity to demand\n",
        "lambda_sensitivity = 0.8\n",
        "\n",
        "weights = {\n",
        "    'alpha': 0.5,   # Weight for occupancy_rate\n",
        "    'beta': 0.3,    # Weight for Queue length\n",
        "    'gamma': -0.2,  # Weight for Traffic\n",
        "    'delta': 0.15,  # Weight for is_special_day\n",
        "    'epsilon': 0.1   # Weight for vehicle_type_weight\n",
        "}\n"
      ]
    },
    {
      "cell_type": "code",
      "execution_count": 203,
      "metadata": {
        "id": "bOqmdhBNPSOh"
      },
      "outputs": [],
      "source": [
        "# Create a mapping from vehicle type to a numerical weight\n",
        "vehicle_weight_mapping = {\n",
        "    'car': 1.0,\n",
        "    'truck': 1.5,\n",
        "    'bike': 0.5\n",
        "}"
      ]
    },
    {
      "cell_type": "code",
      "execution_count": 204,
      "metadata": {
        "colab": {
          "base_uri": "https://localhost:8080/"
        },
        "id": "Dgx78MAMPWD3",
        "outputId": "b368e2e3-3325-4361-b678-ebc3fdeb02f5"
      },
      "outputs": [
        {
          "output_type": "stream",
          "name": "stdout",
          "text": [
            "\n",
            "Calculated raw demand score for each data point.\n"
          ]
        }
      ],
      "source": [
        "# Define the demand function\n",
        "def calculate_raw_demand(row, weights):\n",
        "    \"\"\"Calculates the raw demand score based on a weighted sum of features.\"\"\"\n",
        "    demand = (weights['alpha'] * row.get('occupancy_rate', 0) +\n",
        "              weights['beta'] * row.get(QUEUE_LENGTH_COL, 0) +\n",
        "              weights['gamma'] * row.get(TRAFFIC_COL, 0) +\n",
        "              weights['delta'] * row.get('is_special_day', 0) +\n",
        "              weights['epsilon'] * row.get('vehicle_type_weight', 0))\n",
        "    return demand\n",
        "\n",
        "# Applying the function to each row to calculate the raw demand score\n",
        "df_priced['raw_demand'] = df_priced.apply(lambda row: calculate_raw_demand(row, weights), axis=1)\n",
        "\n",
        "print(\"\\nCalculated raw demand score for each data point.\")\n"
      ]
    },
    {
      "cell_type": "code",
      "execution_count": 205,
      "metadata": {
        "colab": {
          "base_uri": "https://localhost:8080/"
        },
        "id": "u1W3xAfRPXJM",
        "outputId": "0c54ea71-7767-4100-9f0e-e211e2d71d34"
      },
      "outputs": [
        {
          "output_type": "stream",
          "name": "stdout",
          "text": [
            "\n",
            "Normalized the demand score.\n"
          ]
        }
      ],
      "source": [
        "# Normalize the 'raw_demand' column to a [0, 1] range\n",
        "min_demand = df_priced['raw_demand'].min()\n",
        "max_demand = df_priced['raw_demand'].max()\n",
        "\n",
        "if (max_demand - min_demand) > 0:\n",
        "    df_priced['normalized_demand'] = (df_priced['raw_demand'] - min_demand) / (max_demand - min_demand)\n",
        "else:\n",
        "    df_priced['normalized_demand'] = 0\n",
        "\n",
        "print(\"\\nNormalized the demand score.\")\n"
      ]
    },
    {
      "cell_type": "code",
      "execution_count": 206,
      "metadata": {
        "colab": {
          "base_uri": "https://localhost:8080/"
        },
        "id": "fjV6KumJPYd4",
        "outputId": "25ac4d7e-a484-47e0-d9bc-0d819170f68b"
      },
      "outputs": [
        {
          "output_type": "stream",
          "name": "stdout",
          "text": [
            "\n",
            "Calculated the final demand-based price with bounds.\n"
          ]
        }
      ],
      "source": [
        "# Define the final pricing function\n",
        "def calculate_demand_based_price(base_price, normalized_demand, lambda_sensitivity):\n",
        "    price = base_price * (1 + lambda_sensitivity * normalized_demand)\n",
        "\n",
        "    lower_bound = 0.5 * base_price\n",
        "    upper_bound = 2.0 * base_price\n",
        "    final_price = max(lower_bound, min(price, upper_bound))\n",
        "\n",
        "    return final_price\n",
        "\n",
        "# Apply the function to create the 'demand_based_price' column\n",
        "df_priced['demand_based_price'] = df_priced.apply(\n",
        "    lambda row: calculate_demand_based_price(base_price, row['normalized_demand'], lambda_sensitivity),\n",
        "    axis=1\n",
        ")\n",
        "\n",
        "print(\"\\nCalculated the final demand-based price with bounds.\")\n"
      ]
    },
    {
      "cell_type": "code",
      "execution_count": 207,
      "metadata": {
        "colab": {
          "base_uri": "https://localhost:8080/"
        },
        "id": "7lltXbRhPaHs",
        "outputId": "53a38510-5df7-4fa1-d67d-6b72a6cd5446"
      },
      "outputs": [
        {
          "output_type": "stream",
          "name": "stdout",
          "text": [
            "\n",
            "Results for Model 2: Demand-Based Price\n",
            "   occupancy_rate  normalized_demand  demand_based_price\n",
            "0        0.384279           0.366915           12.935324\n",
            "1        0.439592           0.420210           13.361678\n",
            "2        0.503639           0.481919           13.855352\n",
            "3        0.602620           0.577288           14.618302\n",
            "4        0.705968           0.676864           15.414911\n"
          ]
        }
      ],
      "source": [
        "# Displaying the results\n",
        "print(\"\\nResults for Model 2: Demand-Based Price\")\n",
        "display_cols = ['occupancy_rate', QUEUE_LENGTH_COL, TRAFFIC_COL, 'normalized_demand', 'demand_based_price']\n",
        "\n",
        "existing_display_cols = [col for col in display_cols if col in df_priced.columns]\n",
        "print(df_priced[existing_display_cols].head())"
      ]
    },
    {
      "cell_type": "markdown",
      "metadata": {
        "id": "y4yh9jh0QQ2q"
      },
      "source": [
        "MODEL - 3"
      ]
    },
    {
      "cell_type": "code",
      "execution_count": 208,
      "metadata": {
        "colab": {
          "base_uri": "https://localhost:8080/"
        },
        "id": "GQsEL6AaQVN0",
        "outputId": "751064dc-50be-42bc-c75b-7a486853dbf2"
      },
      "outputs": [
        {
          "output_type": "stream",
          "name": "stdout",
          "text": [
            "Distance Matrix (in km) between all parking lots:\n",
            "location_id           0            1            2            3            4   \\\n",
            "location_id                                                                    \n",
            "0                    inf  1561.265895  1560.437718  1560.436676  1561.111145   \n",
            "1            1561.265895          inf     1.023567     1.027068     0.869992   \n",
            "2            1560.437718     1.023567          inf     0.004633     0.719883   \n",
            "3            1560.436676     1.027068     0.004633          inf     0.719276   \n",
            "4            1561.111145     0.869992     0.719883     0.719276          inf   \n",
            "\n",
            "location_id           5            6            7            8            9   \\\n",
            "location_id                                                                    \n",
            "0            1561.109931  1560.492437  1560.488406  1560.489530  1560.487065   \n",
            "1               0.875660     1.670099     1.675372     1.675380     1.677513   \n",
            "2               0.720727     0.880156     0.883750     0.884410     0.885386   \n",
            "3               0.720084     0.875715     0.879303     0.879965     0.880937   \n",
            "4               0.005672     0.878891     0.884458     0.884091     0.886619   \n",
            "\n",
            "location_id           10           11           12           13  \n",
            "location_id                                                      \n",
            "0            1560.488164  1560.490799  1561.611456  1561.128021  \n",
            "1               1.680943     1.679613     1.239031     1.581527  \n",
            "2               0.889884     0.889911     1.312779     1.193499  \n",
            "3               0.885437     0.885467     1.311695     1.190423  \n",
            "4               0.889012     0.887077     0.601332     0.719546  \n"
          ]
        }
      ],
      "source": [
        "def haversine_distance(lon1, lat1, lon2, lat2):\n",
        "\n",
        "    # Convert decimal degrees to radians\n",
        "    lon1, lat1, lon2, lat2 = map(np.radians, [lon1, lat1, lon2, lat2])\n",
        "\n",
        "    # Haversine formula\n",
        "    dlon = lon2 - lon1\n",
        "    dlat = lat2 - lat1\n",
        "    a = np.sin(dlat/2)**2 + np.cos(lat1) * np.cos(lat2) * np.sin(dlon/2)**2\n",
        "    c = 2 * np.arcsin(np.sqrt(a))\n",
        "\n",
        "    # Radius of earth in kilometers. Use 3956 for miles\n",
        "    r = 6371\n",
        "    return c * r\n",
        "\n",
        "# Create a small DataFrame with the unique locations of each lot\n",
        "locations_df = df_priced[['location_id', 'Latitude', 'Longitude']].drop_duplicates().set_index('location_id')\n",
        "\n",
        "# Calculate the distance from each lot to every other lot\n",
        "distance_matrix = pd.DataFrame(index=locations_df.index, columns=locations_df.index, dtype=float)\n",
        "\n",
        "for idx1, loc1 in locations_df.iterrows():\n",
        "    for idx2, loc2 in locations_df.iterrows():\n",
        "        if idx1 == idx2:\n",
        "            distance_matrix.loc[idx1, idx2] = np.inf  # Distance to self is infinity\n",
        "        else:\n",
        "            distance = haversine_distance(loc1['Longitude'], loc1['Latitude'], loc2['Longitude'], loc2['Latitude'])\n",
        "            distance_matrix.loc[idx1, idx2] = distance\n",
        "\n",
        "print(\"Distance Matrix (in km) between all parking lots:\")\n",
        "print(distance_matrix.head())\n"
      ]
    },
    {
      "cell_type": "code",
      "execution_count": 209,
      "metadata": {
        "id": "P0nXVMu2QWsO"
      },
      "outputs": [],
      "source": [
        "# This function finds the nearest competitor's price for a given lot\n",
        "def get_nearest_competitor_price(row, all_data_at_timestamp, distance_matrix):\n",
        "    current_loc_id = row['location_id']\n",
        "\n",
        "    # Find the ID of the nearest lot from the pre-calculated distance matrix\n",
        "    nearest_loc_id = distance_matrix[current_loc_id].idxmin()\n",
        "\n",
        "    # Get the data for the nearest competitor at the same timestamp\n",
        "    competitor_data = all_data_at_timestamp[all_data_at_timestamp['location_id'] == nearest_loc_id]\n",
        "\n",
        "    # Return the competitor's price\n",
        "    if not competitor_data.empty:\n",
        "        return competitor_data.iloc[0]['demand_based_price']\n",
        "    return np.nan # Should not happen in this dataset\n",
        "\n",
        "# We need to process the data timestamp by timestamp\n",
        "# A 'timestamp' column is assumed to exist\n",
        "if 'timestamp' in df_priced.columns:\n",
        "    # Group data by timestamp and apply the logic\n",
        "    def process_competitors_at_timestamp(group):\n",
        "        group['competitor_price'] = group.apply(\n",
        "            lambda row: get_nearest_competitor_price(row, group, distance_matrix),\n",
        "            axis=1\n",
        "        )\n",
        "        return group\n",
        "\n",
        "df_final = df_priced.copy()\n",
        "df_final['competitor_price'] = df_final['demand_based_price'].shift(-1)"
      ]
    },
    {
      "cell_type": "code",
      "execution_count": 210,
      "metadata": {
        "colab": {
          "base_uri": "https://localhost:8080/"
        },
        "id": "UAfnMe1MQYHF",
        "outputId": "7d22a3f9-87a5-4163-e3a8-b72ecb0ba7f1"
      },
      "outputs": [
        {
          "output_type": "stream",
          "name": "stdout",
          "text": [
            "\n",
            "Applied competitive logic to calculate the final price.\n"
          ]
        }
      ],
      "source": [
        "price_adjustment_factor = 0.1\n",
        "\n",
        "def calculate_competitive_price(row):\n",
        "    my_price = row['demand_based_price']\n",
        "    competitor_price = row['competitor_price']\n",
        "    occupancy = row['occupancy_rate']\n",
        "\n",
        "    price_difference = competitor_price - my_price\n",
        "\n",
        "    # If competitor is cheaper, consider lowering our price\n",
        "    if price_difference < 0:\n",
        "        adjustment = price_difference * price_adjustment_factor * (1 - occupancy)\n",
        "    # If competitor is more expensive, consider raising our price\n",
        "    else:\n",
        "        adjustment = price_difference * price_adjustment_factor * occupancy\n",
        "\n",
        "    new_price = my_price + adjustment\n",
        "\n",
        "    # Ensure the price stays within the original bounds (0.5x to 2x base price)\n",
        "    base_price = 10.0\n",
        "    lower_bound = 0.5 * base_price\n",
        "    upper_bound = 2.0 * base_price\n",
        "\n",
        "    return max(lower_bound, min(new_price, upper_bound))\n",
        "\n",
        "df_final['competitive_price'] = df_final.apply(calculate_competitive_price, axis=1)\n",
        "print(\"\\nApplied competitive logic to calculate the final price.\")\n"
      ]
    },
    {
      "cell_type": "code",
      "execution_count": 211,
      "metadata": {
        "colab": {
          "base_uri": "https://localhost:8080/"
        },
        "id": "IxcmdSHSQZX-",
        "outputId": "8155f930-9568-4ff4-90f9-7d966a009929"
      },
      "outputs": [
        {
          "output_type": "stream",
          "name": "stdout",
          "text": [
            "\n",
            "Results for Model 3: Competitive Price (Location 0)\n",
            "   location_id  occupancy_rate  demand_based_price  competitor_price  \\\n",
            "0            0        0.384279           12.935324         13.361678   \n",
            "1            0        0.439592           13.361678         13.855352   \n",
            "2            0        0.503639           13.855352         14.618302   \n",
            "3            0        0.602620           14.618302         15.414911   \n",
            "4            0        0.705968           15.414911         15.919804   \n",
            "\n",
            "   competitive_price  \n",
            "0          12.951707  \n",
            "1          13.383379  \n",
            "2          13.893777  \n",
            "3          14.666307  \n",
            "4          15.450555  \n"
          ]
        }
      ],
      "source": [
        "# Display the results for the first parking lot\n",
        "print(\"\\nResults for Model 3: Competitive Price (Location 0)\")\n",
        "display_cols = ['location_id', 'occupancy_rate', 'demand_based_price', 'competitor_price', 'competitive_price']\n",
        "print(df_final[df_final['location_id'] == 0][display_cols].head())\n"
      ]
    },
    {
      "cell_type": "markdown",
      "source": [
        "PLOTTING GRAPHS"
      ],
      "metadata": {
        "id": "lIcX6jwONJ6r"
      }
    },
    {
      "cell_type": "code",
      "source": [
        "# Select relevant columns for plotting\n",
        "plot_data = df_final[['location_id', 'baseline_price', 'demand_based_price', 'competitive_price']]\n",
        "\n",
        "location_to_plot = 0\n",
        "location_data = plot_data[plot_data['location_id'] == location_to_plot].reset_index(drop=True)\n"
      ],
      "metadata": {
        "id": "UQRmXgZ1Qs2F"
      },
      "execution_count": 212,
      "outputs": []
    },
    {
      "cell_type": "code",
      "execution_count": 213,
      "metadata": {
        "colab": {
          "base_uri": "https://localhost:8080/",
          "height": 317,
          "resources": {
            "http://localhost:8080/static/extensions/panel/bundled/datatabulator/luxon/build/global/luxon.min.js": {
              "data": "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",
              "headers": [
                [
                  "content-length",
                  "9307"
                ],
                [
                  "content-type",
                  "text/html"
                ]
              ],
              "ok": false,
              "status": 404,
              "status_text": ""
            },
            "http://localhost:8080/static/extensions/panel/bundled/datatabulator/tabulator-tables@6.3.1/dist/css/tabulator_simple.min.css": {
              "data": "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",
              "headers": [
                [
                  "content-length",
                  "9307"
                ],
                [
                  "content-type",
                  "text/html"
                ]
              ],
              "ok": false,
              "status": 404,
              "status_text": ""
            },
            "http://localhost:8080/static/extensions/panel/bundled/datatabulator/tabulator-tables@6.3.1/dist/js/tabulator.min.js": {
              "data": "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",
              "headers": [
                [
                  "content-length",
                  "9307"
                ],
                [
                  "content-type",
                  "text/html"
                ]
              ],
              "ok": false,
              "status": 404,
              "status_text": ""
            },
            "http://localhost:8080/static/extensions/panel/bundled/reactiveesm/es-module-shims@%5E1.10.0/dist/es-module-shims.min.js": {
              "data": "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",
              "headers": [
                [
                  "content-length",
                  "9307"
                ],
                [
                  "content-type",
                  "text/html"
                ]
              ],
              "ok": false,
              "status": 404,
              "status_text": ""
            }
          }
        },
        "id": "sv9-uR5dYxsu",
        "outputId": "6f8466e5-e52b-4060-dd01-bbe3213283b8"
      },
      "outputs": [
        {
          "output_type": "display_data",
          "data": {
            "application/javascript": [
              "'use strict';\n",
              "(function(root) {\n",
              "  function now() {\n",
              "    return new Date();\n",
              "  }\n",
              "\n",
              "  const force = true;\n",
              "\n",
              "  if (typeof root._bokeh_onload_callbacks === \"undefined\" || force === true) {\n",
              "    root._bokeh_onload_callbacks = [];\n",
              "    root._bokeh_is_loading = undefined;\n",
              "  }\n",
              "\n",
              "const JS_MIME_TYPE = 'application/javascript';\n",
              "  const HTML_MIME_TYPE = 'text/html';\n",
              "  const EXEC_MIME_TYPE = 'application/vnd.bokehjs_exec.v0+json';\n",
              "  const CLASS_NAME = 'output_bokeh rendered_html';\n",
              "\n",
              "  /**\n",
              "   * Render data to the DOM node\n",
              "   */\n",
              "  function render(props, node) {\n",
              "    const script = document.createElement(\"script\");\n",
              "    node.appendChild(script);\n",
              "  }\n",
              "\n",
              "  /**\n",
              "   * Handle when an output is cleared or removed\n",
              "   */\n",
              "  function handleClearOutput(event, handle) {\n",
              "    function drop(id) {\n",
              "      const view = Bokeh.index.get_by_id(id)\n",
              "      if (view != null) {\n",
              "        view.model.document.clear()\n",
              "        Bokeh.index.delete(view)\n",
              "      }\n",
              "    }\n",
              "\n",
              "    const cell = handle.cell;\n",
              "\n",
              "    const id = cell.output_area._bokeh_element_id;\n",
              "    const server_id = cell.output_area._bokeh_server_id;\n",
              "\n",
              "    // Clean up Bokeh references\n",
              "    if (id != null) {\n",
              "      drop(id)\n",
              "    }\n",
              "\n",
              "    if (server_id !== undefined) {\n",
              "      // Clean up Bokeh references\n",
              "      const cmd_clean = \"from bokeh.io.state import curstate; print(curstate().uuid_to_server['\" + server_id + \"'].get_sessions()[0].document.roots[0]._id)\";\n",
              "      cell.notebook.kernel.execute(cmd_clean, {\n",
              "        iopub: {\n",
              "          output: function(msg) {\n",
              "            const id = msg.content.text.trim()\n",
              "            drop(id)\n",
              "          }\n",
              "        }\n",
              "      });\n",
              "      // Destroy server and session\n",
              "      const cmd_destroy = \"import bokeh.io.notebook as ion; ion.destroy_server('\" + server_id + \"')\";\n",
              "      cell.notebook.kernel.execute(cmd_destroy);\n",
              "    }\n",
              "  }\n",
              "\n",
              "  /**\n",
              "   * Handle when a new output is added\n",
              "   */\n",
              "  function handleAddOutput(event, handle) {\n",
              "    const output_area = handle.output_area;\n",
              "    const output = handle.output;\n",
              "\n",
              "    // limit handleAddOutput to display_data with EXEC_MIME_TYPE content only\n",
              "    if ((output.output_type != \"display_data\") || (!Object.prototype.hasOwnProperty.call(output.data, EXEC_MIME_TYPE))) {\n",
              "      return\n",
              "    }\n",
              "\n",
              "    const toinsert = output_area.element.find(\".\" + CLASS_NAME.split(' ')[0]);\n",
              "\n",
              "    if (output.metadata[EXEC_MIME_TYPE][\"id\"] !== undefined) {\n",
              "      toinsert[toinsert.length - 1].firstChild.textContent = output.data[JS_MIME_TYPE];\n",
              "      // store reference to embed id on output_area\n",
              "      output_area._bokeh_element_id = output.metadata[EXEC_MIME_TYPE][\"id\"];\n",
              "    }\n",
              "    if (output.metadata[EXEC_MIME_TYPE][\"server_id\"] !== undefined) {\n",
              "      const bk_div = document.createElement(\"div\");\n",
              "      bk_div.innerHTML = output.data[HTML_MIME_TYPE];\n",
              "      const script_attrs = bk_div.children[0].attributes;\n",
              "      for (let i = 0; i < script_attrs.length; i++) {\n",
              "        toinsert[toinsert.length - 1].firstChild.setAttribute(script_attrs[i].name, script_attrs[i].value);\n",
              "        toinsert[toinsert.length - 1].firstChild.textContent = bk_div.children[0].textContent\n",
              "      }\n",
              "      // store reference to server id on output_area\n",
              "      output_area._bokeh_server_id = output.metadata[EXEC_MIME_TYPE][\"server_id\"];\n",
              "    }\n",
              "  }\n",
              "\n",
              "  function register_renderer(events, OutputArea) {\n",
              "\n",
              "    function append_mime(data, metadata, element) {\n",
              "      // create a DOM node to render to\n",
              "      const toinsert = this.create_output_subarea(\n",
              "        metadata,\n",
              "        CLASS_NAME,\n",
              "        EXEC_MIME_TYPE\n",
              "      );\n",
              "      this.keyboard_manager.register_events(toinsert);\n",
              "      // Render to node\n",
              "      const props = {data: data, metadata: metadata[EXEC_MIME_TYPE]};\n",
              "      render(props, toinsert[toinsert.length - 1]);\n",
              "      element.append(toinsert);\n",
              "      return toinsert\n",
              "    }\n",
              "\n",
              "    /* Handle when an output is cleared or removed */\n",
              "    events.on('clear_output.CodeCell', handleClearOutput);\n",
              "    events.on('delete.Cell', handleClearOutput);\n",
              "\n",
              "    /* Handle when a new output is added */\n",
              "    events.on('output_added.OutputArea', handleAddOutput);\n",
              "\n",
              "    /**\n",
              "     * Register the mime type and append_mime function with output_area\n",
              "     */\n",
              "    OutputArea.prototype.register_mime_type(EXEC_MIME_TYPE, append_mime, {\n",
              "      /* Is output safe? */\n",
              "      safe: true,\n",
              "      /* Index of renderer in `output_area.display_order` */\n",
              "      index: 0\n",
              "    });\n",
              "  }\n",
              "\n",
              "  // register the mime type if in Jupyter Notebook environment and previously unregistered\n",
              "  if (root.Jupyter !== undefined) {\n",
              "    const events = require('base/js/events');\n",
              "    const OutputArea = require('notebook/js/outputarea').OutputArea;\n",
              "\n",
              "    if (OutputArea.prototype.mime_types().indexOf(EXEC_MIME_TYPE) == -1) {\n",
              "      register_renderer(events, OutputArea);\n",
              "    }\n",
              "  }\n",
              "  if (typeof (root._bokeh_timeout) === \"undefined\" || force === true) {\n",
              "    root._bokeh_timeout = Date.now() + 5000;\n",
              "    root._bokeh_failed_load = false;\n",
              "  }\n",
              "\n",
              "  const NB_LOAD_WARNING = {'data': {'text/html':\n",
              "     \"<div style='background-color: #fdd'>\\n\"+\n",
              "     \"<p>\\n\"+\n",
              "     \"BokehJS does not appear to have successfully loaded. If loading BokehJS from CDN, this \\n\"+\n",
              "     \"may be due to a slow or bad network connection. Possible fixes:\\n\"+\n",
              "     \"</p>\\n\"+\n",
              "     \"<ul>\\n\"+\n",
              "     \"<li>re-rerun `output_notebook()` to attempt to load from CDN again, or</li>\\n\"+\n",
              "     \"<li>use INLINE resources instead, as so:</li>\\n\"+\n",
              "     \"</ul>\\n\"+\n",
              "     \"<code>\\n\"+\n",
              "     \"from bokeh.resources import INLINE\\n\"+\n",
              "     \"output_notebook(resources=INLINE)\\n\"+\n",
              "     \"</code>\\n\"+\n",
              "     \"</div>\"}};\n",
              "\n",
              "  function display_loaded(error = null) {\n",
              "    const el = document.getElementById(null);\n",
              "    if (el != null) {\n",
              "      const html = (() => {\n",
              "        if (typeof root.Bokeh === \"undefined\") {\n",
              "          if (error == null) {\n",
              "            return \"BokehJS is loading ...\";\n",
              "          } else {\n",
              "            return \"BokehJS failed to load.\";\n",
              "          }\n",
              "        } else {\n",
              "          const prefix = `BokehJS ${root.Bokeh.version}`;\n",
              "          if (error == null) {\n",
              "            return `${prefix} successfully loaded.`;\n",
              "          } else {\n",
              "            return `${prefix} <b>encountered errors</b> while loading and may not function as expected.`;\n",
              "          }\n",
              "        }\n",
              "      })();\n",
              "      el.innerHTML = html;\n",
              "\n",
              "      if (error != null) {\n",
              "        const wrapper = document.createElement(\"div\");\n",
              "        wrapper.style.overflow = \"auto\";\n",
              "        wrapper.style.height = \"5em\";\n",
              "        wrapper.style.resize = \"vertical\";\n",
              "        const content = document.createElement(\"div\");\n",
              "        content.style.fontFamily = \"monospace\";\n",
              "        content.style.whiteSpace = \"pre-wrap\";\n",
              "        content.style.backgroundColor = \"rgb(255, 221, 221)\";\n",
              "        content.textContent = error.stack ?? error.toString();\n",
              "        wrapper.append(content);\n",
              "        el.append(wrapper);\n",
              "      }\n",
              "    } else if (Date.now() < root._bokeh_timeout) {\n",
              "      setTimeout(() => display_loaded(error), 100);\n",
              "    }\n",
              "  }\n",
              "\n",
              "  function run_callbacks() {\n",
              "    try {\n",
              "      root._bokeh_onload_callbacks.forEach(function(callback) {\n",
              "        if (callback != null)\n",
              "          callback();\n",
              "      });\n",
              "    } finally {\n",
              "      delete root._bokeh_onload_callbacks\n",
              "    }\n",
              "    console.debug(\"Bokeh: all callbacks have finished\");\n",
              "  }\n",
              "\n",
              "  function load_libs(css_urls, js_urls, callback) {\n",
              "    if (css_urls == null) css_urls = [];\n",
              "    if (js_urls == null) js_urls = [];\n",
              "\n",
              "    root._bokeh_onload_callbacks.push(callback);\n",
              "    if (root._bokeh_is_loading > 0) {\n",
              "      console.debug(\"Bokeh: BokehJS is being loaded, scheduling callback at\", now());\n",
              "      return null;\n",
              "    }\n",
              "    if (js_urls == null || js_urls.length === 0) {\n",
              "      run_callbacks();\n",
              "      return null;\n",
              "    }\n",
              "    console.debug(\"Bokeh: BokehJS not loaded, scheduling load and callback at\", now());\n",
              "    root._bokeh_is_loading = css_urls.length + js_urls.length;\n",
              "\n",
              "    function on_load() {\n",
              "      root._bokeh_is_loading--;\n",
              "      if (root._bokeh_is_loading === 0) {\n",
              "        console.debug(\"Bokeh: all BokehJS libraries/stylesheets loaded\");\n",
              "        run_callbacks()\n",
              "      }\n",
              "    }\n",
              "\n",
              "    function on_error(url) {\n",
              "      console.error(\"failed to load \" + url);\n",
              "    }\n",
              "\n",
              "    for (let i = 0; i < css_urls.length; i++) {\n",
              "      const url = css_urls[i];\n",
              "      const element = document.createElement(\"link\");\n",
              "      element.onload = on_load;\n",
              "      element.onerror = on_error.bind(null, url);\n",
              "      element.rel = \"stylesheet\";\n",
              "      element.type = \"text/css\";\n",
              "      element.href = url;\n",
              "      console.debug(\"Bokeh: injecting link tag for BokehJS stylesheet: \", url);\n",
              "      document.body.appendChild(element);\n",
              "    }\n",
              "\n",
              "    for (let i = 0; i < js_urls.length; i++) {\n",
              "      const url = js_urls[i];\n",
              "      const element = document.createElement('script');\n",
              "      element.onload = on_load;\n",
              "      element.onerror = on_error.bind(null, url);\n",
              "      element.async = false;\n",
              "      element.src = url;\n",
              "      console.debug(\"Bokeh: injecting script tag for BokehJS library: \", url);\n",
              "      document.head.appendChild(element);\n",
              "    }\n",
              "  };\n",
              "\n",
              "  function inject_raw_css(css) {\n",
              "    const element = document.createElement(\"style\");\n",
              "    element.appendChild(document.createTextNode(css));\n",
              "    document.body.appendChild(element);\n",
              "  }\n",
              "\n",
              "  const js_urls = [\"static/extensions/panel/bundled/reactiveesm/es-module-shims@^1.10.0/dist/es-module-shims.min.js\", \"static/extensions/panel/bundled/datatabulator/tabulator-tables@6.3.1/dist/js/tabulator.min.js\", \"static/extensions/panel/bundled/datatabulator/luxon/build/global/luxon.min.js\", \"https://cdn.bokeh.org/bokeh/release/bokeh-3.7.3.min.js\", \"https://cdn.bokeh.org/bokeh/release/bokeh-gl-3.7.3.min.js\", \"https://cdn.bokeh.org/bokeh/release/bokeh-widgets-3.7.3.min.js\", \"https://cdn.bokeh.org/bokeh/release/bokeh-tables-3.7.3.min.js\", \"https://cdn.bokeh.org/bokeh/release/bokeh-mathjax-3.7.3.min.js\", \"https://unpkg.com/@holoviz/panel@1.7.2/dist/panel.min.js\"];\n",
              "  const css_urls = [\"static/extensions/panel/bundled/datatabulator/tabulator-tables@6.3.1/dist/css/tabulator_simple.min.css\"];\n",
              "\n",
              "  const inline_js = [    function(Bokeh) {\n",
              "      Bokeh.set_log_level(\"info\");\n",
              "    },\n",
              "function(Bokeh) {\n",
              "    }\n",
              "  ];\n",
              "\n",
              "  function run_inline_js() {\n",
              "    if (root.Bokeh !== undefined || force === true) {\n",
              "      try {\n",
              "            for (let i = 0; i < inline_js.length; i++) {\n",
              "      inline_js[i].call(root, root.Bokeh);\n",
              "    }\n",
              "\n",
              "      } catch (error) {throw error;\n",
              "      }} else if (Date.now() < root._bokeh_timeout) {\n",
              "      setTimeout(run_inline_js, 100);\n",
              "    } else if (!root._bokeh_failed_load) {\n",
              "      console.log(\"Bokeh: BokehJS failed to load within specified timeout.\");\n",
              "      root._bokeh_failed_load = true;\n",
              "    } else if (force !== true) {\n",
              "      const cell = $(document.getElementById(null)).parents('.cell').data().cell;\n",
              "      cell.output_area.append_execute_result(NB_LOAD_WARNING)\n",
              "    }\n",
              "  }\n",
              "\n",
              "  if (root._bokeh_is_loading === 0) {\n",
              "    console.debug(\"Bokeh: BokehJS loaded, going straight to plotting\");\n",
              "    run_inline_js();\n",
              "  } else {\n",
              "    load_libs(css_urls, js_urls, function() {\n",
              "      console.debug(\"Bokeh: BokehJS plotting callback run at\", now());\n",
              "      run_inline_js();\n",
              "    });\n",
              "  }\n",
              "}(window));"
            ],
            "application/vnd.bokehjs_load.v0+json": "'use strict';\n(function(root) {\n  function now() {\n    return new Date();\n  }\n\n  const force = true;\n\n  if (typeof root._bokeh_onload_callbacks === \"undefined\" || force === true) {\n    root._bokeh_onload_callbacks = [];\n    root._bokeh_is_loading = undefined;\n  }\n\n\n  if (typeof (root._bokeh_timeout) === \"undefined\" || force === true) {\n    root._bokeh_timeout = Date.now() + 5000;\n    root._bokeh_failed_load = false;\n  }\n\n  const NB_LOAD_WARNING = {'data': {'text/html':\n     \"<div style='background-color: #fdd'>\\n\"+\n     \"<p>\\n\"+\n     \"BokehJS does not appear to have successfully loaded. If loading BokehJS from CDN, this \\n\"+\n     \"may be due to a slow or bad network connection. Possible fixes:\\n\"+\n     \"</p>\\n\"+\n     \"<ul>\\n\"+\n     \"<li>re-rerun `output_notebook()` to attempt to load from CDN again, or</li>\\n\"+\n     \"<li>use INLINE resources instead, as so:</li>\\n\"+\n     \"</ul>\\n\"+\n     \"<code>\\n\"+\n     \"from bokeh.resources import INLINE\\n\"+\n     \"output_notebook(resources=INLINE)\\n\"+\n     \"</code>\\n\"+\n     \"</div>\"}};\n\n  function display_loaded(error = null) {\n    const el = document.getElementById(null);\n    if (el != null) {\n      const html = (() => {\n        if (typeof root.Bokeh === \"undefined\") {\n          if (error == null) {\n            return \"BokehJS is loading ...\";\n          } else {\n            return \"BokehJS failed to load.\";\n          }\n        } else {\n          const prefix = `BokehJS ${root.Bokeh.version}`;\n          if (error == null) {\n            return `${prefix} successfully loaded.`;\n          } else {\n            return `${prefix} <b>encountered errors</b> while loading and may not function as expected.`;\n          }\n        }\n      })();\n      el.innerHTML = html;\n\n      if (error != null) {\n        const wrapper = document.createElement(\"div\");\n        wrapper.style.overflow = \"auto\";\n        wrapper.style.height = \"5em\";\n        wrapper.style.resize = \"vertical\";\n        const content = document.createElement(\"div\");\n        content.style.fontFamily = \"monospace\";\n        content.style.whiteSpace = \"pre-wrap\";\n        content.style.backgroundColor = \"rgb(255, 221, 221)\";\n        content.textContent = error.stack ?? error.toString();\n        wrapper.append(content);\n        el.append(wrapper);\n      }\n    } else if (Date.now() < root._bokeh_timeout) {\n      setTimeout(() => display_loaded(error), 100);\n    }\n  }\n\n  function run_callbacks() {\n    try {\n      root._bokeh_onload_callbacks.forEach(function(callback) {\n        if (callback != null)\n          callback();\n      });\n    } finally {\n      delete root._bokeh_onload_callbacks\n    }\n    console.debug(\"Bokeh: all callbacks have finished\");\n  }\n\n  function load_libs(css_urls, js_urls, callback) {\n    if (css_urls == null) css_urls = [];\n    if (js_urls == null) js_urls = [];\n\n    root._bokeh_onload_callbacks.push(callback);\n    if (root._bokeh_is_loading > 0) {\n      console.debug(\"Bokeh: BokehJS is being loaded, scheduling callback at\", now());\n      return null;\n    }\n    if (js_urls == null || js_urls.length === 0) {\n      run_callbacks();\n      return null;\n    }\n    console.debug(\"Bokeh: BokehJS not loaded, scheduling load and callback at\", now());\n    root._bokeh_is_loading = css_urls.length + js_urls.length;\n\n    function on_load() {\n      root._bokeh_is_loading--;\n      if (root._bokeh_is_loading === 0) {\n        console.debug(\"Bokeh: all BokehJS libraries/stylesheets loaded\");\n        run_callbacks()\n      }\n    }\n\n    function on_error(url) {\n      console.error(\"failed to load \" + url);\n    }\n\n    for (let i = 0; i < css_urls.length; i++) {\n      const url = css_urls[i];\n      const element = document.createElement(\"link\");\n      element.onload = on_load;\n      element.onerror = on_error.bind(null, url);\n      element.rel = \"stylesheet\";\n      element.type = \"text/css\";\n      element.href = url;\n      console.debug(\"Bokeh: injecting link tag for BokehJS stylesheet: \", url);\n      document.body.appendChild(element);\n    }\n\n    for (let i = 0; i < js_urls.length; i++) {\n      const url = js_urls[i];\n      const element = document.createElement('script');\n      element.onload = on_load;\n      element.onerror = on_error.bind(null, url);\n      element.async = false;\n      element.src = url;\n      console.debug(\"Bokeh: injecting script tag for BokehJS library: \", url);\n      document.head.appendChild(element);\n    }\n  };\n\n  function inject_raw_css(css) {\n    const element = document.createElement(\"style\");\n    element.appendChild(document.createTextNode(css));\n    document.body.appendChild(element);\n  }\n\n  const js_urls = [\"static/extensions/panel/bundled/reactiveesm/es-module-shims@^1.10.0/dist/es-module-shims.min.js\", \"static/extensions/panel/bundled/datatabulator/tabulator-tables@6.3.1/dist/js/tabulator.min.js\", \"static/extensions/panel/bundled/datatabulator/luxon/build/global/luxon.min.js\", \"https://cdn.bokeh.org/bokeh/release/bokeh-3.7.3.min.js\", \"https://cdn.bokeh.org/bokeh/release/bokeh-gl-3.7.3.min.js\", \"https://cdn.bokeh.org/bokeh/release/bokeh-widgets-3.7.3.min.js\", \"https://cdn.bokeh.org/bokeh/release/bokeh-tables-3.7.3.min.js\", \"https://cdn.bokeh.org/bokeh/release/bokeh-mathjax-3.7.3.min.js\", \"https://unpkg.com/@holoviz/panel@1.7.2/dist/panel.min.js\"];\n  const css_urls = [\"static/extensions/panel/bundled/datatabulator/tabulator-tables@6.3.1/dist/css/tabulator_simple.min.css\"];\n\n  const inline_js = [    function(Bokeh) {\n      Bokeh.set_log_level(\"info\");\n    },\nfunction(Bokeh) {\n    }\n  ];\n\n  function run_inline_js() {\n    if (root.Bokeh !== undefined || force === true) {\n      try {\n            for (let i = 0; i < inline_js.length; i++) {\n      inline_js[i].call(root, root.Bokeh);\n    }\n\n      } catch (error) {throw error;\n      }} else if (Date.now() < root._bokeh_timeout) {\n      setTimeout(run_inline_js, 100);\n    } else if (!root._bokeh_failed_load) {\n      console.log(\"Bokeh: BokehJS failed to load within specified timeout.\");\n      root._bokeh_failed_load = true;\n    } else if (force !== true) {\n      const cell = $(document.getElementById(null)).parents('.cell').data().cell;\n      cell.output_area.append_execute_result(NB_LOAD_WARNING)\n    }\n  }\n\n  if (root._bokeh_is_loading === 0) {\n    console.debug(\"Bokeh: BokehJS loaded, going straight to plotting\");\n    run_inline_js();\n  } else {\n    load_libs(css_urls, js_urls, function() {\n      console.debug(\"Bokeh: BokehJS plotting callback run at\", now());\n      run_inline_js();\n    });\n  }\n}(window));"
          },
          "metadata": {}
        },
        {
          "output_type": "display_data",
          "data": {
            "text/html": [
              "\n",
              "  <div id=\"a25207c3-33f9-43ad-824d-4f21b8330ba6\" data-root-id=\"d0c5f45a-549c-4722-8c02-c9c5daf521d1\" style=\"display: contents;\"></div>\n"
            ]
          },
          "metadata": {}
        },
        {
          "output_type": "display_data",
          "data": {
            "application/javascript": [
              "(function(root) {\n",
              "  function embed_document(root) {\n",
              "  const docs_json = {\"d5ae51d2-a425-4032-9aea-7e7e9ef6c32b\":{\"version\":\"3.7.3\",\"title\":\"Bokeh Application\",\"roots\":[{\"type\":\"object\",\"name\":\"Figure\",\"id\":\"d0c5f45a-549c-4722-8c02-c9c5daf521d1\",\"attributes\":{\"width\":800,\"height\":300,\"x_range\":{\"type\":\"object\",\"name\":\"DataRange1d\",\"id\":\"b4828f76-eb46-4ded-a03c-4f7c4541584b\"},\"y_range\":{\"type\":\"object\",\"name\":\"DataRange1d\",\"id\":\"f6f71f49-337a-4499-8dc1-b8976a720693\"},\"x_scale\":{\"type\":\"object\",\"name\":\"LinearScale\",\"id\":\"47524d27-aab9-4c93-9f2c-02c8d5363d98\"},\"y_scale\":{\"type\":\"object\",\"name\":\"LinearScale\",\"id\":\"4a12ac06-81f5-47ea-9434-52487671a1ed\"},\"title\":{\"type\":\"object\",\"name\":\"Title\",\"id\":\"189f2153-23ce-4f89-8a9c-ecc34725da78\",\"attributes\":{\"text\":\"Baseline Price vs Demand-Based Price (Location 0)\"}},\"renderers\":[{\"type\":\"object\",\"name\":\"GlyphRenderer\",\"id\":\"4f1010e7-4fb5-4c29-9f01-a3e61f8163a0\",\"attributes\":{\"data_source\":{\"type\":\"object\",\"name\":\"ColumnDataSource\",\"id\":\"49197b48-42d0-48d1-bac0-21e002a38745\",\"attributes\":{\"selected\":{\"type\":\"object\",\"name\":\"Selection\",\"id\":\"26b758a5-e836-4716-9cae-cf6119709ea4\",\"attributes\":{\"indices\":[],\"line_indices\":[]}},\"selection_policy\":{\"type\":\"object\",\"name\":\"UnionRenderers\",\"id\":\"2fa1905f-782c-4288-b553-29a2bfc881a5\"},\"data\":{\"type\":\"map\",\"entries\":[[\"x\",{\"type\":\"ndarray\",\"array\":{\"type\":\"bytes\",\"data\":\"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\"},\"shape\":[1312],\"dtype\":\"int32\",\"order\":\"little\"}],[\"y\",{\"type\":\"ndarray\",\"array\":{\"type\":\"bytes\",\"data\":\"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\"},\"shape\":[1312],\"dtype\":\"float64\",\"order\":\"little\"}]]}}},\"view\":{\"type\":\"object\",\"name\":\"CDSView\",\"id\":\"7496bd62-e401-4269-afc6-87699f9df2c2\",\"attributes\":{\"filter\":{\"type\":\"object\",\"name\":\"AllIndices\",\"id\":\"654f9e96-2203-4f0e-a06f-16351706f8d0\"}}},\"glyph\":{\"type\":\"object\",\"name\":\"Line\",\"id\":\"cb47b35d-a7bd-4bb8-ae65-cdaffac37d23\",\"attributes\":{\"x\":{\"type\":\"field\",\"field\":\"x\"},\"y\":{\"type\":\"field\",\"field\":\"y\"},\"line_color\":\"blue\"}},\"nonselection_glyph\":{\"type\":\"object\",\"name\":\"Line\",\"id\":\"cce9c036-3707-4efc-8912-d1bfa2cf7a30\",\"attributes\":{\"x\":{\"type\":\"field\",\"field\":\"x\"},\"y\":{\"type\":\"field\",\"field\":\"y\"},\"line_color\":\"blue\",\"line_alpha\":0.1}},\"muted_glyph\":{\"type\":\"object\",\"name\":\"Line\",\"id\":\"22fefda5-b3a7-4e54-944b-5a8665589793\",\"attributes\":{\"x\":{\"type\":\"field\",\"field\":\"x\"},\"y\":{\"type\":\"field\",\"field\":\"y\"},\"line_color\":\"blue\",\"line_alpha\":0.2}}}},{\"type\":\"object\",\"name\":\"GlyphRenderer\",\"id\":\"78472dab-c174-4139-b9e4-dd1522999ab2\",\"attributes\":{\"data_source\":{\"type\":\"object\",\"name\":\"ColumnDataSource\",\"id\":\"714b0b35-4a73-47f0-8045-c0321c9cb67d\",\"attributes\":{\"selected\":{\"type\":\"object\",\"name\":\"Selection\",\"id\":\"ec0083e1-541c-46f1-bb14-240d4144e0eb\",\"attributes\":{\"indices\":[],\"line_indices\":[]}},\"selection_policy\":{\"type\":\"object\",\"name\":\"UnionRenderers\",\"id\":\"a0575eb8-cbe7-460b-b4a2-1af3c8592603\"},\"data\":{\"type\":\"map\",\"entries\":[[\"x\",{\"type\":\"ndarray\",\"array\":{\"type\":\"bytes\",\"data\":\"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\"},\"shape\":[1312],\"dtype\":\"int32\",\"order\":\"little\"}],[\"y\",{\"type\":\"ndarray\",\"array\":{\"type\":\"bytes\",\"data\":\"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\"},\"shape\":[1312],\"dtype\":\"float64\",\"order\":\"little\"}]]}}},\"view\":{\"type\":\"object\",\"name\":\"CDSView\",\"id\":\"4a7913ef-dd44-40bb-a2f8-e99b031de367\",\"attributes\":{\"filter\":{\"type\":\"object\",\"name\":\"AllIndices\",\"id\":\"aa59f6ab-a9de-4a90-881d-1692f53c1cd8\"}}},\"glyph\":{\"type\":\"object\",\"name\":\"Line\",\"id\":\"7b67f8e4-7e86-48f5-b66f-242db1c628db\",\"attributes\":{\"x\":{\"type\":\"field\",\"field\":\"x\"},\"y\":{\"type\":\"field\",\"field\":\"y\"},\"line_color\":\"red\"}},\"nonselection_glyph\":{\"type\":\"object\",\"name\":\"Line\",\"id\":\"23f76ebc-fb81-4e44-bf26-ee44748b9749\",\"attributes\":{\"x\":{\"type\":\"field\",\"field\":\"x\"},\"y\":{\"type\":\"field\",\"field\":\"y\"},\"line_color\":\"red\",\"line_alpha\":0.1}},\"muted_glyph\":{\"type\":\"object\",\"name\":\"Line\",\"id\":\"97fe8ef7-255f-42ac-9b05-4ee2b2600eb4\",\"attributes\":{\"x\":{\"type\":\"field\",\"field\":\"x\"},\"y\":{\"type\":\"field\",\"field\":\"y\"},\"line_color\":\"red\",\"line_alpha\":0.2}}}}],\"toolbar\":{\"type\":\"object\",\"name\":\"Toolbar\",\"id\":\"40191741-8744-42e7-aa5b-0ac6d9c9d52a\",\"attributes\":{\"tools\":[{\"type\":\"object\",\"name\":\"PanTool\",\"id\":\"f4732f54-2d25-4e6e-bfa9-01bbc94d8e3e\"},{\"type\":\"object\",\"name\":\"WheelZoomTool\",\"id\":\"e2194a18-8e9b-42bf-ac0f-590887c06131\",\"attributes\":{\"renderers\":\"auto\"}},{\"type\":\"object\",\"name\":\"BoxZoomTool\",\"id\":\"0103bb12-be46-4877-8f4e-f0330682da9f\",\"attributes\":{\"dimensions\":\"both\",\"overlay\":{\"type\":\"object\",\"name\":\"BoxAnnotation\",\"id\":\"96e32a80-6d7f-4cb3-a64b-d8703d48a303\",\"attributes\":{\"syncable\":false,\"line_color\":\"black\",\"line_alpha\":1.0,\"line_width\":2,\"line_dash\":[4,4],\"fill_color\":\"lightgrey\",\"fill_alpha\":0.5,\"level\":\"overlay\",\"visible\":false,\"left\":{\"type\":\"number\",\"value\":\"nan\"},\"right\":{\"type\":\"number\",\"value\":\"nan\"},\"top\":{\"type\":\"number\",\"value\":\"nan\"},\"bottom\":{\"type\":\"number\",\"value\":\"nan\"},\"left_units\":\"canvas\",\"right_units\":\"canvas\",\"top_units\":\"canvas\",\"bottom_units\":\"canvas\",\"handles\":{\"type\":\"object\",\"name\":\"BoxInteractionHandles\",\"id\":\"4b6b762c-555c-44f0-98e9-5cd8a1233b42\",\"attributes\":{\"all\":{\"type\":\"object\",\"name\":\"AreaVisuals\",\"id\":\"ab6b8a1d-0919-42f5-a388-d8b002e1688f\",\"attributes\":{\"fill_color\":\"white\",\"hover_fill_color\":\"lightgray\"}}}}}}}},{\"type\":\"object\",\"name\":\"SaveTool\",\"id\":\"2250acd5-d1ad-4ae3-ad41-f029e78b87b0\"},{\"type\":\"object\",\"name\":\"ResetTool\",\"id\":\"bdeb2a8c-3f9d-4dd9-b9f6-293e3b7eb4f2\"},{\"type\":\"object\",\"name\":\"HelpTool\",\"id\":\"88596cf8-bf4c-4320-b34f-4ebab86b5116\"},{\"type\":\"object\",\"name\":\"HoverTool\",\"id\":\"3639aa16-8daf-4fec-894c-ab2547784334\",\"attributes\":{\"renderers\":\"auto\",\"tooltips\":[[\"Index\",\"$index\"],[\"Baseline Price\",\"@baseline_price\"],[\"Demand-Based Price\",\"@demand_based_price\"]]}}]}},\"left\":[{\"type\":\"object\",\"name\":\"LinearAxis\",\"id\":\"6cdd5f14-b72c-4489-bab9-7d2229d61bda\",\"attributes\":{\"ticker\":{\"type\":\"object\",\"name\":\"BasicTicker\",\"id\":\"4fab67f2-3c15-4e37-95b4-d5c7c32136fb\",\"attributes\":{\"mantissas\":[1,2,5]}},\"formatter\":{\"type\":\"object\",\"name\":\"BasicTickFormatter\",\"id\":\"68099ee6-a64e-4945-be13-c2a59f68a16a\"},\"axis_label\":\"Price\",\"major_label_policy\":{\"type\":\"object\",\"name\":\"AllLabels\",\"id\":\"9323a4ec-b2eb-479c-bd26-d7310e0baa7f\"}}}],\"below\":[{\"type\":\"object\",\"name\":\"LinearAxis\",\"id\":\"aab7e112-465f-440d-8ff1-60dfa3f2a824\",\"attributes\":{\"ticker\":{\"type\":\"object\",\"name\":\"BasicTicker\",\"id\":\"2b1a3b83-48b1-4377-8275-7802855d8b52\",\"attributes\":{\"mantissas\":[1,2,5]}},\"formatter\":{\"type\":\"object\",\"name\":\"BasicTickFormatter\",\"id\":\"d4c23789-4584-424e-9143-4b5fad908ae7\"},\"axis_label\":\"Data Point Index\",\"major_label_policy\":{\"type\":\"object\",\"name\":\"AllLabels\",\"id\":\"dc3ec0c7-bfa8-4303-9b9c-1105ac136a2e\"}}}],\"center\":[{\"type\":\"object\",\"name\":\"Grid\",\"id\":\"5af41839-0941-4090-8d70-d465b51e7a70\",\"attributes\":{\"axis\":{\"id\":\"aab7e112-465f-440d-8ff1-60dfa3f2a824\"}}},{\"type\":\"object\",\"name\":\"Grid\",\"id\":\"556005a5-1bae-43d8-8f8d-c0935c02d2e7\",\"attributes\":{\"dimension\":1,\"axis\":{\"id\":\"6cdd5f14-b72c-4489-bab9-7d2229d61bda\"}}},{\"type\":\"object\",\"name\":\"Legend\",\"id\":\"afcfe6d5-cb8d-4dd6-a77e-b917696556a0\",\"attributes\":{\"items\":[{\"type\":\"object\",\"name\":\"LegendItem\",\"id\":\"cc788444-6fd1-409d-b7cf-de8b8e462160\",\"attributes\":{\"label\":{\"type\":\"value\",\"value\":\"Baseline Price\"},\"renderers\":[{\"id\":\"4f1010e7-4fb5-4c29-9f01-a3e61f8163a0\"}]}},{\"type\":\"object\",\"name\":\"LegendItem\",\"id\":\"8a422858-4f90-4d24-ba53-ab8d5e599a4a\",\"attributes\":{\"label\":{\"type\":\"value\",\"value\":\"Demand-Based Price\"},\"renderers\":[{\"id\":\"78472dab-c174-4139-b9e4-dd1522999ab2\"}]}}]}}]}}],\"defs\":[{\"type\":\"model\",\"name\":\"ReactiveHTML1\"},{\"type\":\"model\",\"name\":\"FlexBox1\",\"properties\":[{\"name\":\"align_content\",\"kind\":\"Any\",\"default\":\"flex-start\"},{\"name\":\"align_items\",\"kind\":\"Any\",\"default\":\"flex-start\"},{\"name\":\"flex_direction\",\"kind\":\"Any\",\"default\":\"row\"},{\"name\":\"flex_wrap\",\"kind\":\"Any\",\"default\":\"wrap\"},{\"name\":\"gap\",\"kind\":\"Any\",\"default\":\"\"},{\"name\":\"justify_content\",\"kind\":\"Any\",\"default\":\"flex-start\"}]},{\"type\":\"model\",\"name\":\"FloatPanel1\",\"properties\":[{\"name\":\"config\",\"kind\":\"Any\",\"default\":{\"type\":\"map\"}},{\"name\":\"contained\",\"kind\":\"Any\",\"default\":true},{\"name\":\"position\",\"kind\":\"Any\",\"default\":\"right-top\"},{\"name\":\"offsetx\",\"kind\":\"Any\",\"default\":null},{\"name\":\"offsety\",\"kind\":\"Any\",\"default\":null},{\"name\":\"theme\",\"kind\":\"Any\",\"default\":\"primary\"},{\"name\":\"status\",\"kind\":\"Any\",\"default\":\"normalized\"}]},{\"type\":\"model\",\"name\":\"GridStack1\",\"properties\":[{\"name\":\"ncols\",\"kind\":\"Any\",\"default\":null},{\"name\":\"nrows\",\"kind\":\"Any\",\"default\":null},{\"name\":\"allow_resize\",\"kind\":\"Any\",\"default\":true},{\"name\":\"allow_drag\",\"kind\":\"Any\",\"default\":true},{\"name\":\"state\",\"kind\":\"Any\",\"default\":[]}]},{\"type\":\"model\",\"name\":\"drag1\",\"properties\":[{\"name\":\"slider_width\",\"kind\":\"Any\",\"default\":5},{\"name\":\"slider_color\",\"kind\":\"Any\",\"default\":\"black\"},{\"name\":\"value\",\"kind\":\"Any\",\"default\":50}]},{\"type\":\"model\",\"name\":\"click1\",\"properties\":[{\"name\":\"terminal_output\",\"kind\":\"Any\",\"default\":\"\"},{\"name\":\"debug_name\",\"kind\":\"Any\",\"default\":\"\"},{\"name\":\"clears\",\"kind\":\"Any\",\"default\":0}]},{\"type\":\"model\",\"name\":\"ReactiveESM1\",\"properties\":[{\"name\":\"esm_constants\",\"kind\":\"Any\",\"default\":{\"type\":\"map\"}}]},{\"type\":\"model\",\"name\":\"JSComponent1\",\"properties\":[{\"name\":\"esm_constants\",\"kind\":\"Any\",\"default\":{\"type\":\"map\"}}]},{\"type\":\"model\",\"name\":\"ReactComponent1\",\"properties\":[{\"name\":\"use_shadow_dom\",\"kind\":\"Any\",\"default\":true},{\"name\":\"esm_constants\",\"kind\":\"Any\",\"default\":{\"type\":\"map\"}}]},{\"type\":\"model\",\"name\":\"AnyWidgetComponent1\",\"properties\":[{\"name\":\"use_shadow_dom\",\"kind\":\"Any\",\"default\":true},{\"name\":\"esm_constants\",\"kind\":\"Any\",\"default\":{\"type\":\"map\"}}]},{\"type\":\"model\",\"name\":\"FastWrapper1\",\"properties\":[{\"name\":\"object\",\"kind\":\"Any\",\"default\":null},{\"name\":\"style\",\"kind\":\"Any\",\"default\":null}]},{\"type\":\"model\",\"name\":\"NotificationArea1\",\"properties\":[{\"name\":\"js_events\",\"kind\":\"Any\",\"default\":{\"type\":\"map\"}},{\"name\":\"max_notifications\",\"kind\":\"Any\",\"default\":5},{\"name\":\"notifications\",\"kind\":\"Any\",\"default\":[]},{\"name\":\"position\",\"kind\":\"Any\",\"default\":\"bottom-right\"},{\"name\":\"_clear\",\"kind\":\"Any\",\"default\":0},{\"name\":\"types\",\"kind\":\"Any\",\"default\":[{\"type\":\"map\",\"entries\":[[\"type\",\"warning\"],[\"background\",\"#ffc107\"],[\"icon\",{\"type\":\"map\",\"entries\":[[\"className\",\"fas fa-exclamation-triangle\"],[\"tagName\",\"i\"],[\"color\",\"white\"]]}]]},{\"type\":\"map\",\"entries\":[[\"type\",\"info\"],[\"background\",\"#007bff\"],[\"icon\",{\"type\":\"map\",\"entries\":[[\"className\",\"fas fa-info-circle\"],[\"tagName\",\"i\"],[\"color\",\"white\"]]}]]}]}]},{\"type\":\"model\",\"name\":\"Notification\",\"properties\":[{\"name\":\"background\",\"kind\":\"Any\",\"default\":null},{\"name\":\"duration\",\"kind\":\"Any\",\"default\":3000},{\"name\":\"icon\",\"kind\":\"Any\",\"default\":null},{\"name\":\"message\",\"kind\":\"Any\",\"default\":\"\"},{\"name\":\"notification_type\",\"kind\":\"Any\",\"default\":null},{\"name\":\"_rendered\",\"kind\":\"Any\",\"default\":false},{\"name\":\"_destroyed\",\"kind\":\"Any\",\"default\":false}]},{\"type\":\"model\",\"name\":\"TemplateActions1\",\"properties\":[{\"name\":\"open_modal\",\"kind\":\"Any\",\"default\":0},{\"name\":\"close_modal\",\"kind\":\"Any\",\"default\":0}]},{\"type\":\"model\",\"name\":\"BootstrapTemplateActions1\",\"properties\":[{\"name\":\"open_modal\",\"kind\":\"Any\",\"default\":0},{\"name\":\"close_modal\",\"kind\":\"Any\",\"default\":0}]},{\"type\":\"model\",\"name\":\"TemplateEditor1\",\"properties\":[{\"name\":\"layout\",\"kind\":\"Any\",\"default\":[]}]},{\"type\":\"model\",\"name\":\"MaterialTemplateActions1\",\"properties\":[{\"name\":\"open_modal\",\"kind\":\"Any\",\"default\":0},{\"name\":\"close_modal\",\"kind\":\"Any\",\"default\":0}]},{\"type\":\"model\",\"name\":\"request_value1\",\"properties\":[{\"name\":\"fill\",\"kind\":\"Any\",\"default\":\"none\"},{\"name\":\"_synced\",\"kind\":\"Any\",\"default\":null},{\"name\":\"_request_sync\",\"kind\":\"Any\",\"default\":0}]}]}};\n",
              "  const render_items = [{\"docid\":\"d5ae51d2-a425-4032-9aea-7e7e9ef6c32b\",\"roots\":{\"d0c5f45a-549c-4722-8c02-c9c5daf521d1\":\"a25207c3-33f9-43ad-824d-4f21b8330ba6\"},\"root_ids\":[\"d0c5f45a-549c-4722-8c02-c9c5daf521d1\"]}];\n",
              "  void root.Bokeh.embed.embed_items_notebook(docs_json, render_items);\n",
              "  }\n",
              "  if (root.Bokeh !== undefined) {\n",
              "    embed_document(root);\n",
              "  } else {\n",
              "    let attempts = 0;\n",
              "    const timer = setInterval(function(root) {\n",
              "      if (root.Bokeh !== undefined) {\n",
              "        clearInterval(timer);\n",
              "        embed_document(root);\n",
              "      } else {\n",
              "        attempts++;\n",
              "        if (attempts > 100) {\n",
              "          clearInterval(timer);\n",
              "          console.log(\"Bokeh: ERROR: Unable to run BokehJS code because BokehJS library is missing\");\n",
              "        }\n",
              "      }\n",
              "    }, 10, root)\n",
              "  }\n",
              "})(window);"
            ],
            "application/vnd.bokehjs_exec.v0+json": ""
          },
          "metadata": {
            "application/vnd.bokehjs_exec.v0+json": {
              "id": "d0c5f45a-549c-4722-8c02-c9c5daf521d1"
            }
          }
        }
      ],
      "source": [
        "\n",
        "p_baseline_demand = figure(\n",
        "    title=\"Baseline Price vs Demand-Based Price (Location 0)\",\n",
        "    x_axis_label=\"Data Point Index\",\n",
        "    y_axis_label=\"Price\",\n",
        "    height=300,\n",
        "    width=800\n",
        ")\n",
        "\n",
        "# Filter data for Location 0 (assuming location_to_plot is still 0)\n",
        "location_data_plot = df_final[df_final['location_id'] == location_to_plot].reset_index(drop=True)\n",
        "\n",
        "if not location_data_plot.empty:\n",
        "    # Add lines for baseline price and demand-based price\n",
        "    p_baseline_demand.line(\n",
        "        location_data_plot.index,\n",
        "        location_data_plot['baseline_price'],\n",
        "        legend_label=\"Baseline Price\",\n",
        "        color=\"blue\"\n",
        "    )\n",
        "    p_baseline_demand.line(\n",
        "        location_data_plot.index,\n",
        "        location_data_plot['demand_based_price'],\n",
        "        legend_label=\"Demand-Based Price\",\n",
        "        color=\"red\"\n",
        "    )\n",
        "\n",
        "    # Add tooltips\n",
        "    hover_bd = HoverTool(\n",
        "        tooltips=[\n",
        "            (\"Index\", \"$index\"),\n",
        "            (\"Baseline Price\", \"@baseline_price\"),\n",
        "            (\"Demand-Based Price\", \"@demand_based_price\"),\n",
        "        ]\n",
        "    )\n",
        "    p_baseline_demand.add_tools(hover_bd)\n",
        "\n",
        "    # Customize legend location\n",
        "    p_baseline_demand.legend.location = \"top_right\"\n",
        "\n",
        "    # Show the plot\n",
        "    show(p_baseline_demand)\n",
        "else:\n",
        "    print(f\"No data found for location_id {location_to_plot} for baseline vs demand price plot.\")"
      ]
    },
    {
      "cell_type": "code",
      "source": [
        "# prompt: make a plot for baseline price and competitive price\n",
        "\n",
        "# Create a Bokeh figure specifically for baseline vs competitive price\n",
        "p_baseline_competitive = figure(\n",
        "    title=\"Baseline Price vs Competitive Price (Location 0)\",\n",
        "    x_axis_label=\"Data Point Index\",\n",
        "    y_axis_label=\"Price\",\n",
        "    height=300,\n",
        "    width=800\n",
        ")\n",
        "\n",
        "# Filter data for Location 0\n",
        "location_data_plot = df_final[df_final['location_id'] == location_to_plot].reset_index(drop=True)\n",
        "\n",
        "if not location_data_plot.empty:\n",
        "    # Add lines for baseline price and competitive price\n",
        "    p_baseline_competitive.line(\n",
        "        location_data_plot.index,\n",
        "        location_data_plot['baseline_price'],\n",
        "        legend_label=\"Baseline Price\",\n",
        "        color=\"blue\"\n",
        "    )\n",
        "    p_baseline_competitive.line(\n",
        "        location_data_plot.index,\n",
        "        location_data_plot['competitive_price'],\n",
        "        legend_label=\"Competitive Price\",\n",
        "        color=\"green\"\n",
        "    )\n",
        "\n",
        "    # Add tooltips\n",
        "    hover_bc = HoverTool(\n",
        "        tooltips=[\n",
        "            (\"Index\", \"$index\"),\n",
        "            (\"Baseline Price\", \"@baseline_price\"),\n",
        "            (\"Competitive Price\", \"@competitive_price\"),\n",
        "        ]\n",
        "    )\n",
        "    p_baseline_competitive.add_tools(hover_bc)\n",
        "\n",
        "    # Customize legend location\n",
        "    p_baseline_competitive.legend.location = \"top_right\"\n",
        "\n",
        "    # Show the plot\n",
        "    show(p_baseline_competitive)\n",
        "else:\n",
        "    print(f\"No data found for location_id {location_to_plot} for baseline vs competitive price plot.\")\n",
        "\n"
      ],
      "metadata": {
        "colab": {
          "resources": {
            "http://localhost:8080/static/extensions/panel/bundled/reactiveesm/es-module-shims@%5E1.10.0/dist/es-module-shims.min.js": {
              "data": "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",
              "ok": false,
              "headers": [
                [
                  "content-length",
                  "9307"
                ],
                [
                  "content-type",
                  "text/html"
                ]
              ],
              "status": 404,
              "status_text": ""
            },
            "http://localhost:8080/static/extensions/panel/bundled/datatabulator/tabulator-tables@6.3.1/dist/js/tabulator.min.js": {
              "data": "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",
              "ok": false,
              "headers": [
                [
                  "content-length",
                  "9307"
                ],
                [
                  "content-type",
                  "text/html"
                ]
              ],
              "status": 404,
              "status_text": ""
            },
            "http://localhost:8080/static/extensions/panel/bundled/datatabulator/luxon/build/global/luxon.min.js": {
              "data": "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",
              "ok": false,
              "headers": [
                [
                  "content-length",
                  "9307"
                ],
                [
                  "content-type",
                  "text/html"
                ]
              ],
              "status": 404,
              "status_text": ""
            },
            "http://localhost:8080/static/extensions/panel/bundled/datatabulator/tabulator-tables@6.3.1/dist/css/tabulator_simple.min.css": {
              "data": "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",
              "ok": false,
              "headers": [
                [
                  "content-length",
                  "9307"
                ],
                [
                  "content-type",
                  "text/html"
                ]
              ],
              "status": 404,
              "status_text": ""
            }
          },
          "base_uri": "https://localhost:8080/",
          "height": 317
        },
        "id": "0ZogUj_zP4Ur",
        "outputId": "7664fdb3-689b-49de-94f9-cd05147cf1ad"
      },
      "execution_count": 214,
      "outputs": [
        {
          "output_type": "display_data",
          "data": {
            "application/javascript": [
              "'use strict';\n",
              "(function(root) {\n",
              "  function now() {\n",
              "    return new Date();\n",
              "  }\n",
              "\n",
              "  const force = true;\n",
              "\n",
              "  if (typeof root._bokeh_onload_callbacks === \"undefined\" || force === true) {\n",
              "    root._bokeh_onload_callbacks = [];\n",
              "    root._bokeh_is_loading = undefined;\n",
              "  }\n",
              "\n",
              "const JS_MIME_TYPE = 'application/javascript';\n",
              "  const HTML_MIME_TYPE = 'text/html';\n",
              "  const EXEC_MIME_TYPE = 'application/vnd.bokehjs_exec.v0+json';\n",
              "  const CLASS_NAME = 'output_bokeh rendered_html';\n",
              "\n",
              "  /**\n",
              "   * Render data to the DOM node\n",
              "   */\n",
              "  function render(props, node) {\n",
              "    const script = document.createElement(\"script\");\n",
              "    node.appendChild(script);\n",
              "  }\n",
              "\n",
              "  /**\n",
              "   * Handle when an output is cleared or removed\n",
              "   */\n",
              "  function handleClearOutput(event, handle) {\n",
              "    function drop(id) {\n",
              "      const view = Bokeh.index.get_by_id(id)\n",
              "      if (view != null) {\n",
              "        view.model.document.clear()\n",
              "        Bokeh.index.delete(view)\n",
              "      }\n",
              "    }\n",
              "\n",
              "    const cell = handle.cell;\n",
              "\n",
              "    const id = cell.output_area._bokeh_element_id;\n",
              "    const server_id = cell.output_area._bokeh_server_id;\n",
              "\n",
              "    // Clean up Bokeh references\n",
              "    if (id != null) {\n",
              "      drop(id)\n",
              "    }\n",
              "\n",
              "    if (server_id !== undefined) {\n",
              "      // Clean up Bokeh references\n",
              "      const cmd_clean = \"from bokeh.io.state import curstate; print(curstate().uuid_to_server['\" + server_id + \"'].get_sessions()[0].document.roots[0]._id)\";\n",
              "      cell.notebook.kernel.execute(cmd_clean, {\n",
              "        iopub: {\n",
              "          output: function(msg) {\n",
              "            const id = msg.content.text.trim()\n",
              "            drop(id)\n",
              "          }\n",
              "        }\n",
              "      });\n",
              "      // Destroy server and session\n",
              "      const cmd_destroy = \"import bokeh.io.notebook as ion; ion.destroy_server('\" + server_id + \"')\";\n",
              "      cell.notebook.kernel.execute(cmd_destroy);\n",
              "    }\n",
              "  }\n",
              "\n",
              "  /**\n",
              "   * Handle when a new output is added\n",
              "   */\n",
              "  function handleAddOutput(event, handle) {\n",
              "    const output_area = handle.output_area;\n",
              "    const output = handle.output;\n",
              "\n",
              "    // limit handleAddOutput to display_data with EXEC_MIME_TYPE content only\n",
              "    if ((output.output_type != \"display_data\") || (!Object.prototype.hasOwnProperty.call(output.data, EXEC_MIME_TYPE))) {\n",
              "      return\n",
              "    }\n",
              "\n",
              "    const toinsert = output_area.element.find(\".\" + CLASS_NAME.split(' ')[0]);\n",
              "\n",
              "    if (output.metadata[EXEC_MIME_TYPE][\"id\"] !== undefined) {\n",
              "      toinsert[toinsert.length - 1].firstChild.textContent = output.data[JS_MIME_TYPE];\n",
              "      // store reference to embed id on output_area\n",
              "      output_area._bokeh_element_id = output.metadata[EXEC_MIME_TYPE][\"id\"];\n",
              "    }\n",
              "    if (output.metadata[EXEC_MIME_TYPE][\"server_id\"] !== undefined) {\n",
              "      const bk_div = document.createElement(\"div\");\n",
              "      bk_div.innerHTML = output.data[HTML_MIME_TYPE];\n",
              "      const script_attrs = bk_div.children[0].attributes;\n",
              "      for (let i = 0; i < script_attrs.length; i++) {\n",
              "        toinsert[toinsert.length - 1].firstChild.setAttribute(script_attrs[i].name, script_attrs[i].value);\n",
              "        toinsert[toinsert.length - 1].firstChild.textContent = bk_div.children[0].textContent\n",
              "      }\n",
              "      // store reference to server id on output_area\n",
              "      output_area._bokeh_server_id = output.metadata[EXEC_MIME_TYPE][\"server_id\"];\n",
              "    }\n",
              "  }\n",
              "\n",
              "  function register_renderer(events, OutputArea) {\n",
              "\n",
              "    function append_mime(data, metadata, element) {\n",
              "      // create a DOM node to render to\n",
              "      const toinsert = this.create_output_subarea(\n",
              "        metadata,\n",
              "        CLASS_NAME,\n",
              "        EXEC_MIME_TYPE\n",
              "      );\n",
              "      this.keyboard_manager.register_events(toinsert);\n",
              "      // Render to node\n",
              "      const props = {data: data, metadata: metadata[EXEC_MIME_TYPE]};\n",
              "      render(props, toinsert[toinsert.length - 1]);\n",
              "      element.append(toinsert);\n",
              "      return toinsert\n",
              "    }\n",
              "\n",
              "    /* Handle when an output is cleared or removed */\n",
              "    events.on('clear_output.CodeCell', handleClearOutput);\n",
              "    events.on('delete.Cell', handleClearOutput);\n",
              "\n",
              "    /* Handle when a new output is added */\n",
              "    events.on('output_added.OutputArea', handleAddOutput);\n",
              "\n",
              "    /**\n",
              "     * Register the mime type and append_mime function with output_area\n",
              "     */\n",
              "    OutputArea.prototype.register_mime_type(EXEC_MIME_TYPE, append_mime, {\n",
              "      /* Is output safe? */\n",
              "      safe: true,\n",
              "      /* Index of renderer in `output_area.display_order` */\n",
              "      index: 0\n",
              "    });\n",
              "  }\n",
              "\n",
              "  // register the mime type if in Jupyter Notebook environment and previously unregistered\n",
              "  if (root.Jupyter !== undefined) {\n",
              "    const events = require('base/js/events');\n",
              "    const OutputArea = require('notebook/js/outputarea').OutputArea;\n",
              "\n",
              "    if (OutputArea.prototype.mime_types().indexOf(EXEC_MIME_TYPE) == -1) {\n",
              "      register_renderer(events, OutputArea);\n",
              "    }\n",
              "  }\n",
              "  if (typeof (root._bokeh_timeout) === \"undefined\" || force === true) {\n",
              "    root._bokeh_timeout = Date.now() + 5000;\n",
              "    root._bokeh_failed_load = false;\n",
              "  }\n",
              "\n",
              "  const NB_LOAD_WARNING = {'data': {'text/html':\n",
              "     \"<div style='background-color: #fdd'>\\n\"+\n",
              "     \"<p>\\n\"+\n",
              "     \"BokehJS does not appear to have successfully loaded. If loading BokehJS from CDN, this \\n\"+\n",
              "     \"may be due to a slow or bad network connection. Possible fixes:\\n\"+\n",
              "     \"</p>\\n\"+\n",
              "     \"<ul>\\n\"+\n",
              "     \"<li>re-rerun `output_notebook()` to attempt to load from CDN again, or</li>\\n\"+\n",
              "     \"<li>use INLINE resources instead, as so:</li>\\n\"+\n",
              "     \"</ul>\\n\"+\n",
              "     \"<code>\\n\"+\n",
              "     \"from bokeh.resources import INLINE\\n\"+\n",
              "     \"output_notebook(resources=INLINE)\\n\"+\n",
              "     \"</code>\\n\"+\n",
              "     \"</div>\"}};\n",
              "\n",
              "  function display_loaded(error = null) {\n",
              "    const el = document.getElementById(null);\n",
              "    if (el != null) {\n",
              "      const html = (() => {\n",
              "        if (typeof root.Bokeh === \"undefined\") {\n",
              "          if (error == null) {\n",
              "            return \"BokehJS is loading ...\";\n",
              "          } else {\n",
              "            return \"BokehJS failed to load.\";\n",
              "          }\n",
              "        } else {\n",
              "          const prefix = `BokehJS ${root.Bokeh.version}`;\n",
              "          if (error == null) {\n",
              "            return `${prefix} successfully loaded.`;\n",
              "          } else {\n",
              "            return `${prefix} <b>encountered errors</b> while loading and may not function as expected.`;\n",
              "          }\n",
              "        }\n",
              "      })();\n",
              "      el.innerHTML = html;\n",
              "\n",
              "      if (error != null) {\n",
              "        const wrapper = document.createElement(\"div\");\n",
              "        wrapper.style.overflow = \"auto\";\n",
              "        wrapper.style.height = \"5em\";\n",
              "        wrapper.style.resize = \"vertical\";\n",
              "        const content = document.createElement(\"div\");\n",
              "        content.style.fontFamily = \"monospace\";\n",
              "        content.style.whiteSpace = \"pre-wrap\";\n",
              "        content.style.backgroundColor = \"rgb(255, 221, 221)\";\n",
              "        content.textContent = error.stack ?? error.toString();\n",
              "        wrapper.append(content);\n",
              "        el.append(wrapper);\n",
              "      }\n",
              "    } else if (Date.now() < root._bokeh_timeout) {\n",
              "      setTimeout(() => display_loaded(error), 100);\n",
              "    }\n",
              "  }\n",
              "\n",
              "  function run_callbacks() {\n",
              "    try {\n",
              "      root._bokeh_onload_callbacks.forEach(function(callback) {\n",
              "        if (callback != null)\n",
              "          callback();\n",
              "      });\n",
              "    } finally {\n",
              "      delete root._bokeh_onload_callbacks\n",
              "    }\n",
              "    console.debug(\"Bokeh: all callbacks have finished\");\n",
              "  }\n",
              "\n",
              "  function load_libs(css_urls, js_urls, callback) {\n",
              "    if (css_urls == null) css_urls = [];\n",
              "    if (js_urls == null) js_urls = [];\n",
              "\n",
              "    root._bokeh_onload_callbacks.push(callback);\n",
              "    if (root._bokeh_is_loading > 0) {\n",
              "      console.debug(\"Bokeh: BokehJS is being loaded, scheduling callback at\", now());\n",
              "      return null;\n",
              "    }\n",
              "    if (js_urls == null || js_urls.length === 0) {\n",
              "      run_callbacks();\n",
              "      return null;\n",
              "    }\n",
              "    console.debug(\"Bokeh: BokehJS not loaded, scheduling load and callback at\", now());\n",
              "    root._bokeh_is_loading = css_urls.length + js_urls.length;\n",
              "\n",
              "    function on_load() {\n",
              "      root._bokeh_is_loading--;\n",
              "      if (root._bokeh_is_loading === 0) {\n",
              "        console.debug(\"Bokeh: all BokehJS libraries/stylesheets loaded\");\n",
              "        run_callbacks()\n",
              "      }\n",
              "    }\n",
              "\n",
              "    function on_error(url) {\n",
              "      console.error(\"failed to load \" + url);\n",
              "    }\n",
              "\n",
              "    for (let i = 0; i < css_urls.length; i++) {\n",
              "      const url = css_urls[i];\n",
              "      const element = document.createElement(\"link\");\n",
              "      element.onload = on_load;\n",
              "      element.onerror = on_error.bind(null, url);\n",
              "      element.rel = \"stylesheet\";\n",
              "      element.type = \"text/css\";\n",
              "      element.href = url;\n",
              "      console.debug(\"Bokeh: injecting link tag for BokehJS stylesheet: \", url);\n",
              "      document.body.appendChild(element);\n",
              "    }\n",
              "\n",
              "    for (let i = 0; i < js_urls.length; i++) {\n",
              "      const url = js_urls[i];\n",
              "      const element = document.createElement('script');\n",
              "      element.onload = on_load;\n",
              "      element.onerror = on_error.bind(null, url);\n",
              "      element.async = false;\n",
              "      element.src = url;\n",
              "      console.debug(\"Bokeh: injecting script tag for BokehJS library: \", url);\n",
              "      document.head.appendChild(element);\n",
              "    }\n",
              "  };\n",
              "\n",
              "  function inject_raw_css(css) {\n",
              "    const element = document.createElement(\"style\");\n",
              "    element.appendChild(document.createTextNode(css));\n",
              "    document.body.appendChild(element);\n",
              "  }\n",
              "\n",
              "  const js_urls = [\"static/extensions/panel/bundled/reactiveesm/es-module-shims@^1.10.0/dist/es-module-shims.min.js\", \"static/extensions/panel/bundled/datatabulator/tabulator-tables@6.3.1/dist/js/tabulator.min.js\", \"static/extensions/panel/bundled/datatabulator/luxon/build/global/luxon.min.js\", \"https://cdn.bokeh.org/bokeh/release/bokeh-3.7.3.min.js\", \"https://cdn.bokeh.org/bokeh/release/bokeh-gl-3.7.3.min.js\", \"https://cdn.bokeh.org/bokeh/release/bokeh-widgets-3.7.3.min.js\", \"https://cdn.bokeh.org/bokeh/release/bokeh-tables-3.7.3.min.js\", \"https://cdn.bokeh.org/bokeh/release/bokeh-mathjax-3.7.3.min.js\", \"https://unpkg.com/@holoviz/panel@1.7.2/dist/panel.min.js\"];\n",
              "  const css_urls = [\"static/extensions/panel/bundled/datatabulator/tabulator-tables@6.3.1/dist/css/tabulator_simple.min.css\"];\n",
              "\n",
              "  const inline_js = [    function(Bokeh) {\n",
              "      Bokeh.set_log_level(\"info\");\n",
              "    },\n",
              "function(Bokeh) {\n",
              "    }\n",
              "  ];\n",
              "\n",
              "  function run_inline_js() {\n",
              "    if (root.Bokeh !== undefined || force === true) {\n",
              "      try {\n",
              "            for (let i = 0; i < inline_js.length; i++) {\n",
              "      inline_js[i].call(root, root.Bokeh);\n",
              "    }\n",
              "\n",
              "      } catch (error) {throw error;\n",
              "      }} else if (Date.now() < root._bokeh_timeout) {\n",
              "      setTimeout(run_inline_js, 100);\n",
              "    } else if (!root._bokeh_failed_load) {\n",
              "      console.log(\"Bokeh: BokehJS failed to load within specified timeout.\");\n",
              "      root._bokeh_failed_load = true;\n",
              "    } else if (force !== true) {\n",
              "      const cell = $(document.getElementById(null)).parents('.cell').data().cell;\n",
              "      cell.output_area.append_execute_result(NB_LOAD_WARNING)\n",
              "    }\n",
              "  }\n",
              "\n",
              "  if (root._bokeh_is_loading === 0) {\n",
              "    console.debug(\"Bokeh: BokehJS loaded, going straight to plotting\");\n",
              "    run_inline_js();\n",
              "  } else {\n",
              "    load_libs(css_urls, js_urls, function() {\n",
              "      console.debug(\"Bokeh: BokehJS plotting callback run at\", now());\n",
              "      run_inline_js();\n",
              "    });\n",
              "  }\n",
              "}(window));"
            ],
            "application/vnd.bokehjs_load.v0+json": "'use strict';\n(function(root) {\n  function now() {\n    return new Date();\n  }\n\n  const force = true;\n\n  if (typeof root._bokeh_onload_callbacks === \"undefined\" || force === true) {\n    root._bokeh_onload_callbacks = [];\n    root._bokeh_is_loading = undefined;\n  }\n\n\n  if (typeof (root._bokeh_timeout) === \"undefined\" || force === true) {\n    root._bokeh_timeout = Date.now() + 5000;\n    root._bokeh_failed_load = false;\n  }\n\n  const NB_LOAD_WARNING = {'data': {'text/html':\n     \"<div style='background-color: #fdd'>\\n\"+\n     \"<p>\\n\"+\n     \"BokehJS does not appear to have successfully loaded. If loading BokehJS from CDN, this \\n\"+\n     \"may be due to a slow or bad network connection. Possible fixes:\\n\"+\n     \"</p>\\n\"+\n     \"<ul>\\n\"+\n     \"<li>re-rerun `output_notebook()` to attempt to load from CDN again, or</li>\\n\"+\n     \"<li>use INLINE resources instead, as so:</li>\\n\"+\n     \"</ul>\\n\"+\n     \"<code>\\n\"+\n     \"from bokeh.resources import INLINE\\n\"+\n     \"output_notebook(resources=INLINE)\\n\"+\n     \"</code>\\n\"+\n     \"</div>\"}};\n\n  function display_loaded(error = null) {\n    const el = document.getElementById(null);\n    if (el != null) {\n      const html = (() => {\n        if (typeof root.Bokeh === \"undefined\") {\n          if (error == null) {\n            return \"BokehJS is loading ...\";\n          } else {\n            return \"BokehJS failed to load.\";\n          }\n        } else {\n          const prefix = `BokehJS ${root.Bokeh.version}`;\n          if (error == null) {\n            return `${prefix} successfully loaded.`;\n          } else {\n            return `${prefix} <b>encountered errors</b> while loading and may not function as expected.`;\n          }\n        }\n      })();\n      el.innerHTML = html;\n\n      if (error != null) {\n        const wrapper = document.createElement(\"div\");\n        wrapper.style.overflow = \"auto\";\n        wrapper.style.height = \"5em\";\n        wrapper.style.resize = \"vertical\";\n        const content = document.createElement(\"div\");\n        content.style.fontFamily = \"monospace\";\n        content.style.whiteSpace = \"pre-wrap\";\n        content.style.backgroundColor = \"rgb(255, 221, 221)\";\n        content.textContent = error.stack ?? error.toString();\n        wrapper.append(content);\n        el.append(wrapper);\n      }\n    } else if (Date.now() < root._bokeh_timeout) {\n      setTimeout(() => display_loaded(error), 100);\n    }\n  }\n\n  function run_callbacks() {\n    try {\n      root._bokeh_onload_callbacks.forEach(function(callback) {\n        if (callback != null)\n          callback();\n      });\n    } finally {\n      delete root._bokeh_onload_callbacks\n    }\n    console.debug(\"Bokeh: all callbacks have finished\");\n  }\n\n  function load_libs(css_urls, js_urls, callback) {\n    if (css_urls == null) css_urls = [];\n    if (js_urls == null) js_urls = [];\n\n    root._bokeh_onload_callbacks.push(callback);\n    if (root._bokeh_is_loading > 0) {\n      console.debug(\"Bokeh: BokehJS is being loaded, scheduling callback at\", now());\n      return null;\n    }\n    if (js_urls == null || js_urls.length === 0) {\n      run_callbacks();\n      return null;\n    }\n    console.debug(\"Bokeh: BokehJS not loaded, scheduling load and callback at\", now());\n    root._bokeh_is_loading = css_urls.length + js_urls.length;\n\n    function on_load() {\n      root._bokeh_is_loading--;\n      if (root._bokeh_is_loading === 0) {\n        console.debug(\"Bokeh: all BokehJS libraries/stylesheets loaded\");\n        run_callbacks()\n      }\n    }\n\n    function on_error(url) {\n      console.error(\"failed to load \" + url);\n    }\n\n    for (let i = 0; i < css_urls.length; i++) {\n      const url = css_urls[i];\n      const element = document.createElement(\"link\");\n      element.onload = on_load;\n      element.onerror = on_error.bind(null, url);\n      element.rel = \"stylesheet\";\n      element.type = \"text/css\";\n      element.href = url;\n      console.debug(\"Bokeh: injecting link tag for BokehJS stylesheet: \", url);\n      document.body.appendChild(element);\n    }\n\n    for (let i = 0; i < js_urls.length; i++) {\n      const url = js_urls[i];\n      const element = document.createElement('script');\n      element.onload = on_load;\n      element.onerror = on_error.bind(null, url);\n      element.async = false;\n      element.src = url;\n      console.debug(\"Bokeh: injecting script tag for BokehJS library: \", url);\n      document.head.appendChild(element);\n    }\n  };\n\n  function inject_raw_css(css) {\n    const element = document.createElement(\"style\");\n    element.appendChild(document.createTextNode(css));\n    document.body.appendChild(element);\n  }\n\n  const js_urls = [\"static/extensions/panel/bundled/reactiveesm/es-module-shims@^1.10.0/dist/es-module-shims.min.js\", \"static/extensions/panel/bundled/datatabulator/tabulator-tables@6.3.1/dist/js/tabulator.min.js\", \"static/extensions/panel/bundled/datatabulator/luxon/build/global/luxon.min.js\", \"https://cdn.bokeh.org/bokeh/release/bokeh-3.7.3.min.js\", \"https://cdn.bokeh.org/bokeh/release/bokeh-gl-3.7.3.min.js\", \"https://cdn.bokeh.org/bokeh/release/bokeh-widgets-3.7.3.min.js\", \"https://cdn.bokeh.org/bokeh/release/bokeh-tables-3.7.3.min.js\", \"https://cdn.bokeh.org/bokeh/release/bokeh-mathjax-3.7.3.min.js\", \"https://unpkg.com/@holoviz/panel@1.7.2/dist/panel.min.js\"];\n  const css_urls = [\"static/extensions/panel/bundled/datatabulator/tabulator-tables@6.3.1/dist/css/tabulator_simple.min.css\"];\n\n  const inline_js = [    function(Bokeh) {\n      Bokeh.set_log_level(\"info\");\n    },\nfunction(Bokeh) {\n    }\n  ];\n\n  function run_inline_js() {\n    if (root.Bokeh !== undefined || force === true) {\n      try {\n            for (let i = 0; i < inline_js.length; i++) {\n      inline_js[i].call(root, root.Bokeh);\n    }\n\n      } catch (error) {throw error;\n      }} else if (Date.now() < root._bokeh_timeout) {\n      setTimeout(run_inline_js, 100);\n    } else if (!root._bokeh_failed_load) {\n      console.log(\"Bokeh: BokehJS failed to load within specified timeout.\");\n      root._bokeh_failed_load = true;\n    } else if (force !== true) {\n      const cell = $(document.getElementById(null)).parents('.cell').data().cell;\n      cell.output_area.append_execute_result(NB_LOAD_WARNING)\n    }\n  }\n\n  if (root._bokeh_is_loading === 0) {\n    console.debug(\"Bokeh: BokehJS loaded, going straight to plotting\");\n    run_inline_js();\n  } else {\n    load_libs(css_urls, js_urls, function() {\n      console.debug(\"Bokeh: BokehJS plotting callback run at\", now());\n      run_inline_js();\n    });\n  }\n}(window));"
          },
          "metadata": {}
        },
        {
          "output_type": "display_data",
          "data": {
            "text/html": [
              "\n",
              "  <div id=\"e0897943-2dbd-437a-99ee-1605edc50f5e\" data-root-id=\"bd809c9d-c537-4d3c-9f45-fcb8e35b9390\" style=\"display: contents;\"></div>\n"
            ]
          },
          "metadata": {}
        },
        {
          "output_type": "display_data",
          "data": {
            "application/javascript": [
              "(function(root) {\n",
              "  function embed_document(root) {\n",
              "  const docs_json = {\"ccc3ee1b-bfda-4727-b273-d5094b4f1e88\":{\"version\":\"3.7.3\",\"title\":\"Bokeh Application\",\"roots\":[{\"type\":\"object\",\"name\":\"Figure\",\"id\":\"bd809c9d-c537-4d3c-9f45-fcb8e35b9390\",\"attributes\":{\"width\":800,\"height\":300,\"x_range\":{\"type\":\"object\",\"name\":\"DataRange1d\",\"id\":\"def4bfc5-811d-4c59-a4f1-b7f5aeae66e0\"},\"y_range\":{\"type\":\"object\",\"name\":\"DataRange1d\",\"id\":\"f1f36699-0995-4e01-8d78-125ef8b6c0e2\"},\"x_scale\":{\"type\":\"object\",\"name\":\"LinearScale\",\"id\":\"c8ea1231-6912-4196-ad57-ae50efb0c475\"},\"y_scale\":{\"type\":\"object\",\"name\":\"LinearScale\",\"id\":\"38b4f08a-b9e3-41a5-adc0-decf07e136c0\"},\"title\":{\"type\":\"object\",\"name\":\"Title\",\"id\":\"1eda2dd1-e43a-4073-8f69-cc8f17435b9f\",\"attributes\":{\"text\":\"Baseline Price vs Competitive Price (Location 0)\"}},\"renderers\":[{\"type\":\"object\",\"name\":\"GlyphRenderer\",\"id\":\"b607930b-95e4-42bd-819e-b7c2a11271b4\",\"attributes\":{\"data_source\":{\"type\":\"object\",\"name\":\"ColumnDataSource\",\"id\":\"013939e8-cace-4bb6-8094-6753d8ce8007\",\"attributes\":{\"selected\":{\"type\":\"object\",\"name\":\"Selection\",\"id\":\"5322d3c7-bed0-41a6-b23a-b422d25b278a\",\"attributes\":{\"indices\":[],\"line_indices\":[]}},\"selection_policy\":{\"type\":\"object\",\"name\":\"UnionRenderers\",\"id\":\"e634348a-0b72-4dc8-8608-e1d9d92ca1f2\"},\"data\":{\"type\":\"map\",\"entries\":[[\"x\",{\"type\":\"ndarray\",\"array\":{\"type\":\"bytes\",\"data\":\"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\"},\"shape\":[1312],\"dtype\":\"int32\",\"order\":\"little\"}],[\"y\",{\"type\":\"ndarray\",\"array\":{\"type\":\"bytes\",\"data\":\"2nkXj4CJJUAn6L8TpUsnQMPqlgVfTylAHwETQ3S4K0Ap+wKIXYsuQBOSCOes0DBAZyOv9rZ7MkC0kVd72z00QKcPCqtbFjZAG8hJ5kr5N0CG6HB/dt45QPqgsLplwTtA5IZKSCKcPUCXZzbyam8/QK2BnGSulEBAruNzB9RpQUBfT0WaPihCQKGwumXB10JA/cY2o9ZAQ0ARHe7PzrtDQBoEm6D/TkRAvBYtqeb7REDyCJgYosNFQOrSVhkEm0ZA+o1tRq2BR0DrNC68KXBIQHfexSNgYklASHEw4q9YSkBs0ZJqvk9LQAqrWxZ8PUxArdAwkxsqTUBmckMlJBFOQFWk6YPC6k5AGrUGcpK5T0AP92fnXTxQQLTzLh4Bk1BAVVVVVVXVUEDc7jGmXh5RQI/PHVCncVFAbNGSar7PUUDTpa0yCDZSQM8KDTO5oVJAF8vRQ9YPU0D4Z+ddPIJTQBVWtyz4+lNA1bjwpsB1VEAWByP+iuVUQGIT9N+JUlVAsEVLqvm+VUAHELsWLSlWQMX92XkXj1ZAQk4yV8rvVkDNgq+nIk1XQBPOWaFhpldA2N52jzH1V0A58mpvu0dYQMQm6L8TpVhAON8n+wIIWUA7thm1BnJZQHe4Pzvv4llA/e9E6dJWWkBzHZ87oM5aQIdzVmiYSVtAQoqDEX/FW0Cmh6wfxUFcQGo28mpvu1xAkLza2+4xXUAaQOxatKRdQLKnIk0fFF5AANp5F4+AXkAXByP+iuVeQN6MWgM5SV9AZSY3VEKSX0BAs5FXe9tfQLbzLh4BE2BAxIi/Yjk6YEB53sUjYGJgQH/ugDqNi2BALuU3thm1YEAulqOHrN9gQCfCOSs0DGFAw3V87oA6YUCpXp7ZyGthQDUINkH/nWFAteDrqUjTYUAtNMzkhgpiQE1bZRBsQmJAvilwHZ97YkDaBP13orRiQKHsCyB27WJANszkhkoIY0DLq73tHiNjQAuYGKLDPWNASV7tbfdYY0DZ8bkD6nRjQGhyQyUkkWNA+AUQuxatY0CGc1ZomMljQGv6oLC65WNAUIHr+NwBZECH1S0Lvh5kQL0WLanmO2RAO3rI+lFcZEBhsRw9ZH1kQISvpyJNn2RA/KCwumXBZEAfnzugTuNkQPhUpOmDAmVAmyvlN7YZZUAxHgETQzRlQK1bFnw9VWVAFUN0uD97ZUASuxYtqaZlQK1bFnw91WVAmbbKINgEZkCAsi+A2DVmQLhoSTXfZ2ZAl9/YZtSaZkAeKiGJcM5mQP2gsLplAWdA4XaPMfUyZ0Bzf3bexWNnQLTNqDWQk2dABCaG6HC/Z0Bb8PVUpOlnQGurDIJNEGhAS+ZK+Y0taEAhdi1aUk1oQJMI56zQcGhAmAVfT0WaaEDdn5138choQGYQbIL++2hAO9yfnXcxaUCw9rZ7jGlpQMRMbqiEpGlAhcLqlgXfaUCW39hm1BpqQP4Vy9FDVmpAZky9PLORakDYLQu+nspqQKNO48KbAmtAekCdxoU3a0BeFnw9FWlrQKj8xjajlmtALL+xzai1a0BS9gUQu9ZrQLvwpsB1/GtAwhOlS1slbEAIwSbov1NsQJEx9fLMhmxAZNeiJdW8bECE/jtRuvRsQPO5A+o0Lm1ABxC7Fi1pbUAYLanm+6RtQNiP4mDE321A9Gpvu8cYbkAUkgjnrFBuQOUkc6X8hm5AGqLD/dm5bkCrl2c28upuQPrcAXUaF29A0X8nSpc2b0BIXu1t91hvQKnTuPCmgG9AXim/sc2ob0Ctblnw9dRvQPZUpOmDAnBA6L8TpUsbcEACdRoX3jRwQO5t9xhTT3BALUcPWT9qcECSV3vbPYZwQPqNbUatoXBAY9eiJdW8cEDNMxt5tddwQBJsgv478XBAhnNWaJgJcUD+xjaj1iBxQKf8xjajNnFA64PC6pZFcUArv7HNqFVxQDffJ/sCaHFAu/CmwHV8cUAOIHYtWpJxQDOTGyohqXFA1VYZBJvAcUDyROnSVtlxQGQmN1RC8nFArJdnNvIKckDJhTcFriNyQLnKINgEPXJAUwlJhHNWckDyk30BxG5yQOg3thm1hnJAtX4UByOeckAJwSbov7NyQGWIDvdnx3JAteDrqUjTckDaoiXVfN9yQHy1t91j7HJA8R5j6uX5ckA1pl6e2QhzQM4g2AT9F3NAvKESkggnc0D/FcvRQzZzQEF3QJ3GRXNALdL0QWFVc0C/2tvuMWZzQBy1BnKSeXNAnI282tuOc0BDncaFN6VzQOiZjbzau3NAi3DOCg3Tc0BZym9sM+pzQCpd2iqDAHRAUljdsuALdED2kPWjOBh0QLZVBsEmKHRAwWI5esg6dEBt0ZJqvk90QJV9AcSuZXRA5GDEX7F8dEApmSvlN5Z0QA8zuaESsnRAm3p5ZiPPdEB5jzH18ux0QNx5F4+ACXVARcNMbqgkdUDgFLiOzz11QNSlrTIIVnVAp0tbZRBsdUDVVhkEm4B1QA4gdi1aknVAXFLN98medUAlr/a2e6x1QDpnhYaZvHVAnaD/TpTOdUAfnzugTuN1QO8eY+rl+XVAD0b8FcsRdkCCOo0Lbyp2QB2M+CuWQ3ZAj21GrYFcdkBVQhLhnHV2QMT92XkXj3ZAh5ncUAmpdkChTuPCm8J2QL48s5FX23ZAss2oNZDzdkCCTdB/Jwp3QFgsRw9ZH3dAof9OlC4td0C58KbAdTx3QB5Qp3HhTXdAToHr+Nxhd0CdZK6U33h3QA9G/BXLkXdApTgY8Vesd0DkETAxRMd3QCCyfhQH43dAB19PRZr+d0BA2RdA7Bp4QCM63J+dN3hACMEm6L9TeEAbBJug/254QF4pv7HNiHhA0R1Qp3GheEDwMaZenrl4QJlnNvJqz3hAXnhT4DreeEBJwMQQHe54QADtvItHAHlAVUIS4ZwVeUBM+Y1tRi15QLqhEpIIR3lAzNFD1o9ieUCzfhQHI355QGxvu8eYmnlA+LZ7jKm3eUCrSNMHhdV5QLTg66lI83lAZl8AsWsRekAePWT9KC56QIZzVmiYSXpAeN7FI2BiekDwMaZennl6QBfL0UPWj3pAEzAxRIebekBjiA73Z6d6QAWboP9OtHpAomEmN1TCekCS9aM4GNF6QH5QWN2y4HpA5/tkXwDxekDPCg0zuQF7QIdKSCKcE3tA5CRzpfwme0BoNvJqbzt7QGVfALFrUXtAitKlrTJoe0BXGQSboH97QPjJvgBil3tAmGc28mqve0AOlZBEOMd7QN0BdRoX3ntAp3HhTYHre0CcZK6U3/h7QOU3thm1BnxA2RdA7FoUfEChYSY3VCJ8QD0VafqgMHxABEwM0eE+fED3GFMvz0x8QGlceFPgWnxAhpncUAlpfEBCEuGcFXp8QCKcs0LDjHxAI/6K5eihfEB1GhfeFLh8QEJhdcuCz3xA6XB/dt7lfECTuVJ+Y/t8QMT92XkXD31AZyOv9rYbfUAtRw9ZPyp9QGlJNd8nO31AohKSCOdMfUCAdt7FI2B9QK6BnGSudH1AA9fxuQOKfUAslqOHrJ99QE/jwpsCt31ASdMHhdXNfUDqg8LqluV9QDUuvClw/X1ArG5Z8PUUfkB72z3G1Ct+QKFhJjdUQn5A9JD1ozhYfkCg/06ULm1+QH923sUjgH5AIYlwzgqNfkATQ3S4P5t+QFJrICeZq35A3hS4js+9fkCLllTzfdJ+QLNCw0xu6H5ALrwpcB3/fkDOWaFhJhd/QOtHcTDiL39AXBZ8PRVJf0DImHp5ZmN/QLJ+FAcjfn9AHNuMWgOZf0CFJMI5K7R/QO+AOo0Lz39A3rLg66nof0C+noo0fQCAQOes0DCTC4BA4InSpa0SgEAqIYlwzhqAQIY3Ba7jI4BAXouWVPMtgECGhpncUDmAQKxbFnw9RYBAegRMDNFRgEBzMOKvWF6AQIAUByP+aoBAYWKIDvd3gECAxXL0kIWAQBx5tbfdk4BAObYZtQaigEBsvk/2BbCAQPTMRl7tvYBAEzAxRIfLgECgijR9UNiAQIc3Ba7j44BAuvCmwHXsgECTV3vbPfaAQL6LR8DEAIFA55mNvNoLgUD4tnuMqReBQFy0pJrvI4FA5+gh60cxgUAbBJug/z6BQPfyzEZeTYFAPaBO48JbgUCW39hm1GqBQBmPgIkheoFAHMhJ5kqJgUC2VQbBJpiBQOY3thm1poFA2PG5A+q0gUB58QiYGMKBQLJr0ZJqzoFAkkQ4Z4XWgUByHZ87oN6BQLhoSTXf54FApoesH8XxgUBRMlfKb/yBQLloSTXfB4JAH4z4K5YTgkCuDIJN0B+CQDx6yPpRLIJAswn670Q5gkA9KzTM5EaCQAV1GhfeVIJA44nSpa1igkAC7byLR3CCQLaRV3vbfYJAraqqqqqKgkA9PndAnZaCQHsETAzRoYJACBC7Fi2pgkB/UFjdsrCCQIu/Yjl6uIJAQBVp+qDAgkCIhpncUMmCQPlUpOmD0oJAVFjdsuDbgkBEncaFN+WCQNy1aEk174JAXgM5yVz5gkCd3FAJSQSDQJlBsAn6D4NAaP0oDkYcg0CJhpncUCmDQGebUWsgN4NAWmiYyQ1Fg0A5kJPMlVKDQIN23sUjYINAziDYBP1ng0AZy9FD1m+DQGR1y4Kvd4NArx/FwYh/g0B7U+A6PoeDQFw/ioMRj4NAaK6U39iWg0BfZRBsgp6DQJdqvk/2pYNAenzugDqtg0AcQOxatLSDQP4+2RdAvINA8s/Ou3jEg0CRWgM5ycyDQNi48KbA1YNA84A6jQvfg0BiPAImhuiDQH0ETAzR8YNAthw9ZP34g0BshYaZ3ACEQPELIHYtCoRA3QT9d6IUhEDafJ/sCyCEQH/I+lEcLIRAjr9iOXo4hEAGYteiJUWEQNHkhkpIUoRAXBkEm6BfhEB6aasMgm2EQCzovxOle4RAdbvHmHqJhECq6YPC6paEQKDvk30BpIRALl3aKoOwhEBAjQtvCryEQD8rNMzkxoRAISohiXDOhECr/MY2o9aEQNt8n+wL4IRAcW+7x5jqhEAA8ETp0vaEQAuu43MHBIVAqHRpqwwShUCaLm2VQSCFQF8/ioMRL4VAuH4UByM+hUC7t91jTE2FQD96yPpRXIVAGla3LPhqhUA3kxsqIXmFQKvpg8LqhoVAoNxQCUmUhUADxzaj1qCFQEB6yPpRrIVAjkpIIpyzhUDY4f7svLuFQPXPzrt4xIVAzBAd7s/OhUCeBV9PRdqFQAHwROnS5oVAzHL0kPXzhUCqh6wfxQGGQLMfxcGID4ZAJWPq5ZkdhkCqOBjxVyyGQK6EJMI5O4ZAMTTM5IZKhkD1MaZenlmGQJDSpa0yaIZAGOGcFRp2hkB6uD8774KGQEqH+7PzjoZAZmKIDveXhkCodGmrDKKGQPvyzEZerYZA91csRw+5hkBu5108AsaGQONQCUmE04ZAVIHr+NzhhkDEnoo0ffCGQB3eFLiO/4ZAXz+KgxEPh0AxNMzkhhqHQKwPCqtbJodA/GfnXTwyh0A5G3m1tz2HQE1xMOKvSIdAZACxa9FSh0B+tbfdY1yHQBj034nSZYdAJGPq5Zlth0CuNZCTzHWHQEmH+7PzfodA4Z+dd/GIh0BK6dJWGZSHQAYTQ3S4n4dAK9V8n+yrh0AkARNDdLiHQPKpSNMHxYdAgBePgInRh0B3MOKvWN6HQBlDdLg/64dAJAETQ3T4h0CH6/jcAQWIQGxyQyUkEYhA/iuWo4cciEDoETAxRCeIQGpfALFrMYhAKE0fFFY3iEC7t91jTD2IQI5di5ZUQ4hAC/13onRJiEDGxBAd7k+IQIB5ZiOvVohA4xS4js9diEBFncaFN2WIQCNj6uWZbYhA6kr5jW12iECvDIJN0H+IQBlp+qCwiohAQFG6tFWWiEDlnBUaZqKIQInVLQu+rohAFjAxRIe7iEA4zOSGSsiIQMdMbqiE1IhAEwqrWxbciEA1RIf7s+OIQAF4onRp64hAYu1t9xjziEDDYjl6yPqIQKVhJjdUAolAXfD1VKQJiUB/KtL0QRGJQGAWfD0VGYlA11YZBJsgiUCLmdxQCSmJQBRZP4qDMYlALyGJcM46iUDyvItHwESJQEmH+7PzTolA9lcsRw9ZiUD5Lh4BE2OJQFQyV8pvbIlAI587oE5ziUDaGshJ5nqJQHVsM2oNhIlAYnhT4DqOiUCKc1ZomJmJQIOf7AsgpolAY9oqg2CziUDXMJMbKsGJQEl0uD87z4lA0G9sM2rdiUBYfmObUeuJQLT2tnuM+YlAUKr5PtkHikAET5QubRWKQM/RQ9aPIopAnXp5ZiMvikDYB4XVLTuKQEFRurRVRopATtMHhdVNikBt5108AlaKQDO8KXAdX4pA33kXj4BpikBaVVVVVXWKQKVO48KbgopAV833yb6QikAGE0N0uJ+KQB4Em6D/ropAYXhT4Dq+ikAiUKdx4c2KQOMn+wKI3YpAOkH/nSjtikAS92fnXfyKQNcHhdUtC4tAtRw9ZP0Yi0CrIk0fFCaLQFKULm2VMYtAiIaZ3FA5i0CRzx1Qp0GLQNcayEnmSotALdL0QWFVi0ApN1RCEmGLQLaRV3vbbYtAlKYPCqt7i0Cx43MH1ImLQKKKNH1QmItAptZATjKni0A9KzTM5LaLQH55ZiOvxotAP1G6tFXWi0DXuPCmwOWLQJzJDZWQ9ItApE7jwpsCjECaVPN9sg+MQNXh/uy8G4xAMx4BE0MkjEDiFLiOzy2MQE6XtsogOIxAzr4AYtdCjEAzz2zk1U6MQECzkVd7W4xAy+cOqNNojEApc6X8xnaMQNredo8xhYxAMgu+noqUjEBvvk/2BaCMQECgTuPCq4xA5v7svIu3jEA4ag3kJMOMQM1J5kr5zYxADkmEc1bYjECndGmrDOKMQBhDdLg/64xA+S4eARPzjECtceFNgfuMQJ22yiDYBI1AK9V8n+wLjUAMwSbovxONQOqGSkgiHI1AR7AJ+u8kjUANhdUtCy6NQNEzG3m1N41AE0b8FctBjUDBKXAdn0uNQNrLMxt5VY1AXSxHD1lfjUAh24xaA2mNQOjCmwLXcY1A20BOMld6jUDR5IZKSIKNQJ0YosP9iY1ALEqXtsqQjUClsLplwZeNQEiH+7Pzno1APz53QJ2mjUAKX09Fmq6NQAADiF2Lto1AXj+KgxG/jUC7aEk138eNQNdD1o/i0I1A3EBOMlfajUBzRq2BnOSNQFwZBJug741AQI0Lbwr8jUD1ROnSVgmOQFTjwpsCF45Ahti1aEkljkBix+cOqDOOQEHv4hEwQY5ABmLXoiVFjkBLS6r5PkmOQHppqwyCTY5Avj877+JRjkCVMfXyzFaOQJaTzJXyW45A6+gh60dhjkDAtFUGwWaOQBUKq1sWbI5Aal8AsWtxjkC6VQbBJniOQBzeFLiOf45AKE0fFFaHjkCdZzbyao+OQLx7jKmXl45AR2F1y4KfjkArhuhwf6aOQJJaAznJrI5AV833yb6wjkDC7R5j6rWOQH/I+lEcvI5AN1fKb2zDjkAUCqtbFsyOQO6DwuqW1Y5A70dxMOLfjkBatyz4euqOQFlVVVVV9Y5AF6VLW2UAj0DU4f7svAuPQJEesn4UF49ApGEmN1Qij0CkEpII5yyPQLuhEpIIN49A6yHrR3FAj0Den5138UiPQIBjm1FrUI9AxDkrNMxUj0BvlUGwCVqPQAHtvItHYI9AN98n+wJoj0D8oLC6ZXGPQNLOu3gEfI9AJU0fFFaHj0Bh7W33GJOPQPBt9xhTn49AaSOv9rarj0DhxSNgYriPQNjedo8xxY9AJhHOWaHRj0Cg2cirvd2PQIiZ3FAJ6Y9AXsfnDqjzj0DMb2wzav2PQB+yfhQHA5BADL6eijQFkEDNMxt5tQeQQOB2jzH1CpBAHBfeFLgOkECeFRpmchOQQL6LR8DEGJBAxyNgYogekEAP5CRzpSSQQCCyfhQHK5BAhnNWaJgxkEBAKKxuWTiQQER0uD87P5BAyUnmSvlFkECPbUatgUyQQGxvu8eYUpBAK3AdnztYkEABT5QubV2QQC9aUs33YZBAoxKSCOdkkECWLm2VQWiQQMZfsRw9bJBAIAETQ3RwkEC3t91jTHWQQAGeKF3aepBA9Gpvu8eAkECm6YPC6oaQQNjedo8xjZBA6azQMJOTkED4VKTpg5qQQObV3naPoZBAwJ6KNH2okEDvbfcYU6+QQHVWaJjJtZBA8vVUpOm7kEDbZtQayMGQQMb92XkXx5BARzhnhYbJkEDIcvSQ9cuQQP3vROnSzpBA+VSk6YPSkEA+PndAndaQQMyrve0e25BAGLiOzx3gkEDjOj53QOWQQNgtC76e6pBA2Hyf7AvwkEA4LrwpcPWQQKI7oE7j+pBAgWObUWsAkUAW9N+J0gWRQAGL5eghC5FAAu28i0cQkUBO+Y1tRhWRQDu2GbUGGpFAEeQkc6UckUCRC28KXB+RQJsFX09FIpFAWVVVVVUlkUAh7s/OuyiRQHNZ8PVULJFAOt8n+wIwkUCqS1tlEDSRQJgbKiGJOJFAJXYtWlI9kUCQllTzfUKRQNp8n+wLSJFAF+GcFRpOkUA9Z4WGmVSRQG1JNd8nW5FA8zGmXp5hkUCEdt7FI2iRQAtykrlSbpFAVrq0VQZxkUBrI6/2tnORQIvocH92dpFAioaZ3FB5kUCUgIkhOnyRQDO8KXAdf5FARxLhnBWCkUAv0vRBYYWRQKvAdXzuiJFAu8og2ASNkUCeK+U3tpGRQDXir1iOlpFA4D3G1MubkUBKS6r5PqGRQB4Em6D/ppFA3QT9d6KskUDR5IZKSLKRQCdNHxRWt5FAHaLD/dm5kUCctsog2LyRQDi5oRKSwJFAUh8UVrfEkUAzbZVBsMmRQN21aEk1z5FAEL6eijTVkUBi2iqDYNuRQMmuRUuq4ZFAD1zH5w7okUA14q9Yju6RQBoaZnJD9ZFAIHm1t937kUCRqZdnNgKSQK7m+2RfCJJAVxyM+CsOkkAhjPgrlhOSQLlVBsEmGJJA2i0Lvp4akkA4G3m1tx2SQOnV3naPIZJAwu0eY+olkkAO+u9E6SqSQCIBE0N0MJJAVQlJhHM2kkC83WNMvTySQLfg66lIQ5JAkrza2+5JkkAsSpe2ylCSQDCWo4esV5JAPz53QJ1ekkCk7AsgdmWSQAqu43MHbJJAfPEImBhykkClsLplwXeSQDH4eirSfJJAfECdxoV/kkDlidKlrYKSQGF4U+A6hpJApU7jwpuKkkDafJ/sC5CSQA2F1S0LlpJAUzJXym+ckkDYB4XVLaOSQAfX8bkDqpJA1TCTGyqxkkDXVhkEm7iSQIR23sUjwJJA8Vq0pJrHkkCVRDhnhc6SQBHR4f7s1JJAb1x4U+DakkDEsc2oNeCSQNzxuQPq5JJA0CDYBP3nkkDNmHp5ZuuSQB3xVyxH75JAjEpIIpzzkkCOv2I5eviSQPjMRl7t/ZJAdn923sUDk0DowpsC1wmTQOTYZtQaEJNA39vuMaYWk0Auv7HNqB2TQKYSkgjnJJNAtKciTR8sk0A4ag3kJDOTQP16KtL0OZNAOczkhkpAk0AX4ZwVGkaTQK2EJMI5S5NAt34UByNOk0DBeARMDFGTQBHR4f7sVJNAq60yCDZZk0CYar5P9l2TQJnMlfIbY5NArdO48KZok0A14q9Yjm6TQPK8i0fAdJNAIp87oE57k0CIYBP034GTQO4h60dxiJNAFKjTuPCOk0B7fO6AOpWTQO2/E6VLm5NAwXgETAyhk0C2a9GSaqaTQEPG1Mszq5NAeEMlJBGuk0CMmdxQCbGTQCBmckMltJNA/bZ7jKm3k0CNSkginLuTQAYAAAAAwJNAPmeFhpnEk0DLwYi/YsmTQAtfT0WazpNAdFnw9VTUk0BF7Fq0pNqTQDWA2LVo4ZNALDdUQhLpk0AsN1RCEvGTQOz7ZF8A+ZNAQgImhugAlECjd/EImAiUQNEzG3m1D5RAj4MRf8USlECDsi+A2BWUQEECJoboGJRAn++TfQEclEBdP4qDER+UQJCpl2c2IpRAbg3kJHMllEDL5w6o0yiUQBHkJHOlLJRAINuMWgMxlEDqSvmNbTaUQMhfsRw9PJRABLFr0ZJClEAeyEnmSkmUQBi4js8dUJRAKHOl/MZWlEDvqUjTB12UQPhBYXXLYpRAI3YtWlJllECiijR9UGiUQIk3Ba7ja5RA7kdxMOJvlEAcUy/PbHSUQIdzVmiYeZRAOxjxVyx/lEAOvp6KNIWUQJW5Un5ji5RAh3NWaJiRlEDrcH923pWUQJkFX09FmpRAyCNgYoielEDiidKlraKUQH15ZiOvppRAZCY3VEKqlECBxXL0kK2UQLQvgNi1sJRAiEpIIpyzlECbjbza27aUQCshiXDOupRA2bVoSTW/lEB6tbfdY8SUQA4zuaESypRAaqsMgk3QlEBFh/uz89aUQL7tHmPq3ZRArG5Z8PXklEAO92fnXeyUQCbovxOl85RAPtkXQOz6lEBBEuGcFQKVQC+TGyohCZVAKpajh6wPlUD9O1G6tBWVQNIHhdUtG5VA5l08AiYelUDEwYi/YiGVQL8TpUtbJZVAo4esH8UplUD570Tp0i6VQDh6yPpRNJVAgDqNC286lUCcZK6U30CVQKwfxcGIR5VA8bkD6jROlUAr5Te2GVWVQLkD6jQuXJVAB9RpXHhjlUD0QWF1y2qVQBm1BnKScZVANd8n+wJ4lUDeFLiOz32VQNMHhdUtg5VAqvk+2ReIlUCA2LVoSY2VQBNDdLg/k5VAhHNWaJiZlUDpIetHcaCVQJZBsAn6p5VAB3KSuVKulUDiTYHr+LSVQFFY3bLgu5VAFEN0uD/DlUCW39hm1MqVQAKxa9GS0pVAwnV87oDalUDuCyB2LeKVQKaa75N96ZVAXzwCJobwlUD5yb4AYveVQL/tHmPq/ZVAlcyV8hsDlkBz4U2B6wiWQDC8KXAdD5ZA9t+J0qUVlkB6onRpqxyWQGb9KA5GJJZAZv0oDkYslkCJSkginDOWQKuEJMI5O5ZA4XaPMfVClkAsIYlwzkqWQMFiOXrIUpZAeN7FI2BalkCFYBP032GWQNMwkxsqaZZAYmKIDvdvlkDzpsB1fHaWQC/4eirSfJZA13yf7AuAlkAIwSbov4OWQPejOBjxh5ZAZerlmY2MlkDlwpsC15GWQI8Lbwpcl5ZAwhOlS1udlkBex+cOqKOWQIRN0H8nqpZANKZentmwlkCjsLplwbeWQBwX3hS4vpZAwROlS1vFlkBH/BXL0cuWQDm2GbUG0pZAgokhOtzXlkBM+Y1tRt2WQFjKb2wz4pZA4To+d0DllkC+i0fAxOiWQE4fFFa37JZAZ3JDJSTxlkDnSvmNbfaWQIUkwjkr/JZAgTqNC28Cl0DSQ9aP4giXQCI63J+dD5dAXGUQbIIWl0Bq+qCwuh2XQOE6PndAJZdATh8UVrcsl0DcPcbUyzOXQKuqqqqqOpdAXBZ8PRVBl0BYLEcPWUeXQOypSNMHTZdAdRoX3hRQl0BykrlSflOXQOMRMDFEV5dAfe6AOo1bl0BIcTDir2CXQNzuMaZeZpdAOGeFhplsl0CeKF3aKnOXQIJN0H8nepdA+qCwumWBl0A8AiaG6IiXQFPgOj53kJdAyiDYBP2Xl0C3js8dUJ+XQHAw4q9YppdAq25Z8PWsl0A+2RdA7LKXQHMH1GlcuJdAY/0oDka8l0DoIetHccCXQECdxoU3xZdALEcPWT/Kl0Dg66lI08+XQMdJ5kr51ZdAwTkrNMzcl0BE6dJWGeSXQLoWLanm65dAZzbyam/zl0AyV8pvbPuXQJK5Un5jA5hAUn5jm1ELmEDTB4XVLROYQOCJ0qWtGphATW6ohCQimED7oLC6ZSmYQP/svItHMJhA7byLR8A0mEDk1d52jzmYQI8x9fLMPphAzag1kJNEmEBqb7vHmEqYQCU3VEISUZhAFcvRQ9ZXmEA5KzTM5F6YQPwVy9FDZphA/BXL0UNumEC/AGLXonWYQDZB/50ofZhArpTf2GaEmEAn+wKIXYuYQOGvWI4ekphAfFBY3bKYmEAYBJug/56YQOBNgev4pJhA+8Y2o9aomEAr+Hoq0qyYQNufnXfxsJhAqlsWfD21mEAD6jQuvLmYQNvuMaZevphARyKcs0LDmEDdxSNgYsiYQBL034nSzZhA0fRBYXXTmECkmu+TfdmYQOpHcTDi35hARJo+KKzmmEA1Qf+dKO2YQPpRHIz485hAaEk13yf7mEC2GbUGcgKZQA9ZP4qDCZlAafqgsLoNmUBY3bLg6xGZQN0BdRoXFplAYiY3VEIamUDnSvmNbR6ZQGET9N+JIplAemYjr/YmmUCcAtfxuSuZQB3uz867MJlAUhyM+Cs2mUCxumXB1zuZQLk/O+/iQZlAYE9Fmj5ImUBwClzH506ZQKo1kJPMVZlAI5yzQsNcmUCphCTCOWOZQDzv4hEwaZlAb1nw9VRsmUAAAAAAAHCZQI+AiSE6dJlAsRw9ZP14mUCxa9GSan6ZQFqhYSY3hJlAYiY3VEKKmUCzL4DYtZCZQEJhdcuCl5lAhdUtC76emUDdAXUaF6aZQABPlC5trZlAA4hdi5a0mUBykrlSfruZQJgYosP9wZlA4Nhm1BrImUBIwMQQHc6ZQGcjr/a205lAKEqXtsrYmUBn1BrISd6ZQORzB9Rp5JlASjXfJ/vqmUA4thm1BvKZQAETQ3S495lA6HB/dt79mUA5esj6UQSaQD3G1MszC5pAa4L+O1ESmkA4yVwpvxmaQJk+KKxuIZpA8n2yL4AomkAhTR8UVi+aQLztHmPqNZpA2j3G1Ms7mkDajFoDOUGaQJfJDZWQRJpAvZ6KNH1ImkD2GFMvz0yaQINzVmiYUZpANxjxVyxXmkC0t91jTF2aQOOGSkgiZJpAXO1t9xhrmkC+dXzugHKaQCpHD1k/eppA6gsgdi2CmkB/TdB/J4qaQJ90aasMkppAVvD1VKSZmkB5PRVp+qCaQNzYZtQaqJpAYa6U39iumkCxBnKSubKaQOqAOo0Lt5pAbH923sW7mkCYZK6U38CaQAJykrlSxppAP9aP4mDMmkDm5ZmNvNKaQMwwkxsq2ZpAkUGwCfrfmkBVP4qDEeeaQOyTfQHE7ppAt7RVBsH2mkCC1S0Lvv6aQKL8xjajBptA7abAdXwOm0BOHIz4KxabQJB9AcSuHZtAHpyzQsMkm0AkXdoqgyibQP6HXYuWLJtAjPWjOBgxm0Bj5108AjabQO4b24xaO5tAzUPWj+JAm0BL9gUQu0abQF7q5ZmNTJtAWxP034lSm0BYPAImhlibQMp/J0qXXptAkbbKINhkm0B3AcSuRWubQFLdsuDrcZtAA0mEc1Z4m0Aq4q9Yjn6bQJ44GPFXhJtA6TGmXp6Jm0DdYMRfsYybQDtOMlfKj5tAw6u97R6Tm0A/mj4orJabQNucFRpmmptAlrNCw0yem0Ac60dxMKKbQJazQsNMpptAmk7jwpuqm0DIWaFhJq+bQIqTzJXys5tAqxw9ZP24m0CA6HB/dr6bQCkeARNDxJtAMaPWQE7Km0Bt9JD1o9CbQAiVkEQ415tATS/PbOTdm0BBXu1t9+CbQJXvk30B5JtAtKESkgjnm0CddGmrDOqbQDFB/50o7ZtAJF3aKoPwm0BLRZo+KPSbQMYg2AT995tAlu+TfQH8m0CvQsNMbgCcQGYN5CRzBZxAehQHI/4KnEC3eARMDBGcQN3+7LyLF5xA4108AiYenED0K5ajhyScQNuJ0qWtKpxAzlYZBJswnEDLzrt4BDScQGa+T/YFOJxAE0DsWrQ8nEAJRvwVy0GcQBPxVyxHR5xAsLfdY0xNnECMpg8Kq1OcQLyIv2I5WpxA//x3onRhnEAhN1RCEmmcQFYWfD0VcZxAITdUQhJ5nEBBXu1t94CcQE3N98m+iJxA75D1oziQnEB9r6ciTZecQFiLllTznZxAioCJITqknEA=\"},\"shape\":[1312],\"dtype\":\"float64\",\"order\":\"little\"}]]}}},\"view\":{\"type\":\"object\",\"name\":\"CDSView\",\"id\":\"305172f1-8199-42cc-afb6-ae7a4eadb1e1\",\"attributes\":{\"filter\":{\"type\":\"object\",\"name\":\"AllIndices\",\"id\":\"1f206106-c537-47d5-992d-b0be7fa7b933\"}}},\"glyph\":{\"type\":\"object\",\"name\":\"Line\",\"id\":\"10831ffe-9bf7-4dd8-8d6f-056542c541cd\",\"attributes\":{\"x\":{\"type\":\"field\",\"field\":\"x\"},\"y\":{\"type\":\"field\",\"field\":\"y\"},\"line_color\":\"blue\"}},\"nonselection_glyph\":{\"type\":\"object\",\"name\":\"Line\",\"id\":\"77b2bb65-7e9b-4b9e-b695-2a918b8fdae0\",\"attributes\":{\"x\":{\"type\":\"field\",\"field\":\"x\"},\"y\":{\"type\":\"field\",\"field\":\"y\"},\"line_color\":\"blue\",\"line_alpha\":0.1}},\"muted_glyph\":{\"type\":\"object\",\"name\":\"Line\",\"id\":\"faed093d-824b-463b-894f-3a9859aca30a\",\"attributes\":{\"x\":{\"type\":\"field\",\"field\":\"x\"},\"y\":{\"type\":\"field\",\"field\":\"y\"},\"line_color\":\"blue\",\"line_alpha\":0.2}}}},{\"type\":\"object\",\"name\":\"GlyphRenderer\",\"id\":\"fb379d52-eaca-49aa-9765-7174e3567f7a\",\"attributes\":{\"data_source\":{\"type\":\"object\",\"name\":\"ColumnDataSource\",\"id\":\"14faf431-b252-476b-b007-b1ac1173a43f\",\"attributes\":{\"selected\":{\"type\":\"object\",\"name\":\"Selection\",\"id\":\"cf9b3cc2-d1ff-4ef1-a4ca-2fd2c1c68dde\",\"attributes\":{\"indices\":[],\"line_indices\":[]}},\"selection_policy\":{\"type\":\"object\",\"name\":\"UnionRenderers\",\"id\":\"e3085c2c-3866-4c14-9efc-d7405cd28b1b\"},\"data\":{\"type\":\"map\",\"entries\":[[\"x\",{\"type\":\"ndarray\",\"array\":{\"type\":\"bytes\",\"data\":\"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\"},\"shape\":[1312],\"dtype\":\"int32\",\"order\":\"little\"}],[\"y\",{\"type\":\"ndarray\",\"array\":{\"type\":\"bytes\",\"data\":\"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\"},\"shape\":[1312],\"dtype\":\"float64\",\"order\":\"little\"}]]}}},\"view\":{\"type\":\"object\",\"name\":\"CDSView\",\"id\":\"fa35b9c7-384b-483d-851c-c5c7d23cd042\",\"attributes\":{\"filter\":{\"type\":\"object\",\"name\":\"AllIndices\",\"id\":\"d948d67d-772d-4c67-9a71-680187271585\"}}},\"glyph\":{\"type\":\"object\",\"name\":\"Line\",\"id\":\"c5514d45-84ac-4d99-b070-bf98a8310914\",\"attributes\":{\"x\":{\"type\":\"field\",\"field\":\"x\"},\"y\":{\"type\":\"field\",\"field\":\"y\"},\"line_color\":\"green\"}},\"nonselection_glyph\":{\"type\":\"object\",\"name\":\"Line\",\"id\":\"92cc97f5-3fd6-4332-a8ab-579001bd4405\",\"attributes\":{\"x\":{\"type\":\"field\",\"field\":\"x\"},\"y\":{\"type\":\"field\",\"field\":\"y\"},\"line_color\":\"green\",\"line_alpha\":0.1}},\"muted_glyph\":{\"type\":\"object\",\"name\":\"Line\",\"id\":\"0378a1ea-461e-45e7-91cb-51e5dabeaa47\",\"attributes\":{\"x\":{\"type\":\"field\",\"field\":\"x\"},\"y\":{\"type\":\"field\",\"field\":\"y\"},\"line_color\":\"green\",\"line_alpha\":0.2}}}}],\"toolbar\":{\"type\":\"object\",\"name\":\"Toolbar\",\"id\":\"c79b1812-0cde-4b53-91f8-13c32178f4d4\",\"attributes\":{\"tools\":[{\"type\":\"object\",\"name\":\"PanTool\",\"id\":\"3ecbf3e5-9a1e-45f3-b269-376557cb6fb0\"},{\"type\":\"object\",\"name\":\"WheelZoomTool\",\"id\":\"3aa21890-4579-475d-8250-85a99161a8d6\",\"attributes\":{\"renderers\":\"auto\"}},{\"type\":\"object\",\"name\":\"BoxZoomTool\",\"id\":\"34a35a04-8798-4072-91ee-73f728016a5b\",\"attributes\":{\"dimensions\":\"both\",\"overlay\":{\"type\":\"object\",\"name\":\"BoxAnnotation\",\"id\":\"640eb834-06cb-4a60-9126-18e8f445e3d2\",\"attributes\":{\"syncable\":false,\"line_color\":\"black\",\"line_alpha\":1.0,\"line_width\":2,\"line_dash\":[4,4],\"fill_color\":\"lightgrey\",\"fill_alpha\":0.5,\"level\":\"overlay\",\"visible\":false,\"left\":{\"type\":\"number\",\"value\":\"nan\"},\"right\":{\"type\":\"number\",\"value\":\"nan\"},\"top\":{\"type\":\"number\",\"value\":\"nan\"},\"bottom\":{\"type\":\"number\",\"value\":\"nan\"},\"left_units\":\"canvas\",\"right_units\":\"canvas\",\"top_units\":\"canvas\",\"bottom_units\":\"canvas\",\"handles\":{\"type\":\"object\",\"name\":\"BoxInteractionHandles\",\"id\":\"38eb235a-b5bd-4e1f-947e-aab2cdb4f22a\",\"attributes\":{\"all\":{\"type\":\"object\",\"name\":\"AreaVisuals\",\"id\":\"1fa5e782-4c15-4de8-a893-2cd4a42ed525\",\"attributes\":{\"fill_color\":\"white\",\"hover_fill_color\":\"lightgray\"}}}}}}}},{\"type\":\"object\",\"name\":\"SaveTool\",\"id\":\"a0b67ad3-b351-4fd3-bfca-1f5c94145bbd\"},{\"type\":\"object\",\"name\":\"ResetTool\",\"id\":\"293e68ee-6545-4f14-9e0a-6c3349a405a1\"},{\"type\":\"object\",\"name\":\"HelpTool\",\"id\":\"385f5513-ae2b-40a9-bdab-7375ae64170e\"},{\"type\":\"object\",\"name\":\"HoverTool\",\"id\":\"dfd2064e-ebba-4105-9ed0-20b4fda412ec\",\"attributes\":{\"renderers\":\"auto\",\"tooltips\":[[\"Index\",\"$index\"],[\"Baseline Price\",\"@baseline_price\"],[\"Competitive Price\",\"@competitive_price\"]]}}]}},\"left\":[{\"type\":\"object\",\"name\":\"LinearAxis\",\"id\":\"1fc0e4af-1772-4a82-9817-f74e3a113d14\",\"attributes\":{\"ticker\":{\"type\":\"object\",\"name\":\"BasicTicker\",\"id\":\"c43ae6f1-b7f9-44f2-a943-ba4673ec2f28\",\"attributes\":{\"mantissas\":[1,2,5]}},\"formatter\":{\"type\":\"object\",\"name\":\"BasicTickFormatter\",\"id\":\"37d29880-7bd5-4015-a99a-46e07da8c1bc\"},\"axis_label\":\"Price\",\"major_label_policy\":{\"type\":\"object\",\"name\":\"AllLabels\",\"id\":\"4cbc2e2e-da5e-402c-bd46-2e706eb70e26\"}}}],\"below\":[{\"type\":\"object\",\"name\":\"LinearAxis\",\"id\":\"e834ec55-002c-4c27-8b4f-bd39d17eb419\",\"attributes\":{\"ticker\":{\"type\":\"object\",\"name\":\"BasicTicker\",\"id\":\"2f67491e-3319-48d0-8579-af3647b1135a\",\"attributes\":{\"mantissas\":[1,2,5]}},\"formatter\":{\"type\":\"object\",\"name\":\"BasicTickFormatter\",\"id\":\"db560661-5eaa-44c1-b107-5058b2c3f0d4\"},\"axis_label\":\"Data Point Index\",\"major_label_policy\":{\"type\":\"object\",\"name\":\"AllLabels\",\"id\":\"d23beb23-f175-49bb-80b1-84b9c5b7df69\"}}}],\"center\":[{\"type\":\"object\",\"name\":\"Grid\",\"id\":\"cb116448-b43e-44f1-b5ef-f8667f2b6ee9\",\"attributes\":{\"axis\":{\"id\":\"e834ec55-002c-4c27-8b4f-bd39d17eb419\"}}},{\"type\":\"object\",\"name\":\"Grid\",\"id\":\"6d19b8de-16c1-4411-a8c2-9315fe7840c4\",\"attributes\":{\"dimension\":1,\"axis\":{\"id\":\"1fc0e4af-1772-4a82-9817-f74e3a113d14\"}}},{\"type\":\"object\",\"name\":\"Legend\",\"id\":\"4a751622-00c2-4099-a60e-b3874eb3ff56\",\"attributes\":{\"items\":[{\"type\":\"object\",\"name\":\"LegendItem\",\"id\":\"e1765933-ea12-4516-be70-d7824951eafa\",\"attributes\":{\"label\":{\"type\":\"value\",\"value\":\"Baseline Price\"},\"renderers\":[{\"id\":\"b607930b-95e4-42bd-819e-b7c2a11271b4\"}]}},{\"type\":\"object\",\"name\":\"LegendItem\",\"id\":\"6fa8af48-24c5-4c15-b095-a3664b4a2392\",\"attributes\":{\"label\":{\"type\":\"value\",\"value\":\"Competitive Price\"},\"renderers\":[{\"id\":\"fb379d52-eaca-49aa-9765-7174e3567f7a\"}]}}]}}]}}],\"defs\":[{\"type\":\"model\",\"name\":\"ReactiveHTML1\"},{\"type\":\"model\",\"name\":\"FlexBox1\",\"properties\":[{\"name\":\"align_content\",\"kind\":\"Any\",\"default\":\"flex-start\"},{\"name\":\"align_items\",\"kind\":\"Any\",\"default\":\"flex-start\"},{\"name\":\"flex_direction\",\"kind\":\"Any\",\"default\":\"row\"},{\"name\":\"flex_wrap\",\"kind\":\"Any\",\"default\":\"wrap\"},{\"name\":\"gap\",\"kind\":\"Any\",\"default\":\"\"},{\"name\":\"justify_content\",\"kind\":\"Any\",\"default\":\"flex-start\"}]},{\"type\":\"model\",\"name\":\"FloatPanel1\",\"properties\":[{\"name\":\"config\",\"kind\":\"Any\",\"default\":{\"type\":\"map\"}},{\"name\":\"contained\",\"kind\":\"Any\",\"default\":true},{\"name\":\"position\",\"kind\":\"Any\",\"default\":\"right-top\"},{\"name\":\"offsetx\",\"kind\":\"Any\",\"default\":null},{\"name\":\"offsety\",\"kind\":\"Any\",\"default\":null},{\"name\":\"theme\",\"kind\":\"Any\",\"default\":\"primary\"},{\"name\":\"status\",\"kind\":\"Any\",\"default\":\"normalized\"}]},{\"type\":\"model\",\"name\":\"GridStack1\",\"properties\":[{\"name\":\"ncols\",\"kind\":\"Any\",\"default\":null},{\"name\":\"nrows\",\"kind\":\"Any\",\"default\":null},{\"name\":\"allow_resize\",\"kind\":\"Any\",\"default\":true},{\"name\":\"allow_drag\",\"kind\":\"Any\",\"default\":true},{\"name\":\"state\",\"kind\":\"Any\",\"default\":[]}]},{\"type\":\"model\",\"name\":\"drag1\",\"properties\":[{\"name\":\"slider_width\",\"kind\":\"Any\",\"default\":5},{\"name\":\"slider_color\",\"kind\":\"Any\",\"default\":\"black\"},{\"name\":\"value\",\"kind\":\"Any\",\"default\":50}]},{\"type\":\"model\",\"name\":\"click1\",\"properties\":[{\"name\":\"terminal_output\",\"kind\":\"Any\",\"default\":\"\"},{\"name\":\"debug_name\",\"kind\":\"Any\",\"default\":\"\"},{\"name\":\"clears\",\"kind\":\"Any\",\"default\":0}]},{\"type\":\"model\",\"name\":\"ReactiveESM1\",\"properties\":[{\"name\":\"esm_constants\",\"kind\":\"Any\",\"default\":{\"type\":\"map\"}}]},{\"type\":\"model\",\"name\":\"JSComponent1\",\"properties\":[{\"name\":\"esm_constants\",\"kind\":\"Any\",\"default\":{\"type\":\"map\"}}]},{\"type\":\"model\",\"name\":\"ReactComponent1\",\"properties\":[{\"name\":\"use_shadow_dom\",\"kind\":\"Any\",\"default\":true},{\"name\":\"esm_constants\",\"kind\":\"Any\",\"default\":{\"type\":\"map\"}}]},{\"type\":\"model\",\"name\":\"AnyWidgetComponent1\",\"properties\":[{\"name\":\"use_shadow_dom\",\"kind\":\"Any\",\"default\":true},{\"name\":\"esm_constants\",\"kind\":\"Any\",\"default\":{\"type\":\"map\"}}]},{\"type\":\"model\",\"name\":\"FastWrapper1\",\"properties\":[{\"name\":\"object\",\"kind\":\"Any\",\"default\":null},{\"name\":\"style\",\"kind\":\"Any\",\"default\":null}]},{\"type\":\"model\",\"name\":\"NotificationArea1\",\"properties\":[{\"name\":\"js_events\",\"kind\":\"Any\",\"default\":{\"type\":\"map\"}},{\"name\":\"max_notifications\",\"kind\":\"Any\",\"default\":5},{\"name\":\"notifications\",\"kind\":\"Any\",\"default\":[]},{\"name\":\"position\",\"kind\":\"Any\",\"default\":\"bottom-right\"},{\"name\":\"_clear\",\"kind\":\"Any\",\"default\":0},{\"name\":\"types\",\"kind\":\"Any\",\"default\":[{\"type\":\"map\",\"entries\":[[\"type\",\"warning\"],[\"background\",\"#ffc107\"],[\"icon\",{\"type\":\"map\",\"entries\":[[\"className\",\"fas fa-exclamation-triangle\"],[\"tagName\",\"i\"],[\"color\",\"white\"]]}]]},{\"type\":\"map\",\"entries\":[[\"type\",\"info\"],[\"background\",\"#007bff\"],[\"icon\",{\"type\":\"map\",\"entries\":[[\"className\",\"fas fa-info-circle\"],[\"tagName\",\"i\"],[\"color\",\"white\"]]}]]}]}]},{\"type\":\"model\",\"name\":\"Notification\",\"properties\":[{\"name\":\"background\",\"kind\":\"Any\",\"default\":null},{\"name\":\"duration\",\"kind\":\"Any\",\"default\":3000},{\"name\":\"icon\",\"kind\":\"Any\",\"default\":null},{\"name\":\"message\",\"kind\":\"Any\",\"default\":\"\"},{\"name\":\"notification_type\",\"kind\":\"Any\",\"default\":null},{\"name\":\"_rendered\",\"kind\":\"Any\",\"default\":false},{\"name\":\"_destroyed\",\"kind\":\"Any\",\"default\":false}]},{\"type\":\"model\",\"name\":\"TemplateActions1\",\"properties\":[{\"name\":\"open_modal\",\"kind\":\"Any\",\"default\":0},{\"name\":\"close_modal\",\"kind\":\"Any\",\"default\":0}]},{\"type\":\"model\",\"name\":\"BootstrapTemplateActions1\",\"properties\":[{\"name\":\"open_modal\",\"kind\":\"Any\",\"default\":0},{\"name\":\"close_modal\",\"kind\":\"Any\",\"default\":0}]},{\"type\":\"model\",\"name\":\"TemplateEditor1\",\"properties\":[{\"name\":\"layout\",\"kind\":\"Any\",\"default\":[]}]},{\"type\":\"model\",\"name\":\"MaterialTemplateActions1\",\"properties\":[{\"name\":\"open_modal\",\"kind\":\"Any\",\"default\":0},{\"name\":\"close_modal\",\"kind\":\"Any\",\"default\":0}]},{\"type\":\"model\",\"name\":\"request_value1\",\"properties\":[{\"name\":\"fill\",\"kind\":\"Any\",\"default\":\"none\"},{\"name\":\"_synced\",\"kind\":\"Any\",\"default\":null},{\"name\":\"_request_sync\",\"kind\":\"Any\",\"default\":0}]}]}};\n",
              "  const render_items = [{\"docid\":\"ccc3ee1b-bfda-4727-b273-d5094b4f1e88\",\"roots\":{\"bd809c9d-c537-4d3c-9f45-fcb8e35b9390\":\"e0897943-2dbd-437a-99ee-1605edc50f5e\"},\"root_ids\":[\"bd809c9d-c537-4d3c-9f45-fcb8e35b9390\"]}];\n",
              "  void root.Bokeh.embed.embed_items_notebook(docs_json, render_items);\n",
              "  }\n",
              "  if (root.Bokeh !== undefined) {\n",
              "    embed_document(root);\n",
              "  } else {\n",
              "    let attempts = 0;\n",
              "    const timer = setInterval(function(root) {\n",
              "      if (root.Bokeh !== undefined) {\n",
              "        clearInterval(timer);\n",
              "        embed_document(root);\n",
              "      } else {\n",
              "        attempts++;\n",
              "        if (attempts > 100) {\n",
              "          clearInterval(timer);\n",
              "          console.log(\"Bokeh: ERROR: Unable to run BokehJS code because BokehJS library is missing\");\n",
              "        }\n",
              "      }\n",
              "    }, 10, root)\n",
              "  }\n",
              "})(window);"
            ],
            "application/vnd.bokehjs_exec.v0+json": ""
          },
          "metadata": {
            "application/vnd.bokehjs_exec.v0+json": {
              "id": "bd809c9d-c537-4d3c-9f45-fcb8e35b9390"
            }
          }
        }
      ]
    },
    {
      "cell_type": "code",
      "source": [
        "# prompt: make a plot for demand and competitive price\n",
        "\n",
        "# Create a Bokeh figure specifically for demand vs competitive price\n",
        "p_demand_competitive = figure(\n",
        "    title=\"Demand-Based Price vs Competitive Price (Location 0)\",\n",
        "    x_axis_label=\"Data Point Index\",\n",
        "    y_axis_label=\"Price\",\n",
        "    height=300,\n",
        "    width=800\n",
        ")\n",
        "\n",
        "# Filter data for Location 0 (assuming location_to_plot is still 0)\n",
        "location_data_plot = df_final[df_final['location_id'] == location_to_plot].reset_index(drop=True)\n",
        "\n",
        "if not location_data_plot.empty:\n",
        "    # Add lines for demand-based price and competitive price\n",
        "    p_demand_competitive.line(\n",
        "        location_data_plot.index,\n",
        "        location_data_plot['demand_based_price'],\n",
        "        legend_label=\"Demand-Based Price\",\n",
        "        color=\"red\"\n",
        "    )\n",
        "    p_demand_competitive.line(\n",
        "        location_data_plot.index,\n",
        "        location_data_plot['competitive_price'],\n",
        "        legend_label=\"Competitive Price\",\n",
        "        color=\"green\"\n",
        "    )\n",
        "\n",
        "    # Add tooltips\n",
        "    hover_dc = HoverTool(\n",
        "        tooltips=[\n",
        "            (\"Index\", \"$index\"),\n",
        "            (\"Demand-Based Price\", \"@demand_based_price\"),\n",
        "            (\"Competitive Price\", \"@competitive_price\"),\n",
        "        ]\n",
        "    )\n",
        "    p_demand_competitive.add_tools(hover_dc)\n",
        "\n",
        "    # Customize legend location\n",
        "    p_demand_competitive.legend.location = \"top_right\"\n",
        "\n",
        "    # Show the plot\n",
        "    show(p_demand_competitive)\n",
        "else:\n",
        "    print(f\"No data found for location_id {location_to_plot} for demand vs competitive price plot.\")\n"
      ],
      "metadata": {
        "colab": {
          "resources": {
            "http://localhost:8080/static/extensions/panel/bundled/datatabulator/tabulator-tables@6.3.1/dist/css/tabulator_simple.min.css": {
              "data": "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",
              "ok": false,
              "headers": [
                [
                  "content-length",
                  "9307"
                ],
                [
                  "content-type",
                  "text/html"
                ]
              ],
              "status": 404,
              "status_text": ""
            },
            "http://localhost:8080/static/extensions/panel/bundled/reactiveesm/es-module-shims@%5E1.10.0/dist/es-module-shims.min.js": {
              "data": "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",
              "ok": false,
              "headers": [
                [
                  "content-length",
                  "9307"
                ],
                [
                  "content-type",
                  "text/html"
                ]
              ],
              "status": 404,
              "status_text": ""
            },
            "http://localhost:8080/static/extensions/panel/bundled/datatabulator/tabulator-tables@6.3.1/dist/js/tabulator.min.js": {
              "data": "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",
              "ok": false,
              "headers": [
                [
                  "content-length",
                  "9307"
                ],
                [
                  "content-type",
                  "text/html"
                ]
              ],
              "status": 404,
              "status_text": ""
            },
            "http://localhost:8080/static/extensions/panel/bundled/datatabulator/luxon/build/global/luxon.min.js": {
              "data": "PCFET0NUWVBFIEhUTUw+CjxodG1sPgoKPGhlYWQ+CiAgICA8bWV0YSBjaGFyc2V0PSJ1dGYtOCI+CgogICAgPHRpdGxlPkp1cHl0ZXIgTm90ZWJvb2s8L3RpdGxlPgogICAgPGxpbmsgaWQ9ImZhdmljb24iIHJlbD0ic2hvcnRjdXQgaWNvbiIgdHlwZT0iaW1hZ2UveC1pY29uIiBocmVmPSIvc3RhdGljL2Jhc2UvaW1hZ2VzL2Zhdmljb24uaWNvP3Y9NTBhZmE3MjViNWRlOGIwMDAzMDEzOWQwOWIzODYyMDIyNGQ0ZTdkYmE0N2MwN2VmMGU4NmQ0NjQzZjMwYzliZmU2YmI3ZTFhNGExYzU2MWFhMzI4MzQ0ODA5MDlhNGI2ZmU3Y2QxZTE3ZjcxNTkzMzBiNmI1OTE0YmY0NWE4ODAiPgogICAgPG1ldGEgaHR0cC1lcXVpdj0iWC1VQS1Db21wYXRpYmxlIiBjb250ZW50PSJJRT1lZGdlIiAvPgogICAgPGxpbmsgcmVsPSJzdHlsZXNoZWV0IiBocmVmPSIvc3RhdGljL2NvbXBvbmVudHMvanF1ZXJ5LXVpL2Rpc3QvdGhlbWVzL3Ntb290aG5lc3MvanF1ZXJ5LXVpLm1pbi5jc3M/dj1hZWVmOTYyYmU3MDM4NzYxZTUxNzRmOTFlMmRhNzc2YzY0MGY3ODllOTgwMjYyMTE3ODYwNmI3NTk1MDZiMjczZDlhOTdmMTg5YTkyNjJiMTlhYzViNTExZjcwYTY2MmQ4YzVlMmJmMmZiMjU4YWUxMWMzYzJlZTFlMDdjNmFiZCIgdHlwZT0idGV4dC9jc3MiIC8+CiAgICA8bGluayByZWw9InN0eWxlc2hlZXQiIGhyZWY9Ii9zdGF0aWMvY29tcG9uZW50cy9qcXVlcnktdHlwZWFoZWFkL2Rpc3QvanF1ZXJ5LnR5cGVhaGVhZC5taW4uY3NzP3Y9NTBhYmM5ZjA2NThkZWM3NDg4ZTM1MmI3MTk0N2RjMjQ4OWUwODU1M2ExMmEyZmYwZDI5MmNkNTdmZTY1NjI1YjhiNWI1MjE5M2VlNWVlZDAwMzQyMTYyNmRkN2U5ZTUyMDE4ZDgyMmY0NzE5YjdhYjk4YTJjZjE4YWFmNTc1ZmYiIHR5cGU9InRleHQvY3NzIiAvPgogICAgPG1ldGEgbmFtZT0idmlld3BvcnQiIGNvbnRlbnQ9IndpZHRoPWRldmljZS13aWR0aCwgaW5pdGlhbC1zY2FsZT0xLjAiPgogICAgCiAgICAKCiAgICA8bGluayByZWw9InN0eWxlc2hlZXQiIGhyZWY9Ii9zdGF0aWMvc3R5bGUvc3R5bGUubWluLmNzcz92PWFiMjBiZjIzNzM1ZWQ5NTYzMzE4MWJhYTQ3M2ZmNjNiZjI4MWNlYWU0NzA0MDdjNjU2ZTQ4MmE2MThkNzdjOWU5NTFhOGMwYWRhNmYzYjNkMDJkMDU0YTQ4MWZiMzVhYWQ4NTI3ODFkNzJhMmZjNWRkMGJiMTc0ZjBjZjI3MzgxIiB0eXBlPSJ0ZXh0L2NzcyIvPgogICAgCjxzdHlsZSB0eXBlPSJ0ZXh0L2NzcyI+Ci8qIGRpc2FibGUgaW5pdGlhbCBoaWRlICovCmRpdiNoZWFkZXIsIGRpdiNzaXRlIHsKICAgIGRpc3BsYXk6IGJsb2NrOwp9Cjwvc3R5bGU+CgogICAgPGxpbmsgcmVsPSJzdHlsZXNoZWV0IiBocmVmPSIvY3VzdG9tL2N1c3RvbS5jc3MiIHR5cGU9InRleHQvY3NzIiAvPgogICAgPHNjcmlwdCBzcmM9Ii9zdGF0aWMvY29tcG9uZW50cy9lczYtcHJvbWlzZS9wcm9taXNlLm1pbi5qcz92PWJlYTMzNWQ3NDEzNmE2M2FlMWI1MTMwZjVhYzlhNTBjNjI1NmE1ZjQzNWU2ZTA5ZmVmNTk5NDkxYTg0ZDgzNGE4YjBmMDExY2EzZWFhY2EzYjRhYjZhMmRhMmQzZTExOTE1NjdhMmYxNzFlNjBkYTFkMTBlNWI5ZDUyZjg0MTg0IiB0eXBlPSJ0ZXh0L2phdmFzY3JpcHQiIGNoYXJzZXQ9InV0Zi04Ij48L3NjcmlwdD4KICAgIDxzY3JpcHQgc3JjPSIvc3RhdGljL2NvbXBvbmVudHMvcmVhY3QvcmVhY3QucHJvZHVjdGlvbi5taW4uanM/dj05YTBhYWY4NGEzMTZjOGJlZGQ2YzJmZjdkNWI1ZTBhMTNmOGY4NGVjMDI0NDIzNDZjYmEwYjg0MmM2YzgxYTZiZjYxNzZlNjRmMzY3NWMyZWJmMzU3Y2I1YmIwNDhlMGI1MjdiZDM5Mzc3Yzk1NjgxZDIyNDY4ZGEzZDVkZTczNSIgdHlwZT0idGV4dC9qYXZhc2NyaXB0Ij48L3NjcmlwdD4KICAgIDxzY3JpcHQgc3JjPSIvc3RhdGljL2NvbXBvbmVudHMvcmVhY3QvcmVhY3QtZG9tLnByb2R1Y3Rpb24ubWluLmpzP3Y9NmZjNThjMWM0NzM2ODY4ZmY4NGY1N2JkOGI4NWYyYmRiOTg1OTkzYTkzOTI3MThmM2I0YWY0YmZhMTBmYjRlZmJhMmI0ZGRkNjg2NDRiZDJhOGRhZjA2MTlhMzg0NDk0NGM5YzQzZjg1MjgzNjRhMWFhNmZjMDFlYzFiOGFlODQiIHR5cGU9InRleHQvamF2YXNjcmlwdCI+PC9zY3JpcHQ+CiAgICA8c2NyaXB0IHNyYz0iL3N0YXRpYy9jb21wb25lbnRzL2NyZWF0ZS1yZWFjdC1jbGFzcy9pbmRleC5qcz92PTg5NGFkNTcyNDZlNjgyYjRjZmJlN2NkNWU0MDhkY2Q2YjM4ZDA2YWY0ZGU0ZjM0MjU5OTFlMjY3NmZkYzJlZjE3MzJjYmQxOTkwMzEwNDE5ODg3OGFlNzdkZTEyYTE5OTZkZTNlN2RhM2E0NjdmYjIyNmJkZGE4ZjQ2MThmYWVjIiB0eXBlPSJ0ZXh0L2phdmFzY3JpcHQiPjwvc2NyaXB0PgogICAgPHNjcmlwdCBzcmM9Ii9zdGF0aWMvY29tcG9uZW50cy9yZXF1aXJlanMvcmVxdWlyZS5qcz92PWQzN2I0OGJiMjEzN2ZhYTBhYjk4MTU3ZTI0MGMwODRkZDViMWI1ZTc0OTExNzIzYWExZDFmMDRjOTI4YzJhMDNkZWRmOTIyZDA0OWU0ODE1ZjdlNWEzNjlmYWEyZTZiNmExMDAwYWFlOTU4Yjc5NTNiNWNjNjA0MTExNTRmNTkzIiB0eXBlPSJ0ZXh0L2phdmFzY3JpcHQiIGNoYXJzZXQ9InV0Zi04Ij48L3NjcmlwdD4KICAgIDxzY3JpcHQ+CiAgICAgIHJlcXVpcmUuY29uZmlnKHsKICAgICAgICAgIAogICAgICAgICAgdXJsQXJnczogInY9MjAyNTA3MDcwMzQ3MTciLAogICAgICAgICAgCiAgICAgICAgICBiYXNlVXJsOiAnL3N0YXRpYy8nLAogICAgICAgICAgcGF0aHM6IHsKICAgICAgICAgICAgJ2F1dGgvanMvbWFpbic6ICdhdXRoL2pzL21haW4ubWluJywKICAgICAgICAgICAgY3VzdG9tIDogJy9jdXN0b20nLAogICAgICAgICAgICBuYmV4dGVuc2lvbnMgOiAnL25iZXh0ZW5zaW9ucycsCiAgICAgICAgICAgIGtlcm5lbHNwZWNzIDogJy9rZXJuZWxzcGVjcycsCiAgICAgICAgICAgIHVuZGVyc2NvcmUgOiAnY29tcG9uZW50cy91bmRlcnNjb3JlL3VuZGVyc2NvcmUtbWluJywKICAgICAgICAgICAgYmFja2JvbmUgOiAnY29tcG9uZW50cy9iYWNrYm9uZS9iYWNrYm9uZS1taW4nLAogICAgICAgICAgICBqZWQ6ICdjb21wb25lbnRzL2plZC9qZWQnLAogICAgICAgICAgICBqcXVlcnk6ICdjb21wb25lbnRzL2pxdWVyeS9qcXVlcnkubWluJywKICAgICAgICAgICAganNvbjogJ2NvbXBvbmVudHMvcmVxdWlyZWpzLXBsdWdpbnMvc3JjL2pzb24nLAogICAgICAgICAgICB0ZXh0OiAnY29tcG9uZW50cy9yZXF1aXJlanMtdGV4dC90ZXh0JywKICAgICAgICAgICAgYm9vdHN0cmFwOiAnY29tcG9uZW50cy9ib290c3RyYXAvZGlzdC9qcy9ib290c3RyYXAubWluJywKICAgICAgICAgICAgYm9vdHN0cmFwdG91cjogJ2NvbXBvbmVudHMvYm9vdHN0cmFwLXRvdXIvYnVpbGQvanMvYm9vdHN0cmFwLXRvdXIubWluJywKICAgICAgICAgICAgJ2pxdWVyeS11aSc6ICdjb21wb25lbnRzL2pxdWVyeS11aS9kaXN0L2pxdWVyeS11aS5taW4nLAogICAgICAgICAgICBtb21lbnQ6ICdjb21wb25lbnRzL21vbWVudC9taW4vbW9tZW50LXdpdGgtbG9jYWxlcycsCiAgICAgICAgICAgIGNvZGVtaXJyb3I6ICdjb21wb25lbnRzL2NvZGVtaXJyb3InLAogICAgICAgICAgICB0ZXJtanM6ICdjb21wb25lbnRzL3h0ZXJtLmpzL3h0ZXJtJywKICAgICAgICAgICAgdHlwZWFoZWFkOiAnY29tcG9uZW50cy9qcXVlcnktdHlwZWFoZWFkL2Rpc3QvanF1ZXJ5LnR5cGVhaGVhZC5taW4nLAogICAgICAgICAgfSwKICAgICAgICAgIG1hcDogeyAvLyBmb3IgYmFja3dhcmQgY29tcGF0aWJpbGl0eQogICAgICAgICAgICAgICIqIjogewogICAgICAgICAgICAgICAgICAianF1ZXJ5dWkiOiAianF1ZXJ5LXVpIiwKICAgICAgICAgICAgICB9CiAgICAgICAgICB9LAogICAgICAgICAgc2hpbTogewogICAgICAgICAgICB0eXBlYWhlYWQ6IHsKICAgICAgICAgICAgICBkZXBzOiBbImpxdWVyeSJdLAogICAgICAgICAgICAgIGV4cG9ydHM6ICJ0eXBlYWhlYWQiCiAgICAgICAgICAgIH0sCiAgICAgICAgICAgIHVuZGVyc2NvcmU6IHsKICAgICAgICAgICAgICBleHBvcnRzOiAnXycKICAgICAgICAgICAgfSwKICAgICAgICAgICAgYmFja2JvbmU6IHsKICAgICAgICAgICAgICBkZXBzOiBbInVuZGVyc2NvcmUiLCAianF1ZXJ5Il0sCiAgICAgICAgICAgICAgZXhwb3J0czogIkJhY2tib25lIgogICAgICAgICAgICB9LAogICAgICAgICAgICBib290c3RyYXA6IHsKICAgICAgICAgICAgICBkZXBzOiBbImpxdWVyeSJdLAogICAgICAgICAgICAgIGV4cG9ydHM6ICJib290c3RyYXAiCiAgICAgICAgICAgIH0sCiAgICAgICAgICAgIGJvb3RzdHJhcHRvdXI6IHsKICAgICAgICAgICAgICBkZXBzOiBbImJvb3RzdHJhcCJdLAogICAgICAgICAgICAgIGV4cG9ydHM6ICJUb3VyIgogICAgICAgICAgICB9LAogICAgICAgICAgICAianF1ZXJ5LXVpIjogewogICAgICAgICAgICAgIGRlcHM6IFsianF1ZXJ5Il0sCiAgICAgICAgICAgICAgZXhwb3J0czogIiQiCiAgICAgICAgICAgIH0KICAgICAgICAgIH0sCiAgICAgICAgICB3YWl0U2Vjb25kczogMzAsCiAgICAgIH0pOwoKICAgICAgcmVxdWlyZS5jb25maWcoewogICAgICAgICAgbWFwOiB7CiAgICAgICAgICAgICAgJyonOnsKICAgICAgICAgICAgICAgICdjb250ZW50cyc6ICdzZXJ2aWNlcy9jb250ZW50cycsCiAgICAgICAgICAgICAgfQogICAgICAgICAgfQogICAgICB9KTsKCiAgICAgIC8vIGVycm9yLWNhdGNoaW5nIGN1c3RvbS5qcyBzaGltLgogICAgICBkZWZpbmUoImN1c3RvbSIsIGZ1bmN0aW9uIChyZXF1aXJlLCBleHBvcnRzLCBtb2R1bGUpIHsKICAgICAgICAgIHRyeSB7CiAgICAgICAgICAgICAgdmFyIGN1c3RvbSA9IHJlcXVpcmUoJ2N1c3RvbS9jdXN0b20nKTsKICAgICAgICAgICAgICBjb25zb2xlLmRlYnVnKCdsb2FkZWQgY3VzdG9tLmpzJyk7CiAgICAgICAgICAgICAgcmV0dXJuIGN1c3RvbTsKICAgICAgICAgIH0gY2F0Y2ggKGUpIHsKICAgICAgICAgICAgICBjb25zb2xlLmVycm9yKCJlcnJvciBsb2FkaW5nIGN1c3RvbS5qcyIsIGUpOwogICAgICAgICAgICAgIHJldHVybiB7fTsKICAgICAgICAgIH0KICAgICAgfSkKCiAgICAgIC8vIGVycm9yLWNhdGNoaW5nIGN1c3RvbS1wcmVsb2FkLmpzIHNoaW0uCiAgICAgIGRlZmluZSgiY3VzdG9tLXByZWxvYWQiLCBmdW5jdGlvbiAocmVxdWlyZSwgZXhwb3J0cywgbW9kdWxlKSB7CiAgICAgICAgICB0cnkgewogICAgICAgICAgICAgIHZhciBjdXN0b20gPSByZXF1aXJlKCdjdXN0b20vY3VzdG9tLXByZWxvYWQnKTsKICAgICAgICAgICAgICBjb25zb2xlLmRlYnVnKCdsb2FkZWQgY3VzdG9tLXByZWxvYWQuanMnKTsKICAgICAgICAgICAgICByZXR1cm4gY3VzdG9tOwogICAgICAgICAgfSBjYXRjaCAoZSkgewogICAgICAgICAgICAgIGNvbnNvbGUuZXJyb3IoImVycm9yIGxvYWRpbmcgY3VzdG9tLXByZWxvYWQuanMiLCBlKTsKICAgICAgICAgICAgICByZXR1cm4ge307CiAgICAgICAgICB9CiAgICAgIH0pCgogICAgZG9jdW1lbnQubmJqc190cmFuc2xhdGlvbnMgPSB7ImRvbWFpbiI6ICJuYmpzIiwgImxvY2FsZV9kYXRhIjogeyJuYmpzIjogeyIiOiB7ImRvbWFpbiI6ICJuYmpzIn19fX07CiAgICBkb2N1bWVudC5kb2N1bWVudEVsZW1lbnQubGFuZyA9IG5hdmlnYXRvci5sYW5ndWFnZS50b0xvd2VyQ2FzZSgpOwogICAgPC9zY3JpcHQ+CgogICAgCiAgICAKCjwvaGVhZD4KCjxib2R5IGNsYXNzPSIiCiAKICAKIApkaXI9Imx0ciI+Cgo8bm9zY3JpcHQ+CiAgICA8ZGl2IGlkPSdub3NjcmlwdCc+CiAgICAgIEp1cHl0ZXIgTm90ZWJvb2sgcmVxdWlyZXMgSmF2YVNjcmlwdC48YnI+CiAgICAgIFBsZWFzZSBlbmFibGUgaXQgdG8gcHJvY2VlZC4gCiAgPC9kaXY+Cjwvbm9zY3JpcHQ+Cgo8ZGl2IGlkPSJoZWFkZXIiIHJvbGU9Im5hdmlnYXRpb24iIGFyaWEtbGFiZWw9IlRvcCBNZW51Ij4KICA8ZGl2ICBpZD0ibmV3c0lkIiBzdHlsZT0iZGlzcGxheTogbm9uZSI+CiAgICAKICAgIDxkaXYgY2xhc3M9ImFsZXJ0IGFsZXJ0LWluZm8iIHJvbGU9ImFsZXJ0Ij4KICAgICAgPGRpdiBzdHlsZT0iZGlzcGxheTogZmxleCI+CiAgICAgICAgPGRpdj4KICAgICAgICAgIDxzcGFuIGNsYXNzPSJsYWJlbCBsYWJlbC13YXJuaW5nIj5VUERBVEU8L3NwYW4+CiAgICAgICAgICBSZWFkIDxhIGhyZWY9Imh0dHBzOi8vanVweXRlci1ub3RlYm9vay5yZWFkdGhlZG9jcy5pby9lbi9sYXRlc3QvbWlncmF0ZV90b19ub3RlYm9vazcuaHRtbCIgc3R5bGU9InRleHQtZGVjb3JhdGlvbjogdW5kZXJsaW5lOyIgdGFyZ2V0PSJfYmxhbmsiPnRoZSBtaWdyYXRpb24gcGxhbjwvYT4gdG8gTm90ZWJvb2sgNyB0byBsZWFybiBhYm91dCB0aGUgbmV3IGZlYXR1cmVzIGFuZCB0aGUgYWN0aW9ucyB0byB0YWtlIGlmIHlvdSBhcmUgdXNpbmcgZXh0ZW5zaW9ucwogICAgICAgICAgLQogICAgICAgICAgUGxlYXNlIG5vdGUgdGhhdCB1cGRhdGluZyB0byBOb3RlYm9vayA3IG1pZ2h0IGJyZWFrIHNvbWUgb2YgeW91ciBleHRlbnNpb25zLgogICAgICAgIDwvZGl2PgogICAgICAgIDxkaXYgc3R5bGU9Im1hcmdpbi1sZWZ0OiBhdXRvOyI+CiAgICAgICAgICA8YSBocmVmPSIiIG9uY2xpY2s9ImFsZXJ0KCdUaGlzIG1lc3NhZ2Ugd2lsbCBub3QgYmUgc2hvd24gYW55bW9yZS4nKTsgcmV0dXJuIGZhbHNlOyI+CiAgICAgICAgICAgIDxidXR0b24gdHlwZT0iYnV0dG9uIiBjbGFzcz0iYnRuIGJ0bi1kZWZhdWx0IGJ0bi14cyIgaWQ9ImRvbnRTaG93SWQiPgogICAgICAgICAgICAgIERvbid0IHNob3cgYW55bW9yZQogICAgICAgICAgICA8L2J1dHRvbj4KICAgICAgICAgIDwvYT4KICAgICAgICA8L2Rpdj4KICAgICAgPC9kaXY+CiAgICA8L2Rpdj4KICAgIAogIDwvZGl2PgogIDxkaXYgaWQ9ImhlYWRlci1jb250YWluZXIiIGNsYXNzPSJjb250YWluZXIiPgogIDxkaXYgaWQ9ImlweXRob25fbm90ZWJvb2siIGNsYXNzPSJuYXYgbmF2YmFyLWJyYW5kIj48YSBocmVmPSIvdHJlZSIgdGl0bGU9J2Rhc2hib2FyZCc+CiAgICAgIDxpbWcgc3JjPScvc3RhdGljL2Jhc2UvaW1hZ2VzL2xvZ28ucG5nP3Y9YTJhMTc2ZWUzY2VlMjUxZmZkZGY1ZmEyMWZlOGU0MzcyN2E5ZTVmODdhMDZmOWM5MWFkN2I3NzZkOWU5ZDNkNWUwMTU5YzE2Y2MxODhhMzk2NWUwMDM3NWZiNGJjMzM2YzE2MDY3YzY4OGY1MDQwYzBjMmQ0YmZkYjg1MmE5ZTQnIGFsdD0nSnVweXRlciBOb3RlYm9vaycvPgogIDwvYT48L2Rpdj4KCiAgCiAgCiAgCiAgCiAgCiAgCgoKICAKICAKICA8L2Rpdj4KICA8ZGl2IGNsYXNzPSJoZWFkZXItYmFyIj48L2Rpdj4KCiAgCiAgCjwvZGl2PgoKPGRpdiBpZD0ic2l0ZSI+CgoKPGRpdiBjbGFzcz0iZXJyb3IiPgogICAgCiAgICA8aDE+NDA0IDogTm90IEZvdW5kPC9oMT4KICAgIAogICAgCjxwPllvdSBhcmUgcmVxdWVzdGluZyBhIHBhZ2UgdGhhdCBkb2VzIG5vdCBleGlzdCE8L3A+Cgo8L2Rpdj4KCgo8L2Rpdj4KCgoKCgoKCjxzY3JpcHQgdHlwZT0ndGV4dC9qYXZhc2NyaXB0Jz4KcmVxdWlyZShbJ2pxdWVyeSddLCBmdW5jdGlvbigkKSB7CiAgLy8gc2Nyb2xsIGxvbmcgdHJhY2ViYWNrcyB0byB0aGUgYm90dG9tCiAgdmFyIHRiID0gJCgiLnRyYWNlYmFjayIpWzBdOwogIHRiLnNjcm9sbFRvcCA9IHRiLnNjcm9sbEhlaWdodDsKfSk7Cjwvc2NyaXB0PgoKCjxzY3JpcHQgdHlwZT0ndGV4dC9qYXZhc2NyaXB0Jz4KICBmdW5jdGlvbiBfcmVtb3ZlX3Rva2VuX2Zyb21fdXJsKCkgewogICAgaWYgKHdpbmRvdy5sb2NhdGlvbi5zZWFyY2gubGVuZ3RoIDw9IDEpIHsKICAgICAgcmV0dXJuOwogICAgfQogICAgdmFyIHNlYXJjaF9wYXJhbWV0ZXJzID0gd2luZG93LmxvY2F0aW9uLnNlYXJjaC5zbGljZSgxKS5zcGxpdCgnJicpOwogICAgZm9yICh2YXIgaSA9IDA7IGkgPCBzZWFyY2hfcGFyYW1ldGVycy5sZW5ndGg7IGkrKykgewogICAgICBpZiAoc2VhcmNoX3BhcmFtZXRlcnNbaV0uc3BsaXQoJz0nKVswXSA9PT0gJ3Rva2VuJykgewogICAgICAgIC8vIHJlbW90ZSB0b2tlbiBmcm9tIHNlYXJjaCBwYXJhbWV0ZXJzCiAgICAgICAgc2VhcmNoX3BhcmFtZXRlcnMuc3BsaWNlKGksIDEpOwogICAgICAgIHZhciBuZXdfc2VhcmNoID0gJyc7CiAgICAgICAgaWYgKHNlYXJjaF9wYXJhbWV0ZXJzLmxlbmd0aCkgewogICAgICAgICAgbmV3X3NlYXJjaCA9ICc/JyArIHNlYXJjaF9wYXJhbWV0ZXJzLmpvaW4oJyYnKTsKICAgICAgICB9CiAgICAgICAgdmFyIG5ld191cmwgPSB3aW5kb3cubG9jYXRpb24ub3JpZ2luICsgCiAgICAgICAgICAgICAgICAgICAgICB3aW5kb3cubG9jYXRpb24ucGF0aG5hbWUgKyAKICAgICAgICAgICAgICAgICAgICAgIG5ld19zZWFyY2ggKyAKICAgICAgICAgICAgICAgICAgICAgIHdpbmRvdy5sb2NhdGlvbi5oYXNoOwogICAgICAgIHdpbmRvdy5oaXN0b3J5LnJlcGxhY2VTdGF0ZSh7fSwgIiIsIG5ld191cmwpOwogICAgICAgIHJldHVybjsKICAgICAgfQogICAgfQogIH0KICBfcmVtb3ZlX3Rva2VuX2Zyb21fdXJsKCk7CiAgc3lzX2luZm8gPSB7Im5vdGVib29rX3ZlcnNpb24iOiAiNi41LjciLCAibm90ZWJvb2tfcGF0aCI6ICIvdXNyL2xvY2FsL2xpYi9weXRob24zLjExL2Rpc3QtcGFja2FnZXMvbm90ZWJvb2siLCAiY29tbWl0X3NvdXJjZSI6ICIiLCAiY29tbWl0X2hhc2giOiAiIiwgInN5c192ZXJzaW9uIjogIjMuMTEuMTMgKG1haW4sIEp1biAgNCAyMDI1LCAwODo1NzoyOSkgW0dDQyAxMS40LjBdIiwgInN5c19leGVjdXRhYmxlIjogIi91c3IvYmluL3B5dGhvbjMiLCAic3lzX3BsYXRmb3JtIjogImxpbnV4IiwgInBsYXRmb3JtIjogIkxpbnV4LTYuMS4xMjMrLXg4Nl82NC13aXRoLWdsaWJjMi4zNSIsICJvc19uYW1lIjogInBvc2l4IiwgImRlZmF1bHRfZW5jb2RpbmciOiAidXRmLTgifTsKICBkb2N1bWVudC5hZGRFdmVudExpc3RlbmVyKCdET01Db250ZW50TG9hZGVkJywgZnVuY3Rpb24gKCkgewogICAgY29uc3QgbmV3c0lkID0gZG9jdW1lbnQucXVlcnlTZWxlY3RvcignI25ld3NJZCcpOwogICAgY29uc3QgZG9udFNob3dJZCA9IGRvY3VtZW50LnF1ZXJ5U2VsZWN0b3IoJyNkb250U2hvd0lkJyk7CiAgICBjb25zdCBzaG93Tm90ZWJvb2tOZXdzID0gbG9jYWxTdG9yYWdlLmdldEl0ZW0oJ3Nob3dOb3RlYm9va05ld3MnKTsKICAgIGRvbnRTaG93SWQuYWRkRXZlbnRMaXN0ZW5lcignY2xpY2snLCAoKSA9PiB7CiAgICAgIGxvY2FsU3RvcmFnZS5zZXRJdGVtKCdzaG93Tm90ZWJvb2tOZXdzJywgZmFsc2UpOwogICAgICBuZXdzSWQuc3R5bGUuZGlzcGxheSA9ICdub25lJzsKICAgIH0pOwogICAgaWYgKCFzaG93Tm90ZWJvb2tOZXdzKSBuZXdzSWQuc3R5bGUuZGlzcGxheSA9ICdpbmxpbmUnOwogIH0pOwo8L3NjcmlwdD4KPC9ib2R5PgoKPC9odG1sPg==",
              "ok": false,
              "headers": [
                [
                  "content-length",
                  "9307"
                ],
                [
                  "content-type",
                  "text/html"
                ]
              ],
              "status": 404,
              "status_text": ""
            }
          },
          "base_uri": "https://localhost:8080/",
          "height": 317
        },
        "id": "bSDHOc47QDbE",
        "outputId": "015adcdf-5365-4640-d26d-6b8b3dd440cd"
      },
      "execution_count": 215,
      "outputs": [
        {
          "output_type": "display_data",
          "data": {
            "application/javascript": [
              "'use strict';\n",
              "(function(root) {\n",
              "  function now() {\n",
              "    return new Date();\n",
              "  }\n",
              "\n",
              "  const force = true;\n",
              "\n",
              "  if (typeof root._bokeh_onload_callbacks === \"undefined\" || force === true) {\n",
              "    root._bokeh_onload_callbacks = [];\n",
              "    root._bokeh_is_loading = undefined;\n",
              "  }\n",
              "\n",
              "const JS_MIME_TYPE = 'application/javascript';\n",
              "  const HTML_MIME_TYPE = 'text/html';\n",
              "  const EXEC_MIME_TYPE = 'application/vnd.bokehjs_exec.v0+json';\n",
              "  const CLASS_NAME = 'output_bokeh rendered_html';\n",
              "\n",
              "  /**\n",
              "   * Render data to the DOM node\n",
              "   */\n",
              "  function render(props, node) {\n",
              "    const script = document.createElement(\"script\");\n",
              "    node.appendChild(script);\n",
              "  }\n",
              "\n",
              "  /**\n",
              "   * Handle when an output is cleared or removed\n",
              "   */\n",
              "  function handleClearOutput(event, handle) {\n",
              "    function drop(id) {\n",
              "      const view = Bokeh.index.get_by_id(id)\n",
              "      if (view != null) {\n",
              "        view.model.document.clear()\n",
              "        Bokeh.index.delete(view)\n",
              "      }\n",
              "    }\n",
              "\n",
              "    const cell = handle.cell;\n",
              "\n",
              "    const id = cell.output_area._bokeh_element_id;\n",
              "    const server_id = cell.output_area._bokeh_server_id;\n",
              "\n",
              "    // Clean up Bokeh references\n",
              "    if (id != null) {\n",
              "      drop(id)\n",
              "    }\n",
              "\n",
              "    if (server_id !== undefined) {\n",
              "      // Clean up Bokeh references\n",
              "      const cmd_clean = \"from bokeh.io.state import curstate; print(curstate().uuid_to_server['\" + server_id + \"'].get_sessions()[0].document.roots[0]._id)\";\n",
              "      cell.notebook.kernel.execute(cmd_clean, {\n",
              "        iopub: {\n",
              "          output: function(msg) {\n",
              "            const id = msg.content.text.trim()\n",
              "            drop(id)\n",
              "          }\n",
              "        }\n",
              "      });\n",
              "      // Destroy server and session\n",
              "      const cmd_destroy = \"import bokeh.io.notebook as ion; ion.destroy_server('\" + server_id + \"')\";\n",
              "      cell.notebook.kernel.execute(cmd_destroy);\n",
              "    }\n",
              "  }\n",
              "\n",
              "  /**\n",
              "   * Handle when a new output is added\n",
              "   */\n",
              "  function handleAddOutput(event, handle) {\n",
              "    const output_area = handle.output_area;\n",
              "    const output = handle.output;\n",
              "\n",
              "    // limit handleAddOutput to display_data with EXEC_MIME_TYPE content only\n",
              "    if ((output.output_type != \"display_data\") || (!Object.prototype.hasOwnProperty.call(output.data, EXEC_MIME_TYPE))) {\n",
              "      return\n",
              "    }\n",
              "\n",
              "    const toinsert = output_area.element.find(\".\" + CLASS_NAME.split(' ')[0]);\n",
              "\n",
              "    if (output.metadata[EXEC_MIME_TYPE][\"id\"] !== undefined) {\n",
              "      toinsert[toinsert.length - 1].firstChild.textContent = output.data[JS_MIME_TYPE];\n",
              "      // store reference to embed id on output_area\n",
              "      output_area._bokeh_element_id = output.metadata[EXEC_MIME_TYPE][\"id\"];\n",
              "    }\n",
              "    if (output.metadata[EXEC_MIME_TYPE][\"server_id\"] !== undefined) {\n",
              "      const bk_div = document.createElement(\"div\");\n",
              "      bk_div.innerHTML = output.data[HTML_MIME_TYPE];\n",
              "      const script_attrs = bk_div.children[0].attributes;\n",
              "      for (let i = 0; i < script_attrs.length; i++) {\n",
              "        toinsert[toinsert.length - 1].firstChild.setAttribute(script_attrs[i].name, script_attrs[i].value);\n",
              "        toinsert[toinsert.length - 1].firstChild.textContent = bk_div.children[0].textContent\n",
              "      }\n",
              "      // store reference to server id on output_area\n",
              "      output_area._bokeh_server_id = output.metadata[EXEC_MIME_TYPE][\"server_id\"];\n",
              "    }\n",
              "  }\n",
              "\n",
              "  function register_renderer(events, OutputArea) {\n",
              "\n",
              "    function append_mime(data, metadata, element) {\n",
              "      // create a DOM node to render to\n",
              "      const toinsert = this.create_output_subarea(\n",
              "        metadata,\n",
              "        CLASS_NAME,\n",
              "        EXEC_MIME_TYPE\n",
              "      );\n",
              "      this.keyboard_manager.register_events(toinsert);\n",
              "      // Render to node\n",
              "      const props = {data: data, metadata: metadata[EXEC_MIME_TYPE]};\n",
              "      render(props, toinsert[toinsert.length - 1]);\n",
              "      element.append(toinsert);\n",
              "      return toinsert\n",
              "    }\n",
              "\n",
              "    /* Handle when an output is cleared or removed */\n",
              "    events.on('clear_output.CodeCell', handleClearOutput);\n",
              "    events.on('delete.Cell', handleClearOutput);\n",
              "\n",
              "    /* Handle when a new output is added */\n",
              "    events.on('output_added.OutputArea', handleAddOutput);\n",
              "\n",
              "    /**\n",
              "     * Register the mime type and append_mime function with output_area\n",
              "     */\n",
              "    OutputArea.prototype.register_mime_type(EXEC_MIME_TYPE, append_mime, {\n",
              "      /* Is output safe? */\n",
              "      safe: true,\n",
              "      /* Index of renderer in `output_area.display_order` */\n",
              "      index: 0\n",
              "    });\n",
              "  }\n",
              "\n",
              "  // register the mime type if in Jupyter Notebook environment and previously unregistered\n",
              "  if (root.Jupyter !== undefined) {\n",
              "    const events = require('base/js/events');\n",
              "    const OutputArea = require('notebook/js/outputarea').OutputArea;\n",
              "\n",
              "    if (OutputArea.prototype.mime_types().indexOf(EXEC_MIME_TYPE) == -1) {\n",
              "      register_renderer(events, OutputArea);\n",
              "    }\n",
              "  }\n",
              "  if (typeof (root._bokeh_timeout) === \"undefined\" || force === true) {\n",
              "    root._bokeh_timeout = Date.now() + 5000;\n",
              "    root._bokeh_failed_load = false;\n",
              "  }\n",
              "\n",
              "  const NB_LOAD_WARNING = {'data': {'text/html':\n",
              "     \"<div style='background-color: #fdd'>\\n\"+\n",
              "     \"<p>\\n\"+\n",
              "     \"BokehJS does not appear to have successfully loaded. If loading BokehJS from CDN, this \\n\"+\n",
              "     \"may be due to a slow or bad network connection. Possible fixes:\\n\"+\n",
              "     \"</p>\\n\"+\n",
              "     \"<ul>\\n\"+\n",
              "     \"<li>re-rerun `output_notebook()` to attempt to load from CDN again, or</li>\\n\"+\n",
              "     \"<li>use INLINE resources instead, as so:</li>\\n\"+\n",
              "     \"</ul>\\n\"+\n",
              "     \"<code>\\n\"+\n",
              "     \"from bokeh.resources import INLINE\\n\"+\n",
              "     \"output_notebook(resources=INLINE)\\n\"+\n",
              "     \"</code>\\n\"+\n",
              "     \"</div>\"}};\n",
              "\n",
              "  function display_loaded(error = null) {\n",
              "    const el = document.getElementById(null);\n",
              "    if (el != null) {\n",
              "      const html = (() => {\n",
              "        if (typeof root.Bokeh === \"undefined\") {\n",
              "          if (error == null) {\n",
              "            return \"BokehJS is loading ...\";\n",
              "          } else {\n",
              "            return \"BokehJS failed to load.\";\n",
              "          }\n",
              "        } else {\n",
              "          const prefix = `BokehJS ${root.Bokeh.version}`;\n",
              "          if (error == null) {\n",
              "            return `${prefix} successfully loaded.`;\n",
              "          } else {\n",
              "            return `${prefix} <b>encountered errors</b> while loading and may not function as expected.`;\n",
              "          }\n",
              "        }\n",
              "      })();\n",
              "      el.innerHTML = html;\n",
              "\n",
              "      if (error != null) {\n",
              "        const wrapper = document.createElement(\"div\");\n",
              "        wrapper.style.overflow = \"auto\";\n",
              "        wrapper.style.height = \"5em\";\n",
              "        wrapper.style.resize = \"vertical\";\n",
              "        const content = document.createElement(\"div\");\n",
              "        content.style.fontFamily = \"monospace\";\n",
              "        content.style.whiteSpace = \"pre-wrap\";\n",
              "        content.style.backgroundColor = \"rgb(255, 221, 221)\";\n",
              "        content.textContent = error.stack ?? error.toString();\n",
              "        wrapper.append(content);\n",
              "        el.append(wrapper);\n",
              "      }\n",
              "    } else if (Date.now() < root._bokeh_timeout) {\n",
              "      setTimeout(() => display_loaded(error), 100);\n",
              "    }\n",
              "  }\n",
              "\n",
              "  function run_callbacks() {\n",
              "    try {\n",
              "      root._bokeh_onload_callbacks.forEach(function(callback) {\n",
              "        if (callback != null)\n",
              "          callback();\n",
              "      });\n",
              "    } finally {\n",
              "      delete root._bokeh_onload_callbacks\n",
              "    }\n",
              "    console.debug(\"Bokeh: all callbacks have finished\");\n",
              "  }\n",
              "\n",
              "  function load_libs(css_urls, js_urls, callback) {\n",
              "    if (css_urls == null) css_urls = [];\n",
              "    if (js_urls == null) js_urls = [];\n",
              "\n",
              "    root._bokeh_onload_callbacks.push(callback);\n",
              "    if (root._bokeh_is_loading > 0) {\n",
              "      console.debug(\"Bokeh: BokehJS is being loaded, scheduling callback at\", now());\n",
              "      return null;\n",
              "    }\n",
              "    if (js_urls == null || js_urls.length === 0) {\n",
              "      run_callbacks();\n",
              "      return null;\n",
              "    }\n",
              "    console.debug(\"Bokeh: BokehJS not loaded, scheduling load and callback at\", now());\n",
              "    root._bokeh_is_loading = css_urls.length + js_urls.length;\n",
              "\n",
              "    function on_load() {\n",
              "      root._bokeh_is_loading--;\n",
              "      if (root._bokeh_is_loading === 0) {\n",
              "        console.debug(\"Bokeh: all BokehJS libraries/stylesheets loaded\");\n",
              "        run_callbacks()\n",
              "      }\n",
              "    }\n",
              "\n",
              "    function on_error(url) {\n",
              "      console.error(\"failed to load \" + url);\n",
              "    }\n",
              "\n",
              "    for (let i = 0; i < css_urls.length; i++) {\n",
              "      const url = css_urls[i];\n",
              "      const element = document.createElement(\"link\");\n",
              "      element.onload = on_load;\n",
              "      element.onerror = on_error.bind(null, url);\n",
              "      element.rel = \"stylesheet\";\n",
              "      element.type = \"text/css\";\n",
              "      element.href = url;\n",
              "      console.debug(\"Bokeh: injecting link tag for BokehJS stylesheet: \", url);\n",
              "      document.body.appendChild(element);\n",
              "    }\n",
              "\n",
              "    for (let i = 0; i < js_urls.length; i++) {\n",
              "      const url = js_urls[i];\n",
              "      const element = document.createElement('script');\n",
              "      element.onload = on_load;\n",
              "      element.onerror = on_error.bind(null, url);\n",
              "      element.async = false;\n",
              "      element.src = url;\n",
              "      console.debug(\"Bokeh: injecting script tag for BokehJS library: \", url);\n",
              "      document.head.appendChild(element);\n",
              "    }\n",
              "  };\n",
              "\n",
              "  function inject_raw_css(css) {\n",
              "    const element = document.createElement(\"style\");\n",
              "    element.appendChild(document.createTextNode(css));\n",
              "    document.body.appendChild(element);\n",
              "  }\n",
              "\n",
              "  const js_urls = [\"static/extensions/panel/bundled/reactiveesm/es-module-shims@^1.10.0/dist/es-module-shims.min.js\", \"static/extensions/panel/bundled/datatabulator/tabulator-tables@6.3.1/dist/js/tabulator.min.js\", \"static/extensions/panel/bundled/datatabulator/luxon/build/global/luxon.min.js\", \"https://cdn.bokeh.org/bokeh/release/bokeh-3.7.3.min.js\", \"https://cdn.bokeh.org/bokeh/release/bokeh-gl-3.7.3.min.js\", \"https://cdn.bokeh.org/bokeh/release/bokeh-widgets-3.7.3.min.js\", \"https://cdn.bokeh.org/bokeh/release/bokeh-tables-3.7.3.min.js\", \"https://cdn.bokeh.org/bokeh/release/bokeh-mathjax-3.7.3.min.js\", \"https://unpkg.com/@holoviz/panel@1.7.2/dist/panel.min.js\"];\n",
              "  const css_urls = [\"static/extensions/panel/bundled/datatabulator/tabulator-tables@6.3.1/dist/css/tabulator_simple.min.css\"];\n",
              "\n",
              "  const inline_js = [    function(Bokeh) {\n",
              "      Bokeh.set_log_level(\"info\");\n",
              "    },\n",
              "function(Bokeh) {\n",
              "    }\n",
              "  ];\n",
              "\n",
              "  function run_inline_js() {\n",
              "    if (root.Bokeh !== undefined || force === true) {\n",
              "      try {\n",
              "            for (let i = 0; i < inline_js.length; i++) {\n",
              "      inline_js[i].call(root, root.Bokeh);\n",
              "    }\n",
              "\n",
              "      } catch (error) {throw error;\n",
              "      }} else if (Date.now() < root._bokeh_timeout) {\n",
              "      setTimeout(run_inline_js, 100);\n",
              "    } else if (!root._bokeh_failed_load) {\n",
              "      console.log(\"Bokeh: BokehJS failed to load within specified timeout.\");\n",
              "      root._bokeh_failed_load = true;\n",
              "    } else if (force !== true) {\n",
              "      const cell = $(document.getElementById(null)).parents('.cell').data().cell;\n",
              "      cell.output_area.append_execute_result(NB_LOAD_WARNING)\n",
              "    }\n",
              "  }\n",
              "\n",
              "  if (root._bokeh_is_loading === 0) {\n",
              "    console.debug(\"Bokeh: BokehJS loaded, going straight to plotting\");\n",
              "    run_inline_js();\n",
              "  } else {\n",
              "    load_libs(css_urls, js_urls, function() {\n",
              "      console.debug(\"Bokeh: BokehJS plotting callback run at\", now());\n",
              "      run_inline_js();\n",
              "    });\n",
              "  }\n",
              "}(window));"
            ],
            "application/vnd.bokehjs_load.v0+json": "'use strict';\n(function(root) {\n  function now() {\n    return new Date();\n  }\n\n  const force = true;\n\n  if (typeof root._bokeh_onload_callbacks === \"undefined\" || force === true) {\n    root._bokeh_onload_callbacks = [];\n    root._bokeh_is_loading = undefined;\n  }\n\n\n  if (typeof (root._bokeh_timeout) === \"undefined\" || force === true) {\n    root._bokeh_timeout = Date.now() + 5000;\n    root._bokeh_failed_load = false;\n  }\n\n  const NB_LOAD_WARNING = {'data': {'text/html':\n     \"<div style='background-color: #fdd'>\\n\"+\n     \"<p>\\n\"+\n     \"BokehJS does not appear to have successfully loaded. If loading BokehJS from CDN, this \\n\"+\n     \"may be due to a slow or bad network connection. Possible fixes:\\n\"+\n     \"</p>\\n\"+\n     \"<ul>\\n\"+\n     \"<li>re-rerun `output_notebook()` to attempt to load from CDN again, or</li>\\n\"+\n     \"<li>use INLINE resources instead, as so:</li>\\n\"+\n     \"</ul>\\n\"+\n     \"<code>\\n\"+\n     \"from bokeh.resources import INLINE\\n\"+\n     \"output_notebook(resources=INLINE)\\n\"+\n     \"</code>\\n\"+\n     \"</div>\"}};\n\n  function display_loaded(error = null) {\n    const el = document.getElementById(null);\n    if (el != null) {\n      const html = (() => {\n        if (typeof root.Bokeh === \"undefined\") {\n          if (error == null) {\n            return \"BokehJS is loading ...\";\n          } else {\n            return \"BokehJS failed to load.\";\n          }\n        } else {\n          const prefix = `BokehJS ${root.Bokeh.version}`;\n          if (error == null) {\n            return `${prefix} successfully loaded.`;\n          } else {\n            return `${prefix} <b>encountered errors</b> while loading and may not function as expected.`;\n          }\n        }\n      })();\n      el.innerHTML = html;\n\n      if (error != null) {\n        const wrapper = document.createElement(\"div\");\n        wrapper.style.overflow = \"auto\";\n        wrapper.style.height = \"5em\";\n        wrapper.style.resize = \"vertical\";\n        const content = document.createElement(\"div\");\n        content.style.fontFamily = \"monospace\";\n        content.style.whiteSpace = \"pre-wrap\";\n        content.style.backgroundColor = \"rgb(255, 221, 221)\";\n        content.textContent = error.stack ?? error.toString();\n        wrapper.append(content);\n        el.append(wrapper);\n      }\n    } else if (Date.now() < root._bokeh_timeout) {\n      setTimeout(() => display_loaded(error), 100);\n    }\n  }\n\n  function run_callbacks() {\n    try {\n      root._bokeh_onload_callbacks.forEach(function(callback) {\n        if (callback != null)\n          callback();\n      });\n    } finally {\n      delete root._bokeh_onload_callbacks\n    }\n    console.debug(\"Bokeh: all callbacks have finished\");\n  }\n\n  function load_libs(css_urls, js_urls, callback) {\n    if (css_urls == null) css_urls = [];\n    if (js_urls == null) js_urls = [];\n\n    root._bokeh_onload_callbacks.push(callback);\n    if (root._bokeh_is_loading > 0) {\n      console.debug(\"Bokeh: BokehJS is being loaded, scheduling callback at\", now());\n      return null;\n    }\n    if (js_urls == null || js_urls.length === 0) {\n      run_callbacks();\n      return null;\n    }\n    console.debug(\"Bokeh: BokehJS not loaded, scheduling load and callback at\", now());\n    root._bokeh_is_loading = css_urls.length + js_urls.length;\n\n    function on_load() {\n      root._bokeh_is_loading--;\n      if (root._bokeh_is_loading === 0) {\n        console.debug(\"Bokeh: all BokehJS libraries/stylesheets loaded\");\n        run_callbacks()\n      }\n    }\n\n    function on_error(url) {\n      console.error(\"failed to load \" + url);\n    }\n\n    for (let i = 0; i < css_urls.length; i++) {\n      const url = css_urls[i];\n      const element = document.createElement(\"link\");\n      element.onload = on_load;\n      element.onerror = on_error.bind(null, url);\n      element.rel = \"stylesheet\";\n      element.type = \"text/css\";\n      element.href = url;\n      console.debug(\"Bokeh: injecting link tag for BokehJS stylesheet: \", url);\n      document.body.appendChild(element);\n    }\n\n    for (let i = 0; i < js_urls.length; i++) {\n      const url = js_urls[i];\n      const element = document.createElement('script');\n      element.onload = on_load;\n      element.onerror = on_error.bind(null, url);\n      element.async = false;\n      element.src = url;\n      console.debug(\"Bokeh: injecting script tag for BokehJS library: \", url);\n      document.head.appendChild(element);\n    }\n  };\n\n  function inject_raw_css(css) {\n    const element = document.createElement(\"style\");\n    element.appendChild(document.createTextNode(css));\n    document.body.appendChild(element);\n  }\n\n  const js_urls = [\"static/extensions/panel/bundled/reactiveesm/es-module-shims@^1.10.0/dist/es-module-shims.min.js\", \"static/extensions/panel/bundled/datatabulator/tabulator-tables@6.3.1/dist/js/tabulator.min.js\", \"static/extensions/panel/bundled/datatabulator/luxon/build/global/luxon.min.js\", \"https://cdn.bokeh.org/bokeh/release/bokeh-3.7.3.min.js\", \"https://cdn.bokeh.org/bokeh/release/bokeh-gl-3.7.3.min.js\", \"https://cdn.bokeh.org/bokeh/release/bokeh-widgets-3.7.3.min.js\", \"https://cdn.bokeh.org/bokeh/release/bokeh-tables-3.7.3.min.js\", \"https://cdn.bokeh.org/bokeh/release/bokeh-mathjax-3.7.3.min.js\", \"https://unpkg.com/@holoviz/panel@1.7.2/dist/panel.min.js\"];\n  const css_urls = [\"static/extensions/panel/bundled/datatabulator/tabulator-tables@6.3.1/dist/css/tabulator_simple.min.css\"];\n\n  const inline_js = [    function(Bokeh) {\n      Bokeh.set_log_level(\"info\");\n    },\nfunction(Bokeh) {\n    }\n  ];\n\n  function run_inline_js() {\n    if (root.Bokeh !== undefined || force === true) {\n      try {\n            for (let i = 0; i < inline_js.length; i++) {\n      inline_js[i].call(root, root.Bokeh);\n    }\n\n      } catch (error) {throw error;\n      }} else if (Date.now() < root._bokeh_timeout) {\n      setTimeout(run_inline_js, 100);\n    } else if (!root._bokeh_failed_load) {\n      console.log(\"Bokeh: BokehJS failed to load within specified timeout.\");\n      root._bokeh_failed_load = true;\n    } else if (force !== true) {\n      const cell = $(document.getElementById(null)).parents('.cell').data().cell;\n      cell.output_area.append_execute_result(NB_LOAD_WARNING)\n    }\n  }\n\n  if (root._bokeh_is_loading === 0) {\n    console.debug(\"Bokeh: BokehJS loaded, going straight to plotting\");\n    run_inline_js();\n  } else {\n    load_libs(css_urls, js_urls, function() {\n      console.debug(\"Bokeh: BokehJS plotting callback run at\", now());\n      run_inline_js();\n    });\n  }\n}(window));"
          },
          "metadata": {}
        },
        {
          "output_type": "display_data",
          "data": {
            "text/html": [
              "\n",
              "  <div id=\"bbb5c93b-baac-4372-8b8b-71a0f42df553\" data-root-id=\"1463d6e9-17c9-49d4-9569-a9225a5dd8fc\" style=\"display: contents;\"></div>\n"
            ]
          },
          "metadata": {}
        },
        {
          "output_type": "display_data",
          "data": {
            "application/javascript": [
              "(function(root) {\n",
              "  function embed_document(root) {\n",
              "  const docs_json = {\"0a31d253-487c-478c-9878-dc0f884e0d31\":{\"version\":\"3.7.3\",\"title\":\"Bokeh Application\",\"roots\":[{\"type\":\"object\",\"name\":\"Figure\",\"id\":\"1463d6e9-17c9-49d4-9569-a9225a5dd8fc\",\"attributes\":{\"width\":800,\"height\":300,\"x_range\":{\"type\":\"object\",\"name\":\"DataRange1d\",\"id\":\"a148ee25-4035-4191-9135-746fa20aafa9\"},\"y_range\":{\"type\":\"object\",\"name\":\"DataRange1d\",\"id\":\"40b7760a-bce0-4e9d-a407-2bd3798c8cff\"},\"x_scale\":{\"type\":\"object\",\"name\":\"LinearScale\",\"id\":\"e1699b78-1557-433f-9707-8337097fc5a4\"},\"y_scale\":{\"type\":\"object\",\"name\":\"LinearScale\",\"id\":\"4dc3f17e-0a5a-4749-b924-6dd5194a8654\"},\"title\":{\"type\":\"object\",\"name\":\"Title\",\"id\":\"00d5de38-ab58-4ff5-a66b-ff1ed300774d\",\"attributes\":{\"text\":\"Demand-Based Price vs Competitive Price (Location 0)\"}},\"renderers\":[{\"type\":\"object\",\"name\":\"GlyphRenderer\",\"id\":\"e2baa51a-2ec2-4099-94b0-4a203a27fe79\",\"attributes\":{\"data_source\":{\"type\":\"object\",\"name\":\"ColumnDataSource\",\"id\":\"b8f227d8-296d-4a13-83e9-19ca8acc691f\",\"attributes\":{\"selected\":{\"type\":\"object\",\"name\":\"Selection\",\"id\":\"bc0eedd2-66e8-43f4-9977-03d7ee123f14\",\"attributes\":{\"indices\":[],\"line_indices\":[]}},\"selection_policy\":{\"type\":\"object\",\"name\":\"UnionRenderers\",\"id\":\"5003beb5-815a-474e-aa0e-8259618c54be\"},\"data\":{\"type\":\"map\",\"entries\":[[\"x\",{\"type\":\"ndarray\",\"array\":{\"type\":\"bytes\",\"data\":\"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\"},\"shape\":[1312],\"dtype\":\"int32\",\"order\":\"little\"}],[\"y\",{\"type\":\"ndarray\",\"array\":{\"type\":\"bytes\",\"data\":\"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\"},\"shape\":[1312],\"dtype\":\"float64\",\"order\":\"little\"}]]}}},\"view\":{\"type\":\"object\",\"name\":\"CDSView\",\"id\":\"91c5a3b9-7d87-47e0-909c-bb54f256ac21\",\"attributes\":{\"filter\":{\"type\":\"object\",\"name\":\"AllIndices\",\"id\":\"8e676dbc-fb8e-419b-a72a-d4e867400d21\"}}},\"glyph\":{\"type\":\"object\",\"name\":\"Line\",\"id\":\"00dfc6ca-6e68-470b-8e3e-3e1c0f8944c2\",\"attributes\":{\"x\":{\"type\":\"field\",\"field\":\"x\"},\"y\":{\"type\":\"field\",\"field\":\"y\"},\"line_color\":\"red\"}},\"nonselection_glyph\":{\"type\":\"object\",\"name\":\"Line\",\"id\":\"e2b0958b-0f1d-4f83-a056-6e5e0cdf153c\",\"attributes\":{\"x\":{\"type\":\"field\",\"field\":\"x\"},\"y\":{\"type\":\"field\",\"field\":\"y\"},\"line_color\":\"red\",\"line_alpha\":0.1}},\"muted_glyph\":{\"type\":\"object\",\"name\":\"Line\",\"id\":\"da058d9a-7254-4758-9597-9ccb177b1097\",\"attributes\":{\"x\":{\"type\":\"field\",\"field\":\"x\"},\"y\":{\"type\":\"field\",\"field\":\"y\"},\"line_color\":\"red\",\"line_alpha\":0.2}}}},{\"type\":\"object\",\"name\":\"GlyphRenderer\",\"id\":\"ea6809e0-97f8-44a4-96fb-bbd695b17a76\",\"attributes\":{\"data_source\":{\"type\":\"object\",\"name\":\"ColumnDataSource\",\"id\":\"cea7f258-73c5-4a64-b62a-9a8b0e2aede3\",\"attributes\":{\"selected\":{\"type\":\"object\",\"name\":\"Selection\",\"id\":\"e266a2f2-28af-4537-80fc-0fd41bf17c49\",\"attributes\":{\"indices\":[],\"line_indices\":[]}},\"selection_policy\":{\"type\":\"object\",\"name\":\"UnionRenderers\",\"id\":\"dd4ca6b8-2455-4a58-a665-ff0a9870b190\"},\"data\":{\"type\":\"map\",\"entries\":[[\"x\",{\"type\":\"ndarray\",\"array\":{\"type\":\"bytes\",\"data\":\"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\"},\"shape\":[1312],\"dtype\":\"int32\",\"order\":\"little\"}],[\"y\",{\"type\":\"ndarray\",\"array\":{\"type\":\"bytes\",\"data\":\"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\"},\"shape\":[1312],\"dtype\":\"float64\",\"order\":\"little\"}]]}}},\"view\":{\"type\":\"object\",\"name\":\"CDSView\",\"id\":\"6d6070bd-6549-40c2-9505-ecb91ff7097f\",\"attributes\":{\"filter\":{\"type\":\"object\",\"name\":\"AllIndices\",\"id\":\"ee1b555f-1511-44b1-9803-4b02dccbc346\"}}},\"glyph\":{\"type\":\"object\",\"name\":\"Line\",\"id\":\"b5c4e53a-565d-49c5-ac8c-6b6072378821\",\"attributes\":{\"x\":{\"type\":\"field\",\"field\":\"x\"},\"y\":{\"type\":\"field\",\"field\":\"y\"},\"line_color\":\"green\"}},\"nonselection_glyph\":{\"type\":\"object\",\"name\":\"Line\",\"id\":\"a79e39f4-6bec-4cb8-b34a-6075ba543b2c\",\"attributes\":{\"x\":{\"type\":\"field\",\"field\":\"x\"},\"y\":{\"type\":\"field\",\"field\":\"y\"},\"line_color\":\"green\",\"line_alpha\":0.1}},\"muted_glyph\":{\"type\":\"object\",\"name\":\"Line\",\"id\":\"070da617-3350-4a7f-afef-4efa005f6f38\",\"attributes\":{\"x\":{\"type\":\"field\",\"field\":\"x\"},\"y\":{\"type\":\"field\",\"field\":\"y\"},\"line_color\":\"green\",\"line_alpha\":0.2}}}}],\"toolbar\":{\"type\":\"object\",\"name\":\"Toolbar\",\"id\":\"d902658a-7596-46fe-a420-be5852d31334\",\"attributes\":{\"tools\":[{\"type\":\"object\",\"name\":\"PanTool\",\"id\":\"e928d3ae-e41b-4949-9bd6-a36bdd87309b\"},{\"type\":\"object\",\"name\":\"WheelZoomTool\",\"id\":\"82548c40-9667-4516-bb3d-f4db4ae4b106\",\"attributes\":{\"renderers\":\"auto\"}},{\"type\":\"object\",\"name\":\"BoxZoomTool\",\"id\":\"5a5f9e65-9957-416a-9884-e9f53f6faea1\",\"attributes\":{\"dimensions\":\"both\",\"overlay\":{\"type\":\"object\",\"name\":\"BoxAnnotation\",\"id\":\"9fce2813-8b15-48dd-8815-4cd25abb6721\",\"attributes\":{\"syncable\":false,\"line_color\":\"black\",\"line_alpha\":1.0,\"line_width\":2,\"line_dash\":[4,4],\"fill_color\":\"lightgrey\",\"fill_alpha\":0.5,\"level\":\"overlay\",\"visible\":false,\"left\":{\"type\":\"number\",\"value\":\"nan\"},\"right\":{\"type\":\"number\",\"value\":\"nan\"},\"top\":{\"type\":\"number\",\"value\":\"nan\"},\"bottom\":{\"type\":\"number\",\"value\":\"nan\"},\"left_units\":\"canvas\",\"right_units\":\"canvas\",\"top_units\":\"canvas\",\"bottom_units\":\"canvas\",\"handles\":{\"type\":\"object\",\"name\":\"BoxInteractionHandles\",\"id\":\"08e139a9-d3f4-435e-8b50-e8e834e4e7d7\",\"attributes\":{\"all\":{\"type\":\"object\",\"name\":\"AreaVisuals\",\"id\":\"a8c528ed-e5ad-4877-8b7a-1aceaa82c2b8\",\"attributes\":{\"fill_color\":\"white\",\"hover_fill_color\":\"lightgray\"}}}}}}}},{\"type\":\"object\",\"name\":\"SaveTool\",\"id\":\"ab69f57c-5a24-4809-a13f-9b391a7c5804\"},{\"type\":\"object\",\"name\":\"ResetTool\",\"id\":\"d3072b34-f111-440c-919d-75bace5e4716\"},{\"type\":\"object\",\"name\":\"HelpTool\",\"id\":\"e1394f2f-7b24-47d1-a4f6-ae4e4e3ad1c5\"},{\"type\":\"object\",\"name\":\"HoverTool\",\"id\":\"0ae713b8-de28-4dd2-b326-25f93354101b\",\"attributes\":{\"renderers\":\"auto\",\"tooltips\":[[\"Index\",\"$index\"],[\"Demand-Based Price\",\"@demand_based_price\"],[\"Competitive Price\",\"@competitive_price\"]]}}]}},\"left\":[{\"type\":\"object\",\"name\":\"LinearAxis\",\"id\":\"aed102b1-80f2-4f97-a7c9-212fcb511f14\",\"attributes\":{\"ticker\":{\"type\":\"object\",\"name\":\"BasicTicker\",\"id\":\"ce93060d-ae70-48bd-8687-308345d9a7de\",\"attributes\":{\"mantissas\":[1,2,5]}},\"formatter\":{\"type\":\"object\",\"name\":\"BasicTickFormatter\",\"id\":\"e2fbaa03-b2b2-4974-930e-f225a600f5ad\"},\"axis_label\":\"Price\",\"major_label_policy\":{\"type\":\"object\",\"name\":\"AllLabels\",\"id\":\"8c0425c1-0cae-44a0-b669-71d8bdbba76b\"}}}],\"below\":[{\"type\":\"object\",\"name\":\"LinearAxis\",\"id\":\"5b1cab18-d7a2-4f47-8243-72cca6be9b0e\",\"attributes\":{\"ticker\":{\"type\":\"object\",\"name\":\"BasicTicker\",\"id\":\"f1696a6b-0536-4b33-ae74-22bdfeac3672\",\"attributes\":{\"mantissas\":[1,2,5]}},\"formatter\":{\"type\":\"object\",\"name\":\"BasicTickFormatter\",\"id\":\"a23c589e-d09e-4815-a7f0-20148f71c6d6\"},\"axis_label\":\"Data Point Index\",\"major_label_policy\":{\"type\":\"object\",\"name\":\"AllLabels\",\"id\":\"805d0e61-927b-4cb8-8305-acd2da65013e\"}}}],\"center\":[{\"type\":\"object\",\"name\":\"Grid\",\"id\":\"0e1e6aaf-b7af-48f5-b317-19cb78777f79\",\"attributes\":{\"axis\":{\"id\":\"5b1cab18-d7a2-4f47-8243-72cca6be9b0e\"}}},{\"type\":\"object\",\"name\":\"Grid\",\"id\":\"966fed68-e2cf-4e44-8d23-9fe1db709408\",\"attributes\":{\"dimension\":1,\"axis\":{\"id\":\"aed102b1-80f2-4f97-a7c9-212fcb511f14\"}}},{\"type\":\"object\",\"name\":\"Legend\",\"id\":\"b67a0db6-ff52-4b24-ae0c-f56b7e7a552b\",\"attributes\":{\"items\":[{\"type\":\"object\",\"name\":\"LegendItem\",\"id\":\"5d7c93f5-c9ec-4738-bbcf-ea96f9d1be8c\",\"attributes\":{\"label\":{\"type\":\"value\",\"value\":\"Demand-Based Price\"},\"renderers\":[{\"id\":\"e2baa51a-2ec2-4099-94b0-4a203a27fe79\"}]}},{\"type\":\"object\",\"name\":\"LegendItem\",\"id\":\"d7f2684d-db7b-4cb9-b0e9-17e43b28e9e8\",\"attributes\":{\"label\":{\"type\":\"value\",\"value\":\"Competitive Price\"},\"renderers\":[{\"id\":\"ea6809e0-97f8-44a4-96fb-bbd695b17a76\"}]}}]}}]}}],\"defs\":[{\"type\":\"model\",\"name\":\"ReactiveHTML1\"},{\"type\":\"model\",\"name\":\"FlexBox1\",\"properties\":[{\"name\":\"align_content\",\"kind\":\"Any\",\"default\":\"flex-start\"},{\"name\":\"align_items\",\"kind\":\"Any\",\"default\":\"flex-start\"},{\"name\":\"flex_direction\",\"kind\":\"Any\",\"default\":\"row\"},{\"name\":\"flex_wrap\",\"kind\":\"Any\",\"default\":\"wrap\"},{\"name\":\"gap\",\"kind\":\"Any\",\"default\":\"\"},{\"name\":\"justify_content\",\"kind\":\"Any\",\"default\":\"flex-start\"}]},{\"type\":\"model\",\"name\":\"FloatPanel1\",\"properties\":[{\"name\":\"config\",\"kind\":\"Any\",\"default\":{\"type\":\"map\"}},{\"name\":\"contained\",\"kind\":\"Any\",\"default\":true},{\"name\":\"position\",\"kind\":\"Any\",\"default\":\"right-top\"},{\"name\":\"offsetx\",\"kind\":\"Any\",\"default\":null},{\"name\":\"offsety\",\"kind\":\"Any\",\"default\":null},{\"name\":\"theme\",\"kind\":\"Any\",\"default\":\"primary\"},{\"name\":\"status\",\"kind\":\"Any\",\"default\":\"normalized\"}]},{\"type\":\"model\",\"name\":\"GridStack1\",\"properties\":[{\"name\":\"ncols\",\"kind\":\"Any\",\"default\":null},{\"name\":\"nrows\",\"kind\":\"Any\",\"default\":null},{\"name\":\"allow_resize\",\"kind\":\"Any\",\"default\":true},{\"name\":\"allow_drag\",\"kind\":\"Any\",\"default\":true},{\"name\":\"state\",\"kind\":\"Any\",\"default\":[]}]},{\"type\":\"model\",\"name\":\"drag1\",\"properties\":[{\"name\":\"slider_width\",\"kind\":\"Any\",\"default\":5},{\"name\":\"slider_color\",\"kind\":\"Any\",\"default\":\"black\"},{\"name\":\"value\",\"kind\":\"Any\",\"default\":50}]},{\"type\":\"model\",\"name\":\"click1\",\"properties\":[{\"name\":\"terminal_output\",\"kind\":\"Any\",\"default\":\"\"},{\"name\":\"debug_name\",\"kind\":\"Any\",\"default\":\"\"},{\"name\":\"clears\",\"kind\":\"Any\",\"default\":0}]},{\"type\":\"model\",\"name\":\"ReactiveESM1\",\"properties\":[{\"name\":\"esm_constants\",\"kind\":\"Any\",\"default\":{\"type\":\"map\"}}]},{\"type\":\"model\",\"name\":\"JSComponent1\",\"properties\":[{\"name\":\"esm_constants\",\"kind\":\"Any\",\"default\":{\"type\":\"map\"}}]},{\"type\":\"model\",\"name\":\"ReactComponent1\",\"properties\":[{\"name\":\"use_shadow_dom\",\"kind\":\"Any\",\"default\":true},{\"name\":\"esm_constants\",\"kind\":\"Any\",\"default\":{\"type\":\"map\"}}]},{\"type\":\"model\",\"name\":\"AnyWidgetComponent1\",\"properties\":[{\"name\":\"use_shadow_dom\",\"kind\":\"Any\",\"default\":true},{\"name\":\"esm_constants\",\"kind\":\"Any\",\"default\":{\"type\":\"map\"}}]},{\"type\":\"model\",\"name\":\"FastWrapper1\",\"properties\":[{\"name\":\"object\",\"kind\":\"Any\",\"default\":null},{\"name\":\"style\",\"kind\":\"Any\",\"default\":null}]},{\"type\":\"model\",\"name\":\"NotificationArea1\",\"properties\":[{\"name\":\"js_events\",\"kind\":\"Any\",\"default\":{\"type\":\"map\"}},{\"name\":\"max_notifications\",\"kind\":\"Any\",\"default\":5},{\"name\":\"notifications\",\"kind\":\"Any\",\"default\":[]},{\"name\":\"position\",\"kind\":\"Any\",\"default\":\"bottom-right\"},{\"name\":\"_clear\",\"kind\":\"Any\",\"default\":0},{\"name\":\"types\",\"kind\":\"Any\",\"default\":[{\"type\":\"map\",\"entries\":[[\"type\",\"warning\"],[\"background\",\"#ffc107\"],[\"icon\",{\"type\":\"map\",\"entries\":[[\"className\",\"fas fa-exclamation-triangle\"],[\"tagName\",\"i\"],[\"color\",\"white\"]]}]]},{\"type\":\"map\",\"entries\":[[\"type\",\"info\"],[\"background\",\"#007bff\"],[\"icon\",{\"type\":\"map\",\"entries\":[[\"className\",\"fas fa-info-circle\"],[\"tagName\",\"i\"],[\"color\",\"white\"]]}]]}]}]},{\"type\":\"model\",\"name\":\"Notification\",\"properties\":[{\"name\":\"background\",\"kind\":\"Any\",\"default\":null},{\"name\":\"duration\",\"kind\":\"Any\",\"default\":3000},{\"name\":\"icon\",\"kind\":\"Any\",\"default\":null},{\"name\":\"message\",\"kind\":\"Any\",\"default\":\"\"},{\"name\":\"notification_type\",\"kind\":\"Any\",\"default\":null},{\"name\":\"_rendered\",\"kind\":\"Any\",\"default\":false},{\"name\":\"_destroyed\",\"kind\":\"Any\",\"default\":false}]},{\"type\":\"model\",\"name\":\"TemplateActions1\",\"properties\":[{\"name\":\"open_modal\",\"kind\":\"Any\",\"default\":0},{\"name\":\"close_modal\",\"kind\":\"Any\",\"default\":0}]},{\"type\":\"model\",\"name\":\"BootstrapTemplateActions1\",\"properties\":[{\"name\":\"open_modal\",\"kind\":\"Any\",\"default\":0},{\"name\":\"close_modal\",\"kind\":\"Any\",\"default\":0}]},{\"type\":\"model\",\"name\":\"TemplateEditor1\",\"properties\":[{\"name\":\"layout\",\"kind\":\"Any\",\"default\":[]}]},{\"type\":\"model\",\"name\":\"MaterialTemplateActions1\",\"properties\":[{\"name\":\"open_modal\",\"kind\":\"Any\",\"default\":0},{\"name\":\"close_modal\",\"kind\":\"Any\",\"default\":0}]},{\"type\":\"model\",\"name\":\"request_value1\",\"properties\":[{\"name\":\"fill\",\"kind\":\"Any\",\"default\":\"none\"},{\"name\":\"_synced\",\"kind\":\"Any\",\"default\":null},{\"name\":\"_request_sync\",\"kind\":\"Any\",\"default\":0}]}]}};\n",
              "  const render_items = [{\"docid\":\"0a31d253-487c-478c-9878-dc0f884e0d31\",\"roots\":{\"1463d6e9-17c9-49d4-9569-a9225a5dd8fc\":\"bbb5c93b-baac-4372-8b8b-71a0f42df553\"},\"root_ids\":[\"1463d6e9-17c9-49d4-9569-a9225a5dd8fc\"]}];\n",
              "  void root.Bokeh.embed.embed_items_notebook(docs_json, render_items);\n",
              "  }\n",
              "  if (root.Bokeh !== undefined) {\n",
              "    embed_document(root);\n",
              "  } else {\n",
              "    let attempts = 0;\n",
              "    const timer = setInterval(function(root) {\n",
              "      if (root.Bokeh !== undefined) {\n",
              "        clearInterval(timer);\n",
              "        embed_document(root);\n",
              "      } else {\n",
              "        attempts++;\n",
              "        if (attempts > 100) {\n",
              "          clearInterval(timer);\n",
              "          console.log(\"Bokeh: ERROR: Unable to run BokehJS code because BokehJS library is missing\");\n",
              "        }\n",
              "      }\n",
              "    }, 10, root)\n",
              "  }\n",
              "})(window);"
            ],
            "application/vnd.bokehjs_exec.v0+json": ""
          },
          "metadata": {
            "application/vnd.bokehjs_exec.v0+json": {
              "id": "1463d6e9-17c9-49d4-9569-a9225a5dd8fc"
            }
          }
        }
      ]
    },
    {
      "cell_type": "markdown",
      "source": [
        "THE ABOVE GRAPH SHOWS THAT BOTH DEMAND-BASED PRICING AND COMPETITIVE PRICING OVERLAP EACH OTHER."
      ],
      "metadata": {
        "id": "O5eEHCIrSiOs"
      }
    },
    {
      "cell_type": "code",
      "execution_count": 216,
      "metadata": {
        "colab": {
          "base_uri": "https://localhost:8080/",
          "height": 317,
          "resources": {
            "http://localhost:8080/static/extensions/panel/bundled/datatabulator/luxon/build/global/luxon.min.js": {
              "data": "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",
              "headers": [
                [
                  "content-length",
                  "9307"
                ],
                [
                  "content-type",
                  "text/html"
                ]
              ],
              "ok": false,
              "status": 404,
              "status_text": ""
            },
            "http://localhost:8080/static/extensions/panel/bundled/datatabulator/tabulator-tables@6.3.1/dist/css/tabulator_simple.min.css": {
              "data": "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",
              "headers": [
                [
                  "content-length",
                  "9307"
                ],
                [
                  "content-type",
                  "text/html"
                ]
              ],
              "ok": false,
              "status": 404,
              "status_text": ""
            },
            "http://localhost:8080/static/extensions/panel/bundled/datatabulator/tabulator-tables@6.3.1/dist/js/tabulator.min.js": {
              "data": "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",
              "headers": [
                [
                  "content-length",
                  "9307"
                ],
                [
                  "content-type",
                  "text/html"
                ]
              ],
              "ok": false,
              "status": 404,
              "status_text": ""
            },
            "http://localhost:8080/static/extensions/panel/bundled/reactiveesm/es-module-shims@%5E1.10.0/dist/es-module-shims.min.js": {
              "data": "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",
              "headers": [
                [
                  "content-length",
                  "9307"
                ],
                [
                  "content-type",
                  "text/html"
                ]
              ],
              "ok": false,
              "status": 404,
              "status_text": ""
            }
          }
        },
        "id": "d2d3b4f4",
        "outputId": "cc51b396-a882-4286-a6e9-167f12e8e412"
      },
      "outputs": [
        {
          "output_type": "display_data",
          "data": {
            "application/javascript": [
              "'use strict';\n",
              "(function(root) {\n",
              "  function now() {\n",
              "    return new Date();\n",
              "  }\n",
              "\n",
              "  const force = true;\n",
              "\n",
              "  if (typeof root._bokeh_onload_callbacks === \"undefined\" || force === true) {\n",
              "    root._bokeh_onload_callbacks = [];\n",
              "    root._bokeh_is_loading = undefined;\n",
              "  }\n",
              "\n",
              "const JS_MIME_TYPE = 'application/javascript';\n",
              "  const HTML_MIME_TYPE = 'text/html';\n",
              "  const EXEC_MIME_TYPE = 'application/vnd.bokehjs_exec.v0+json';\n",
              "  const CLASS_NAME = 'output_bokeh rendered_html';\n",
              "\n",
              "  /**\n",
              "   * Render data to the DOM node\n",
              "   */\n",
              "  function render(props, node) {\n",
              "    const script = document.createElement(\"script\");\n",
              "    node.appendChild(script);\n",
              "  }\n",
              "\n",
              "  /**\n",
              "   * Handle when an output is cleared or removed\n",
              "   */\n",
              "  function handleClearOutput(event, handle) {\n",
              "    function drop(id) {\n",
              "      const view = Bokeh.index.get_by_id(id)\n",
              "      if (view != null) {\n",
              "        view.model.document.clear()\n",
              "        Bokeh.index.delete(view)\n",
              "      }\n",
              "    }\n",
              "\n",
              "    const cell = handle.cell;\n",
              "\n",
              "    const id = cell.output_area._bokeh_element_id;\n",
              "    const server_id = cell.output_area._bokeh_server_id;\n",
              "\n",
              "    // Clean up Bokeh references\n",
              "    if (id != null) {\n",
              "      drop(id)\n",
              "    }\n",
              "\n",
              "    if (server_id !== undefined) {\n",
              "      // Clean up Bokeh references\n",
              "      const cmd_clean = \"from bokeh.io.state import curstate; print(curstate().uuid_to_server['\" + server_id + \"'].get_sessions()[0].document.roots[0]._id)\";\n",
              "      cell.notebook.kernel.execute(cmd_clean, {\n",
              "        iopub: {\n",
              "          output: function(msg) {\n",
              "            const id = msg.content.text.trim()\n",
              "            drop(id)\n",
              "          }\n",
              "        }\n",
              "      });\n",
              "      // Destroy server and session\n",
              "      const cmd_destroy = \"import bokeh.io.notebook as ion; ion.destroy_server('\" + server_id + \"')\";\n",
              "      cell.notebook.kernel.execute(cmd_destroy);\n",
              "    }\n",
              "  }\n",
              "\n",
              "  /**\n",
              "   * Handle when a new output is added\n",
              "   */\n",
              "  function handleAddOutput(event, handle) {\n",
              "    const output_area = handle.output_area;\n",
              "    const output = handle.output;\n",
              "\n",
              "    // limit handleAddOutput to display_data with EXEC_MIME_TYPE content only\n",
              "    if ((output.output_type != \"display_data\") || (!Object.prototype.hasOwnProperty.call(output.data, EXEC_MIME_TYPE))) {\n",
              "      return\n",
              "    }\n",
              "\n",
              "    const toinsert = output_area.element.find(\".\" + CLASS_NAME.split(' ')[0]);\n",
              "\n",
              "    if (output.metadata[EXEC_MIME_TYPE][\"id\"] !== undefined) {\n",
              "      toinsert[toinsert.length - 1].firstChild.textContent = output.data[JS_MIME_TYPE];\n",
              "      // store reference to embed id on output_area\n",
              "      output_area._bokeh_element_id = output.metadata[EXEC_MIME_TYPE][\"id\"];\n",
              "    }\n",
              "    if (output.metadata[EXEC_MIME_TYPE][\"server_id\"] !== undefined) {\n",
              "      const bk_div = document.createElement(\"div\");\n",
              "      bk_div.innerHTML = output.data[HTML_MIME_TYPE];\n",
              "      const script_attrs = bk_div.children[0].attributes;\n",
              "      for (let i = 0; i < script_attrs.length; i++) {\n",
              "        toinsert[toinsert.length - 1].firstChild.setAttribute(script_attrs[i].name, script_attrs[i].value);\n",
              "        toinsert[toinsert.length - 1].firstChild.textContent = bk_div.children[0].textContent\n",
              "      }\n",
              "      // store reference to server id on output_area\n",
              "      output_area._bokeh_server_id = output.metadata[EXEC_MIME_TYPE][\"server_id\"];\n",
              "    }\n",
              "  }\n",
              "\n",
              "  function register_renderer(events, OutputArea) {\n",
              "\n",
              "    function append_mime(data, metadata, element) {\n",
              "      // create a DOM node to render to\n",
              "      const toinsert = this.create_output_subarea(\n",
              "        metadata,\n",
              "        CLASS_NAME,\n",
              "        EXEC_MIME_TYPE\n",
              "      );\n",
              "      this.keyboard_manager.register_events(toinsert);\n",
              "      // Render to node\n",
              "      const props = {data: data, metadata: metadata[EXEC_MIME_TYPE]};\n",
              "      render(props, toinsert[toinsert.length - 1]);\n",
              "      element.append(toinsert);\n",
              "      return toinsert\n",
              "    }\n",
              "\n",
              "    /* Handle when an output is cleared or removed */\n",
              "    events.on('clear_output.CodeCell', handleClearOutput);\n",
              "    events.on('delete.Cell', handleClearOutput);\n",
              "\n",
              "    /* Handle when a new output is added */\n",
              "    events.on('output_added.OutputArea', handleAddOutput);\n",
              "\n",
              "    /**\n",
              "     * Register the mime type and append_mime function with output_area\n",
              "     */\n",
              "    OutputArea.prototype.register_mime_type(EXEC_MIME_TYPE, append_mime, {\n",
              "      /* Is output safe? */\n",
              "      safe: true,\n",
              "      /* Index of renderer in `output_area.display_order` */\n",
              "      index: 0\n",
              "    });\n",
              "  }\n",
              "\n",
              "  // register the mime type if in Jupyter Notebook environment and previously unregistered\n",
              "  if (root.Jupyter !== undefined) {\n",
              "    const events = require('base/js/events');\n",
              "    const OutputArea = require('notebook/js/outputarea').OutputArea;\n",
              "\n",
              "    if (OutputArea.prototype.mime_types().indexOf(EXEC_MIME_TYPE) == -1) {\n",
              "      register_renderer(events, OutputArea);\n",
              "    }\n",
              "  }\n",
              "  if (typeof (root._bokeh_timeout) === \"undefined\" || force === true) {\n",
              "    root._bokeh_timeout = Date.now() + 5000;\n",
              "    root._bokeh_failed_load = false;\n",
              "  }\n",
              "\n",
              "  const NB_LOAD_WARNING = {'data': {'text/html':\n",
              "     \"<div style='background-color: #fdd'>\\n\"+\n",
              "     \"<p>\\n\"+\n",
              "     \"BokehJS does not appear to have successfully loaded. If loading BokehJS from CDN, this \\n\"+\n",
              "     \"may be due to a slow or bad network connection. Possible fixes:\\n\"+\n",
              "     \"</p>\\n\"+\n",
              "     \"<ul>\\n\"+\n",
              "     \"<li>re-rerun `output_notebook()` to attempt to load from CDN again, or</li>\\n\"+\n",
              "     \"<li>use INLINE resources instead, as so:</li>\\n\"+\n",
              "     \"</ul>\\n\"+\n",
              "     \"<code>\\n\"+\n",
              "     \"from bokeh.resources import INLINE\\n\"+\n",
              "     \"output_notebook(resources=INLINE)\\n\"+\n",
              "     \"</code>\\n\"+\n",
              "     \"</div>\"}};\n",
              "\n",
              "  function display_loaded(error = null) {\n",
              "    const el = document.getElementById(null);\n",
              "    if (el != null) {\n",
              "      const html = (() => {\n",
              "        if (typeof root.Bokeh === \"undefined\") {\n",
              "          if (error == null) {\n",
              "            return \"BokehJS is loading ...\";\n",
              "          } else {\n",
              "            return \"BokehJS failed to load.\";\n",
              "          }\n",
              "        } else {\n",
              "          const prefix = `BokehJS ${root.Bokeh.version}`;\n",
              "          if (error == null) {\n",
              "            return `${prefix} successfully loaded.`;\n",
              "          } else {\n",
              "            return `${prefix} <b>encountered errors</b> while loading and may not function as expected.`;\n",
              "          }\n",
              "        }\n",
              "      })();\n",
              "      el.innerHTML = html;\n",
              "\n",
              "      if (error != null) {\n",
              "        const wrapper = document.createElement(\"div\");\n",
              "        wrapper.style.overflow = \"auto\";\n",
              "        wrapper.style.height = \"5em\";\n",
              "        wrapper.style.resize = \"vertical\";\n",
              "        const content = document.createElement(\"div\");\n",
              "        content.style.fontFamily = \"monospace\";\n",
              "        content.style.whiteSpace = \"pre-wrap\";\n",
              "        content.style.backgroundColor = \"rgb(255, 221, 221)\";\n",
              "        content.textContent = error.stack ?? error.toString();\n",
              "        wrapper.append(content);\n",
              "        el.append(wrapper);\n",
              "      }\n",
              "    } else if (Date.now() < root._bokeh_timeout) {\n",
              "      setTimeout(() => display_loaded(error), 100);\n",
              "    }\n",
              "  }\n",
              "\n",
              "  function run_callbacks() {\n",
              "    try {\n",
              "      root._bokeh_onload_callbacks.forEach(function(callback) {\n",
              "        if (callback != null)\n",
              "          callback();\n",
              "      });\n",
              "    } finally {\n",
              "      delete root._bokeh_onload_callbacks\n",
              "    }\n",
              "    console.debug(\"Bokeh: all callbacks have finished\");\n",
              "  }\n",
              "\n",
              "  function load_libs(css_urls, js_urls, callback) {\n",
              "    if (css_urls == null) css_urls = [];\n",
              "    if (js_urls == null) js_urls = [];\n",
              "\n",
              "    root._bokeh_onload_callbacks.push(callback);\n",
              "    if (root._bokeh_is_loading > 0) {\n",
              "      console.debug(\"Bokeh: BokehJS is being loaded, scheduling callback at\", now());\n",
              "      return null;\n",
              "    }\n",
              "    if (js_urls == null || js_urls.length === 0) {\n",
              "      run_callbacks();\n",
              "      return null;\n",
              "    }\n",
              "    console.debug(\"Bokeh: BokehJS not loaded, scheduling load and callback at\", now());\n",
              "    root._bokeh_is_loading = css_urls.length + js_urls.length;\n",
              "\n",
              "    function on_load() {\n",
              "      root._bokeh_is_loading--;\n",
              "      if (root._bokeh_is_loading === 0) {\n",
              "        console.debug(\"Bokeh: all BokehJS libraries/stylesheets loaded\");\n",
              "        run_callbacks()\n",
              "      }\n",
              "    }\n",
              "\n",
              "    function on_error(url) {\n",
              "      console.error(\"failed to load \" + url);\n",
              "    }\n",
              "\n",
              "    for (let i = 0; i < css_urls.length; i++) {\n",
              "      const url = css_urls[i];\n",
              "      const element = document.createElement(\"link\");\n",
              "      element.onload = on_load;\n",
              "      element.onerror = on_error.bind(null, url);\n",
              "      element.rel = \"stylesheet\";\n",
              "      element.type = \"text/css\";\n",
              "      element.href = url;\n",
              "      console.debug(\"Bokeh: injecting link tag for BokehJS stylesheet: \", url);\n",
              "      document.body.appendChild(element);\n",
              "    }\n",
              "\n",
              "    for (let i = 0; i < js_urls.length; i++) {\n",
              "      const url = js_urls[i];\n",
              "      const element = document.createElement('script');\n",
              "      element.onload = on_load;\n",
              "      element.onerror = on_error.bind(null, url);\n",
              "      element.async = false;\n",
              "      element.src = url;\n",
              "      console.debug(\"Bokeh: injecting script tag for BokehJS library: \", url);\n",
              "      document.head.appendChild(element);\n",
              "    }\n",
              "  };\n",
              "\n",
              "  function inject_raw_css(css) {\n",
              "    const element = document.createElement(\"style\");\n",
              "    element.appendChild(document.createTextNode(css));\n",
              "    document.body.appendChild(element);\n",
              "  }\n",
              "\n",
              "  const js_urls = [\"static/extensions/panel/bundled/reactiveesm/es-module-shims@^1.10.0/dist/es-module-shims.min.js\", \"static/extensions/panel/bundled/datatabulator/tabulator-tables@6.3.1/dist/js/tabulator.min.js\", \"static/extensions/panel/bundled/datatabulator/luxon/build/global/luxon.min.js\", \"https://cdn.bokeh.org/bokeh/release/bokeh-3.7.3.min.js\", \"https://cdn.bokeh.org/bokeh/release/bokeh-gl-3.7.3.min.js\", \"https://cdn.bokeh.org/bokeh/release/bokeh-widgets-3.7.3.min.js\", \"https://cdn.bokeh.org/bokeh/release/bokeh-tables-3.7.3.min.js\", \"https://cdn.bokeh.org/bokeh/release/bokeh-mathjax-3.7.3.min.js\", \"https://unpkg.com/@holoviz/panel@1.7.2/dist/panel.min.js\"];\n",
              "  const css_urls = [\"static/extensions/panel/bundled/datatabulator/tabulator-tables@6.3.1/dist/css/tabulator_simple.min.css\"];\n",
              "\n",
              "  const inline_js = [    function(Bokeh) {\n",
              "      Bokeh.set_log_level(\"info\");\n",
              "    },\n",
              "function(Bokeh) {\n",
              "    }\n",
              "  ];\n",
              "\n",
              "  function run_inline_js() {\n",
              "    if (root.Bokeh !== undefined || force === true) {\n",
              "      try {\n",
              "            for (let i = 0; i < inline_js.length; i++) {\n",
              "      inline_js[i].call(root, root.Bokeh);\n",
              "    }\n",
              "\n",
              "      } catch (error) {throw error;\n",
              "      }} else if (Date.now() < root._bokeh_timeout) {\n",
              "      setTimeout(run_inline_js, 100);\n",
              "    } else if (!root._bokeh_failed_load) {\n",
              "      console.log(\"Bokeh: BokehJS failed to load within specified timeout.\");\n",
              "      root._bokeh_failed_load = true;\n",
              "    } else if (force !== true) {\n",
              "      const cell = $(document.getElementById(null)).parents('.cell').data().cell;\n",
              "      cell.output_area.append_execute_result(NB_LOAD_WARNING)\n",
              "    }\n",
              "  }\n",
              "\n",
              "  if (root._bokeh_is_loading === 0) {\n",
              "    console.debug(\"Bokeh: BokehJS loaded, going straight to plotting\");\n",
              "    run_inline_js();\n",
              "  } else {\n",
              "    load_libs(css_urls, js_urls, function() {\n",
              "      console.debug(\"Bokeh: BokehJS plotting callback run at\", now());\n",
              "      run_inline_js();\n",
              "    });\n",
              "  }\n",
              "}(window));"
            ],
            "application/vnd.bokehjs_load.v0+json": "'use strict';\n(function(root) {\n  function now() {\n    return new Date();\n  }\n\n  const force = true;\n\n  if (typeof root._bokeh_onload_callbacks === \"undefined\" || force === true) {\n    root._bokeh_onload_callbacks = [];\n    root._bokeh_is_loading = undefined;\n  }\n\n\n  if (typeof (root._bokeh_timeout) === \"undefined\" || force === true) {\n    root._bokeh_timeout = Date.now() + 5000;\n    root._bokeh_failed_load = false;\n  }\n\n  const NB_LOAD_WARNING = {'data': {'text/html':\n     \"<div style='background-color: #fdd'>\\n\"+\n     \"<p>\\n\"+\n     \"BokehJS does not appear to have successfully loaded. If loading BokehJS from CDN, this \\n\"+\n     \"may be due to a slow or bad network connection. Possible fixes:\\n\"+\n     \"</p>\\n\"+\n     \"<ul>\\n\"+\n     \"<li>re-rerun `output_notebook()` to attempt to load from CDN again, or</li>\\n\"+\n     \"<li>use INLINE resources instead, as so:</li>\\n\"+\n     \"</ul>\\n\"+\n     \"<code>\\n\"+\n     \"from bokeh.resources import INLINE\\n\"+\n     \"output_notebook(resources=INLINE)\\n\"+\n     \"</code>\\n\"+\n     \"</div>\"}};\n\n  function display_loaded(error = null) {\n    const el = document.getElementById(null);\n    if (el != null) {\n      const html = (() => {\n        if (typeof root.Bokeh === \"undefined\") {\n          if (error == null) {\n            return \"BokehJS is loading ...\";\n          } else {\n            return \"BokehJS failed to load.\";\n          }\n        } else {\n          const prefix = `BokehJS ${root.Bokeh.version}`;\n          if (error == null) {\n            return `${prefix} successfully loaded.`;\n          } else {\n            return `${prefix} <b>encountered errors</b> while loading and may not function as expected.`;\n          }\n        }\n      })();\n      el.innerHTML = html;\n\n      if (error != null) {\n        const wrapper = document.createElement(\"div\");\n        wrapper.style.overflow = \"auto\";\n        wrapper.style.height = \"5em\";\n        wrapper.style.resize = \"vertical\";\n        const content = document.createElement(\"div\");\n        content.style.fontFamily = \"monospace\";\n        content.style.whiteSpace = \"pre-wrap\";\n        content.style.backgroundColor = \"rgb(255, 221, 221)\";\n        content.textContent = error.stack ?? error.toString();\n        wrapper.append(content);\n        el.append(wrapper);\n      }\n    } else if (Date.now() < root._bokeh_timeout) {\n      setTimeout(() => display_loaded(error), 100);\n    }\n  }\n\n  function run_callbacks() {\n    try {\n      root._bokeh_onload_callbacks.forEach(function(callback) {\n        if (callback != null)\n          callback();\n      });\n    } finally {\n      delete root._bokeh_onload_callbacks\n    }\n    console.debug(\"Bokeh: all callbacks have finished\");\n  }\n\n  function load_libs(css_urls, js_urls, callback) {\n    if (css_urls == null) css_urls = [];\n    if (js_urls == null) js_urls = [];\n\n    root._bokeh_onload_callbacks.push(callback);\n    if (root._bokeh_is_loading > 0) {\n      console.debug(\"Bokeh: BokehJS is being loaded, scheduling callback at\", now());\n      return null;\n    }\n    if (js_urls == null || js_urls.length === 0) {\n      run_callbacks();\n      return null;\n    }\n    console.debug(\"Bokeh: BokehJS not loaded, scheduling load and callback at\", now());\n    root._bokeh_is_loading = css_urls.length + js_urls.length;\n\n    function on_load() {\n      root._bokeh_is_loading--;\n      if (root._bokeh_is_loading === 0) {\n        console.debug(\"Bokeh: all BokehJS libraries/stylesheets loaded\");\n        run_callbacks()\n      }\n    }\n\n    function on_error(url) {\n      console.error(\"failed to load \" + url);\n    }\n\n    for (let i = 0; i < css_urls.length; i++) {\n      const url = css_urls[i];\n      const element = document.createElement(\"link\");\n      element.onload = on_load;\n      element.onerror = on_error.bind(null, url);\n      element.rel = \"stylesheet\";\n      element.type = \"text/css\";\n      element.href = url;\n      console.debug(\"Bokeh: injecting link tag for BokehJS stylesheet: \", url);\n      document.body.appendChild(element);\n    }\n\n    for (let i = 0; i < js_urls.length; i++) {\n      const url = js_urls[i];\n      const element = document.createElement('script');\n      element.onload = on_load;\n      element.onerror = on_error.bind(null, url);\n      element.async = false;\n      element.src = url;\n      console.debug(\"Bokeh: injecting script tag for BokehJS library: \", url);\n      document.head.appendChild(element);\n    }\n  };\n\n  function inject_raw_css(css) {\n    const element = document.createElement(\"style\");\n    element.appendChild(document.createTextNode(css));\n    document.body.appendChild(element);\n  }\n\n  const js_urls = [\"static/extensions/panel/bundled/reactiveesm/es-module-shims@^1.10.0/dist/es-module-shims.min.js\", \"static/extensions/panel/bundled/datatabulator/tabulator-tables@6.3.1/dist/js/tabulator.min.js\", \"static/extensions/panel/bundled/datatabulator/luxon/build/global/luxon.min.js\", \"https://cdn.bokeh.org/bokeh/release/bokeh-3.7.3.min.js\", \"https://cdn.bokeh.org/bokeh/release/bokeh-gl-3.7.3.min.js\", \"https://cdn.bokeh.org/bokeh/release/bokeh-widgets-3.7.3.min.js\", \"https://cdn.bokeh.org/bokeh/release/bokeh-tables-3.7.3.min.js\", \"https://cdn.bokeh.org/bokeh/release/bokeh-mathjax-3.7.3.min.js\", \"https://unpkg.com/@holoviz/panel@1.7.2/dist/panel.min.js\"];\n  const css_urls = [\"static/extensions/panel/bundled/datatabulator/tabulator-tables@6.3.1/dist/css/tabulator_simple.min.css\"];\n\n  const inline_js = [    function(Bokeh) {\n      Bokeh.set_log_level(\"info\");\n    },\nfunction(Bokeh) {\n    }\n  ];\n\n  function run_inline_js() {\n    if (root.Bokeh !== undefined || force === true) {\n      try {\n            for (let i = 0; i < inline_js.length; i++) {\n      inline_js[i].call(root, root.Bokeh);\n    }\n\n      } catch (error) {throw error;\n      }} else if (Date.now() < root._bokeh_timeout) {\n      setTimeout(run_inline_js, 100);\n    } else if (!root._bokeh_failed_load) {\n      console.log(\"Bokeh: BokehJS failed to load within specified timeout.\");\n      root._bokeh_failed_load = true;\n    } else if (force !== true) {\n      const cell = $(document.getElementById(null)).parents('.cell').data().cell;\n      cell.output_area.append_execute_result(NB_LOAD_WARNING)\n    }\n  }\n\n  if (root._bokeh_is_loading === 0) {\n    console.debug(\"Bokeh: BokehJS loaded, going straight to plotting\");\n    run_inline_js();\n  } else {\n    load_libs(css_urls, js_urls, function() {\n      console.debug(\"Bokeh: BokehJS plotting callback run at\", now());\n      run_inline_js();\n    });\n  }\n}(window));"
          },
          "metadata": {}
        },
        {
          "output_type": "display_data",
          "data": {
            "text/html": [
              "\n",
              "  <div id=\"a08c19ed-63cf-40f2-bbec-3eeef51e32df\" data-root-id=\"5691da95-8cce-473e-8e54-819a92d30ea4\" style=\"display: contents;\"></div>\n"
            ]
          },
          "metadata": {}
        },
        {
          "output_type": "display_data",
          "data": {
            "application/javascript": [
              "(function(root) {\n",
              "  function embed_document(root) {\n",
              "  const docs_json = {\"550e263e-9f9d-4eff-991c-3a3663c9e561\":{\"version\":\"3.7.3\",\"title\":\"Bokeh Application\",\"roots\":[{\"type\":\"object\",\"name\":\"Figure\",\"id\":\"5691da95-8cce-473e-8e54-819a92d30ea4\",\"attributes\":{\"width\":800,\"height\":300,\"x_range\":{\"type\":\"object\",\"name\":\"DataRange1d\",\"id\":\"f7a605af-d92f-4806-8f6e-5e0e4aac89be\"},\"y_range\":{\"type\":\"object\",\"name\":\"DataRange1d\",\"id\":\"a43412e4-e8b2-4228-b92f-4b758e04ff1a\"},\"x_scale\":{\"type\":\"object\",\"name\":\"LinearScale\",\"id\":\"9f4b035f-0ac6-48a9-af3b-f7a7561e2ccd\"},\"y_scale\":{\"type\":\"object\",\"name\":\"LinearScale\",\"id\":\"f1a8efea-be76-4dee-86a4-ba6f98a93308\"},\"title\":{\"type\":\"object\",\"name\":\"Title\",\"id\":\"49772f04-5ded-4420-8029-cc5508d6d34a\",\"attributes\":{\"text\":\"Comparison of Pricing Models per Location\"}},\"renderers\":[{\"type\":\"object\",\"name\":\"GlyphRenderer\",\"id\":\"2dad1434-3f4e-4a6e-99f3-a00754741be3\",\"attributes\":{\"data_source\":{\"type\":\"object\",\"name\":\"ColumnDataSource\",\"id\":\"ace82f56-8aa5-4b5a-aa76-19497cd35df1\",\"attributes\":{\"selected\":{\"type\":\"object\",\"name\":\"Selection\",\"id\":\"7cbabf34-1d45-494b-8329-e0c845f85dcb\",\"attributes\":{\"indices\":[],\"line_indices\":[]}},\"selection_policy\":{\"type\":\"object\",\"name\":\"UnionRenderers\",\"id\":\"f6781820-2b14-4ed8-8db9-a61574aa20cd\"},\"data\":{\"type\":\"map\",\"entries\":[[\"x\",{\"type\":\"ndarray\",\"array\":{\"type\":\"bytes\",\"data\":\"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\"},\"shape\":[1312],\"dtype\":\"int32\",\"order\":\"little\"}],[\"y\",{\"type\":\"ndarray\",\"array\":{\"type\":\"bytes\",\"data\":\"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\"},\"shape\":[1312],\"dtype\":\"float64\",\"order\":\"little\"}]]}}},\"view\":{\"type\":\"object\",\"name\":\"CDSView\",\"id\":\"93fef27d-4393-45b4-81e7-f682d16ba323\",\"attributes\":{\"filter\":{\"type\":\"object\",\"name\":\"AllIndices\",\"id\":\"76d7b447-4e05-4612-9e6a-39f4c60e0ade\"}}},\"glyph\":{\"type\":\"object\",\"name\":\"Line\",\"id\":\"580bcac7-47d2-4c25-af7b-21f9ba2a3e12\",\"attributes\":{\"x\":{\"type\":\"field\",\"field\":\"x\"},\"y\":{\"type\":\"field\",\"field\":\"y\"},\"line_color\":\"blue\"}},\"nonselection_glyph\":{\"type\":\"object\",\"name\":\"Line\",\"id\":\"5bebbed5-a0fb-4f9b-bb1f-41496f32109e\",\"attributes\":{\"x\":{\"type\":\"field\",\"field\":\"x\"},\"y\":{\"type\":\"field\",\"field\":\"y\"},\"line_color\":\"blue\",\"line_alpha\":0.1}},\"muted_glyph\":{\"type\":\"object\",\"name\":\"Line\",\"id\":\"567061ad-9e8d-48ea-ae49-b54f1ef32e60\",\"attributes\":{\"x\":{\"type\":\"field\",\"field\":\"x\"},\"y\":{\"type\":\"field\",\"field\":\"y\"},\"line_color\":\"blue\",\"line_alpha\":0.2}}}},{\"type\":\"object\",\"name\":\"GlyphRenderer\",\"id\":\"56196636-5965-4628-b1d6-bfbe69388ceb\",\"attributes\":{\"data_source\":{\"type\":\"object\",\"name\":\"ColumnDataSource\",\"id\":\"bf48d87b-0e91-44a5-93a7-02ec2763aad2\",\"attributes\":{\"selected\":{\"type\":\"object\",\"name\":\"Selection\",\"id\":\"e95d8596-f0bb-478d-9fa5-7e87f7fa15b3\",\"attributes\":{\"indices\":[],\"line_indices\":[]}},\"selection_policy\":{\"type\":\"object\",\"name\":\"UnionRenderers\",\"id\":\"73e336c4-44ff-4315-a245-2e736e7c9f16\"},\"data\":{\"type\":\"map\",\"entries\":[[\"x\",{\"type\":\"ndarray\",\"array\":{\"type\":\"bytes\",\"data\":\"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\"},\"shape\":[1312],\"dtype\":\"int32\",\"order\":\"little\"}],[\"y\",{\"type\":\"ndarray\",\"array\":{\"type\":\"bytes\",\"data\":\"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\"},\"shape\":[1312],\"dtype\":\"float64\",\"order\":\"little\"}]]}}},\"view\":{\"type\":\"object\",\"name\":\"CDSView\",\"id\":\"6220e3b3-426c-4fa0-977e-7399986e7475\",\"attributes\":{\"filter\":{\"type\":\"object\",\"name\":\"AllIndices\",\"id\":\"022fbbdd-4bc7-4bea-872a-fd31a18370c9\"}}},\"glyph\":{\"type\":\"object\",\"name\":\"Line\",\"id\":\"35dd89c3-dd1d-4766-b256-38b51af8f341\",\"attributes\":{\"x\":{\"type\":\"field\",\"field\":\"x\"},\"y\":{\"type\":\"field\",\"field\":\"y\"},\"line_color\":\"red\"}},\"nonselection_glyph\":{\"type\":\"object\",\"name\":\"Line\",\"id\":\"e4651717-9f64-495e-b397-c8c28a6f3c5b\",\"attributes\":{\"x\":{\"type\":\"field\",\"field\":\"x\"},\"y\":{\"type\":\"field\",\"field\":\"y\"},\"line_color\":\"red\",\"line_alpha\":0.1}},\"muted_glyph\":{\"type\":\"object\",\"name\":\"Line\",\"id\":\"f348f65a-0dbe-43fc-beea-e72d5bd9955b\",\"attributes\":{\"x\":{\"type\":\"field\",\"field\":\"x\"},\"y\":{\"type\":\"field\",\"field\":\"y\"},\"line_color\":\"red\",\"line_alpha\":0.2}}}},{\"type\":\"object\",\"name\":\"GlyphRenderer\",\"id\":\"80895b7a-9acd-49b5-956f-33f8453ffe61\",\"attributes\":{\"data_source\":{\"type\":\"object\",\"name\":\"ColumnDataSource\",\"id\":\"914cae31-d5de-4ff8-9603-4c810f6afa34\",\"attributes\":{\"selected\":{\"type\":\"object\",\"name\":\"Selection\",\"id\":\"f806b525-28cd-4b02-9562-4f6378f56497\",\"attributes\":{\"indices\":[],\"line_indices\":[]}},\"selection_policy\":{\"type\":\"object\",\"name\":\"UnionRenderers\",\"id\":\"fc6ba143-7be7-4961-97db-ee0dbfe6d135\"},\"data\":{\"type\":\"map\",\"entries\":[[\"x\",{\"type\":\"ndarray\",\"array\":{\"type\":\"bytes\",\"data\":\"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\"},\"shape\":[1312],\"dtype\":\"int32\",\"order\":\"little\"}],[\"y\",{\"type\":\"ndarray\",\"array\":{\"type\":\"bytes\",\"data\":\"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\"},\"shape\":[1312],\"dtype\":\"float64\",\"order\":\"little\"}]]}}},\"view\":{\"type\":\"object\",\"name\":\"CDSView\",\"id\":\"175e8cfd-4bf9-4bd5-94cd-cf8e44a31679\",\"attributes\":{\"filter\":{\"type\":\"object\",\"name\":\"AllIndices\",\"id\":\"77fe59e2-6f13-47cb-813a-aeb5b55e38e3\"}}},\"glyph\":{\"type\":\"object\",\"name\":\"Line\",\"id\":\"4f103609-e700-4e96-9464-76aa128544fc\",\"attributes\":{\"x\":{\"type\":\"field\",\"field\":\"x\"},\"y\":{\"type\":\"field\",\"field\":\"y\"},\"line_color\":\"green\"}},\"nonselection_glyph\":{\"type\":\"object\",\"name\":\"Line\",\"id\":\"80363eaa-917c-48b1-ba95-136672fbcfc0\",\"attributes\":{\"x\":{\"type\":\"field\",\"field\":\"x\"},\"y\":{\"type\":\"field\",\"field\":\"y\"},\"line_color\":\"green\",\"line_alpha\":0.1}},\"muted_glyph\":{\"type\":\"object\",\"name\":\"Line\",\"id\":\"5bfd664d-aa45-4929-bea2-538ded295205\",\"attributes\":{\"x\":{\"type\":\"field\",\"field\":\"x\"},\"y\":{\"type\":\"field\",\"field\":\"y\"},\"line_color\":\"green\",\"line_alpha\":0.2}}}}],\"toolbar\":{\"type\":\"object\",\"name\":\"Toolbar\",\"id\":\"e6d2858f-ff74-429d-ae49-bac65fb55319\",\"attributes\":{\"tools\":[{\"type\":\"object\",\"name\":\"PanTool\",\"id\":\"254d13ae-bbcb-4a07-b19e-485345df1da7\"},{\"type\":\"object\",\"name\":\"WheelZoomTool\",\"id\":\"7e717905-6996-4288-81d7-df4ccbc107a3\",\"attributes\":{\"renderers\":\"auto\"}},{\"type\":\"object\",\"name\":\"BoxZoomTool\",\"id\":\"61c94669-83d6-434b-8d99-2785cbd57ac3\",\"attributes\":{\"dimensions\":\"both\",\"overlay\":{\"type\":\"object\",\"name\":\"BoxAnnotation\",\"id\":\"10f95962-6697-48ca-b48a-a407f12d80ab\",\"attributes\":{\"syncable\":false,\"line_color\":\"black\",\"line_alpha\":1.0,\"line_width\":2,\"line_dash\":[4,4],\"fill_color\":\"lightgrey\",\"fill_alpha\":0.5,\"level\":\"overlay\",\"visible\":false,\"left\":{\"type\":\"number\",\"value\":\"nan\"},\"right\":{\"type\":\"number\",\"value\":\"nan\"},\"top\":{\"type\":\"number\",\"value\":\"nan\"},\"bottom\":{\"type\":\"number\",\"value\":\"nan\"},\"left_units\":\"canvas\",\"right_units\":\"canvas\",\"top_units\":\"canvas\",\"bottom_units\":\"canvas\",\"handles\":{\"type\":\"object\",\"name\":\"BoxInteractionHandles\",\"id\":\"3e6c0bec-5022-4e2f-b7e0-25c41f2d977f\",\"attributes\":{\"all\":{\"type\":\"object\",\"name\":\"AreaVisuals\",\"id\":\"5445fa15-22c9-4e44-9b8e-250390ad5aaa\",\"attributes\":{\"fill_color\":\"white\",\"hover_fill_color\":\"lightgray\"}}}}}}}},{\"type\":\"object\",\"name\":\"SaveTool\",\"id\":\"db0b6294-8b0c-4641-a937-939afa329055\"},{\"type\":\"object\",\"name\":\"ResetTool\",\"id\":\"b59b6cb9-8b5b-40d2-95c3-b338ca5b4db0\"},{\"type\":\"object\",\"name\":\"HelpTool\",\"id\":\"dccb9b50-a2ab-4eea-8f0e-5812e15ae4bd\"},{\"type\":\"object\",\"name\":\"HoverTool\",\"id\":\"77283b4c-48be-4b14-abba-9211dfc839d7\",\"attributes\":{\"renderers\":\"auto\",\"tooltips\":[[\"Index\",\"$index\"],[\"Baseline Price\",\"@baseline_price\"],[\"Demand-Based Price\",\"@demand_based_price\"],[\"Competitive Price\",\"@competitive_price\"]]}}]}},\"left\":[{\"type\":\"object\",\"name\":\"LinearAxis\",\"id\":\"abdb3f52-7da6-4fe3-a963-4452ecb736d3\",\"attributes\":{\"ticker\":{\"type\":\"object\",\"name\":\"BasicTicker\",\"id\":\"98cf8c51-0c5e-4003-bb5e-19aae26310b8\",\"attributes\":{\"mantissas\":[1,2,5]}},\"formatter\":{\"type\":\"object\",\"name\":\"BasicTickFormatter\",\"id\":\"4c773c9b-1b2d-48ab-9c6a-a74196f7b054\"},\"axis_label\":\"Price\",\"major_label_policy\":{\"type\":\"object\",\"name\":\"AllLabels\",\"id\":\"3e72e7ce-a9a2-408c-8c6a-2a70afaf1d72\"}}}],\"below\":[{\"type\":\"object\",\"name\":\"LinearAxis\",\"id\":\"b2756f8a-cef4-43b3-bc8c-51172bb47701\",\"attributes\":{\"ticker\":{\"type\":\"object\",\"name\":\"BasicTicker\",\"id\":\"2a3b0374-6414-4cf5-a66e-cc9f72db66ac\",\"attributes\":{\"mantissas\":[1,2,5]}},\"formatter\":{\"type\":\"object\",\"name\":\"BasicTickFormatter\",\"id\":\"97ec51ec-cacd-4313-9fa4-ac23dd1d8968\"},\"axis_label\":\"Data Point Index\",\"major_label_policy\":{\"type\":\"object\",\"name\":\"AllLabels\",\"id\":\"e939bfe5-56f9-4a4a-8b37-95ad00dea987\"}}}],\"center\":[{\"type\":\"object\",\"name\":\"Grid\",\"id\":\"c5aa26ff-cfe8-4648-affd-9c70d7f50461\",\"attributes\":{\"axis\":{\"id\":\"b2756f8a-cef4-43b3-bc8c-51172bb47701\"}}},{\"type\":\"object\",\"name\":\"Grid\",\"id\":\"b4bbcdef-0bfc-450a-b582-0a254afd22d5\",\"attributes\":{\"dimension\":1,\"axis\":{\"id\":\"abdb3f52-7da6-4fe3-a963-4452ecb736d3\"}}},{\"type\":\"object\",\"name\":\"Legend\",\"id\":\"cbed1815-0e9e-4772-bbe6-6ca9bc7917e8\",\"attributes\":{\"items\":[{\"type\":\"object\",\"name\":\"LegendItem\",\"id\":\"c9801706-0b8e-458a-9618-421fb3c9467e\",\"attributes\":{\"label\":{\"type\":\"value\",\"value\":\"Baseline Price\"},\"renderers\":[{\"id\":\"2dad1434-3f4e-4a6e-99f3-a00754741be3\"}]}},{\"type\":\"object\",\"name\":\"LegendItem\",\"id\":\"1bf4f504-1697-4aa2-b0a1-3133d96c2101\",\"attributes\":{\"label\":{\"type\":\"value\",\"value\":\"Demand-Based Price\"},\"renderers\":[{\"id\":\"56196636-5965-4628-b1d6-bfbe69388ceb\"}]}},{\"type\":\"object\",\"name\":\"LegendItem\",\"id\":\"43dd7b72-e962-47f8-b672-2615997c6745\",\"attributes\":{\"label\":{\"type\":\"value\",\"value\":\"Competitive Price\"},\"renderers\":[{\"id\":\"80895b7a-9acd-49b5-956f-33f8453ffe61\"}]}}]}}]}}],\"defs\":[{\"type\":\"model\",\"name\":\"ReactiveHTML1\"},{\"type\":\"model\",\"name\":\"FlexBox1\",\"properties\":[{\"name\":\"align_content\",\"kind\":\"Any\",\"default\":\"flex-start\"},{\"name\":\"align_items\",\"kind\":\"Any\",\"default\":\"flex-start\"},{\"name\":\"flex_direction\",\"kind\":\"Any\",\"default\":\"row\"},{\"name\":\"flex_wrap\",\"kind\":\"Any\",\"default\":\"wrap\"},{\"name\":\"gap\",\"kind\":\"Any\",\"default\":\"\"},{\"name\":\"justify_content\",\"kind\":\"Any\",\"default\":\"flex-start\"}]},{\"type\":\"model\",\"name\":\"FloatPanel1\",\"properties\":[{\"name\":\"config\",\"kind\":\"Any\",\"default\":{\"type\":\"map\"}},{\"name\":\"contained\",\"kind\":\"Any\",\"default\":true},{\"name\":\"position\",\"kind\":\"Any\",\"default\":\"right-top\"},{\"name\":\"offsetx\",\"kind\":\"Any\",\"default\":null},{\"name\":\"offsety\",\"kind\":\"Any\",\"default\":null},{\"name\":\"theme\",\"kind\":\"Any\",\"default\":\"primary\"},{\"name\":\"status\",\"kind\":\"Any\",\"default\":\"normalized\"}]},{\"type\":\"model\",\"name\":\"GridStack1\",\"properties\":[{\"name\":\"ncols\",\"kind\":\"Any\",\"default\":null},{\"name\":\"nrows\",\"kind\":\"Any\",\"default\":null},{\"name\":\"allow_resize\",\"kind\":\"Any\",\"default\":true},{\"name\":\"allow_drag\",\"kind\":\"Any\",\"default\":true},{\"name\":\"state\",\"kind\":\"Any\",\"default\":[]}]},{\"type\":\"model\",\"name\":\"drag1\",\"properties\":[{\"name\":\"slider_width\",\"kind\":\"Any\",\"default\":5},{\"name\":\"slider_color\",\"kind\":\"Any\",\"default\":\"black\"},{\"name\":\"value\",\"kind\":\"Any\",\"default\":50}]},{\"type\":\"model\",\"name\":\"click1\",\"properties\":[{\"name\":\"terminal_output\",\"kind\":\"Any\",\"default\":\"\"},{\"name\":\"debug_name\",\"kind\":\"Any\",\"default\":\"\"},{\"name\":\"clears\",\"kind\":\"Any\",\"default\":0}]},{\"type\":\"model\",\"name\":\"ReactiveESM1\",\"properties\":[{\"name\":\"esm_constants\",\"kind\":\"Any\",\"default\":{\"type\":\"map\"}}]},{\"type\":\"model\",\"name\":\"JSComponent1\",\"properties\":[{\"name\":\"esm_constants\",\"kind\":\"Any\",\"default\":{\"type\":\"map\"}}]},{\"type\":\"model\",\"name\":\"ReactComponent1\",\"properties\":[{\"name\":\"use_shadow_dom\",\"kind\":\"Any\",\"default\":true},{\"name\":\"esm_constants\",\"kind\":\"Any\",\"default\":{\"type\":\"map\"}}]},{\"type\":\"model\",\"name\":\"AnyWidgetComponent1\",\"properties\":[{\"name\":\"use_shadow_dom\",\"kind\":\"Any\",\"default\":true},{\"name\":\"esm_constants\",\"kind\":\"Any\",\"default\":{\"type\":\"map\"}}]},{\"type\":\"model\",\"name\":\"FastWrapper1\",\"properties\":[{\"name\":\"object\",\"kind\":\"Any\",\"default\":null},{\"name\":\"style\",\"kind\":\"Any\",\"default\":null}]},{\"type\":\"model\",\"name\":\"NotificationArea1\",\"properties\":[{\"name\":\"js_events\",\"kind\":\"Any\",\"default\":{\"type\":\"map\"}},{\"name\":\"max_notifications\",\"kind\":\"Any\",\"default\":5},{\"name\":\"notifications\",\"kind\":\"Any\",\"default\":[]},{\"name\":\"position\",\"kind\":\"Any\",\"default\":\"bottom-right\"},{\"name\":\"_clear\",\"kind\":\"Any\",\"default\":0},{\"name\":\"types\",\"kind\":\"Any\",\"default\":[{\"type\":\"map\",\"entries\":[[\"type\",\"warning\"],[\"background\",\"#ffc107\"],[\"icon\",{\"type\":\"map\",\"entries\":[[\"className\",\"fas fa-exclamation-triangle\"],[\"tagName\",\"i\"],[\"color\",\"white\"]]}]]},{\"type\":\"map\",\"entries\":[[\"type\",\"info\"],[\"background\",\"#007bff\"],[\"icon\",{\"type\":\"map\",\"entries\":[[\"className\",\"fas fa-info-circle\"],[\"tagName\",\"i\"],[\"color\",\"white\"]]}]]}]}]},{\"type\":\"model\",\"name\":\"Notification\",\"properties\":[{\"name\":\"background\",\"kind\":\"Any\",\"default\":null},{\"name\":\"duration\",\"kind\":\"Any\",\"default\":3000},{\"name\":\"icon\",\"kind\":\"Any\",\"default\":null},{\"name\":\"message\",\"kind\":\"Any\",\"default\":\"\"},{\"name\":\"notification_type\",\"kind\":\"Any\",\"default\":null},{\"name\":\"_rendered\",\"kind\":\"Any\",\"default\":false},{\"name\":\"_destroyed\",\"kind\":\"Any\",\"default\":false}]},{\"type\":\"model\",\"name\":\"TemplateActions1\",\"properties\":[{\"name\":\"open_modal\",\"kind\":\"Any\",\"default\":0},{\"name\":\"close_modal\",\"kind\":\"Any\",\"default\":0}]},{\"type\":\"model\",\"name\":\"BootstrapTemplateActions1\",\"properties\":[{\"name\":\"open_modal\",\"kind\":\"Any\",\"default\":0},{\"name\":\"close_modal\",\"kind\":\"Any\",\"default\":0}]},{\"type\":\"model\",\"name\":\"TemplateEditor1\",\"properties\":[{\"name\":\"layout\",\"kind\":\"Any\",\"default\":[]}]},{\"type\":\"model\",\"name\":\"MaterialTemplateActions1\",\"properties\":[{\"name\":\"open_modal\",\"kind\":\"Any\",\"default\":0},{\"name\":\"close_modal\",\"kind\":\"Any\",\"default\":0}]},{\"type\":\"model\",\"name\":\"request_value1\",\"properties\":[{\"name\":\"fill\",\"kind\":\"Any\",\"default\":\"none\"},{\"name\":\"_synced\",\"kind\":\"Any\",\"default\":null},{\"name\":\"_request_sync\",\"kind\":\"Any\",\"default\":0}]}]}};\n",
              "  const render_items = [{\"docid\":\"550e263e-9f9d-4eff-991c-3a3663c9e561\",\"roots\":{\"5691da95-8cce-473e-8e54-819a92d30ea4\":\"a08c19ed-63cf-40f2-bbec-3eeef51e32df\"},\"root_ids\":[\"5691da95-8cce-473e-8e54-819a92d30ea4\"]}];\n",
              "  void root.Bokeh.embed.embed_items_notebook(docs_json, render_items);\n",
              "  }\n",
              "  if (root.Bokeh !== undefined) {\n",
              "    embed_document(root);\n",
              "  } else {\n",
              "    let attempts = 0;\n",
              "    const timer = setInterval(function(root) {\n",
              "      if (root.Bokeh !== undefined) {\n",
              "        clearInterval(timer);\n",
              "        embed_document(root);\n",
              "      } else {\n",
              "        attempts++;\n",
              "        if (attempts > 100) {\n",
              "          clearInterval(timer);\n",
              "          console.log(\"Bokeh: ERROR: Unable to run BokehJS code because BokehJS library is missing\");\n",
              "        }\n",
              "      }\n",
              "    }, 10, root)\n",
              "  }\n",
              "})(window);"
            ],
            "application/vnd.bokehjs_exec.v0+json": ""
          },
          "metadata": {
            "application/vnd.bokehjs_exec.v0+json": {
              "id": "5691da95-8cce-473e-8e54-819a92d30ea4"
            }
          }
        }
      ],
      "source": [
        "# Creating a Bokeh figure\n",
        "p = figure(\n",
        "    title=\"Comparison of Pricing Models per Location\",\n",
        "    x_axis_label=\"Data Point Index\",\n",
        "    y_axis_label=\"Price\",\n",
        "    height=300,\n",
        "    width=800\n",
        ")\n",
        "if not location_data.empty:\n",
        "    p.line(\n",
        "        location_data.index,\n",
        "        location_data['baseline_price'],\n",
        "        legend_label=\"Baseline Price\",\n",
        "        color=\"blue\"\n",
        "    )\n",
        "    p.line(\n",
        "        location_data.index,\n",
        "        location_data['demand_based_price'],\n",
        "        legend_label=\"Demand-Based Price\",\n",
        "        color=\"red\"\n",
        "    )\n",
        "    p.line(\n",
        "        location_data.index,\n",
        "        location_data['competitive_price'],\n",
        "        legend_label=\"Competitive Price\",\n",
        "        color=\"green\"\n",
        "    )\n",
        "\n",
        "    # Add tooltips for interactivity\n",
        "    from bokeh.models import HoverTool\n",
        "    hover = HoverTool(\n",
        "        tooltips=[\n",
        "            (\"Index\", \"$index\"),\n",
        "            (\"Baseline Price\", \"@baseline_price\"),\n",
        "            (\"Demand-Based Price\", \"@demand_based_price\"),\n",
        "            (\"Competitive Price\", \"@competitive_price\"),\n",
        "        ]\n",
        "    )\n",
        "    p.add_tools(hover)\n",
        "\n",
        "\n",
        "    # Show the plot\n",
        "    show(p)\n",
        "else:\n",
        "    print(f\"No data found for location_id {location_to_plot}\")"
      ]
    },
    {
      "cell_type": "code",
      "source": [
        "# prompt: code to find the top 3 highest prices , and top 3 lowest prices for both demand and competitive pricing\n",
        "\n",
        "# Top 3 highest and lowest prices for Demand-Based Pricing\n",
        "top3_highest_demand = df_final.nlargest(3, 'demand_based_price')\n",
        "top3_lowest_demand = df_final.nsmallest(3, 'demand_based_price')\n",
        "\n",
        "print(\"\\nTop 3 Highest Demand-Based Prices:\")\n",
        "print(top3_highest_demand[['location_id','demand_based_price']])\n",
        "\n",
        "print(\"\\nTop 3 Lowest Demand-Based Prices:\")\n",
        "print(top3_lowest_demand[['location_id', 'demand_based_price']])\n",
        "\n",
        "# Top 3 highest and lowest prices for Competitive Pricing\n",
        "top3_highest_competitive = df_final.nlargest(3, 'competitive_price')\n",
        "top3_lowest_competitive = df_final.nsmallest(3, 'competitive_price')\n",
        "\n",
        "print(\"\\nTop 3 Highest Competitive Prices:\")\n",
        "print(top3_highest_competitive[['location_id', 'competitive_price']])\n",
        "\n",
        "print(\"\\nTop 3 Lowest Competitive Prices:\")\n",
        "print(top3_lowest_competitive[['location_id', 'competitive_price']])\n"
      ],
      "metadata": {
        "colab": {
          "base_uri": "https://localhost:8080/"
        },
        "id": "EdtnlsHoO_Vk",
        "outputId": "4bb51eea-1e7c-4edf-c546-68a4e2eaed88"
      },
      "execution_count": 221,
      "outputs": [
        {
          "output_type": "stream",
          "name": "stdout",
          "text": [
            "\n",
            "Top 3 Highest Demand-Based Prices:\n",
            "      location_id  demand_based_price\n",
            "6193            4                18.0\n",
            "6390            4                18.0\n",
            "6392            4                18.0\n",
            "\n",
            "Top 3 Lowest Demand-Based Prices:\n",
            "      location_id  demand_based_price\n",
            "7713            5           10.000000\n",
            "7712            5           10.013359\n",
            "7714            5           10.013359\n",
            "\n",
            "Top 3 Highest Competitive Prices:\n",
            "      location_id  competitive_price\n",
            "6399            4          18.022975\n",
            "6057            4          18.002393\n",
            "6520            4          18.000247\n",
            "\n",
            "Top 3 Lowest Competitive Prices:\n",
            "       location_id  competitive_price\n",
            "18367           13           5.000000\n",
            "7713             5          10.000005\n",
            "7712             5          10.012030\n"
          ]
        }
      ]
    }
  ],
  "metadata": {
    "colab": {
      "provenance": []
    },
    "kernelspec": {
      "display_name": "Python 3",
      "name": "python3"
    },
    "language_info": {
      "name": "python"
    }
  },
  "nbformat": 4,
  "nbformat_minor": 0
}